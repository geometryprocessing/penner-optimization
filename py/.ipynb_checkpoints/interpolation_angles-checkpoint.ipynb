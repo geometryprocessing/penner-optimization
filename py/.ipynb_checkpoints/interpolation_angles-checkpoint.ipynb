{
 "cells": [
  {
   "cell_type": "code",
   "execution_count": null,
   "id": "a2e50d49",
   "metadata": {},
   "outputs": [],
   "source": [
    "import os, io, cProfile, pstats, pickle, shutil\n",
    "import sys\n",
    "import igl\n",
    "import meshplot as plot\n",
    "import pickle\n",
    "from init_cm_data import *\n",
    "from conformal_impl.optimization import *\n",
    "from conformal_impl.layout import *\n",
    "import matplotlib\n",
    "import matplotlib.pyplot as plt\n",
    "import conformal_impl.functions_with_jacobians as FWJ\n",
    "#from conformal_py import *\n",
    "%load_ext autoreload\n",
    "%autoreload 2\n"
   ]
  },
  {
   "cell_type": "code",
   "execution_count": null,
   "id": "c4ed3992",
   "metadata": {},
   "outputs": [],
   "source": [
    "def symmetric_stretches(lambdas, lambdas_target):\n",
    "    l = np.exp(lambdas/2)\n",
    "    l_target = np.exp(lambdas_target/2)\n",
    "    return 0.5*(l/l_target + l_target/l)"
   ]
  },
  {
   "cell_type": "markdown",
   "id": "140eafb4",
   "metadata": {},
   "source": [
    "## Checkpoint Lambdas\n",
    "\n",
    "Methods to open a mesh, Th_hat file with possible interpolation, and lambdas from a checkpoint."
   ]
  },
  {
   "cell_type": "code",
   "execution_count": null,
   "id": "03d2ebfc",
   "metadata": {},
   "outputs": [],
   "source": [
    "#m = 'raptor50K_0'\n",
    "#m = 'raptor50K'\n",
    "#m = 'gearbox'\n",
    "m = 'helmet'\n",
    "#m = 'knot1'\n",
    "#data_dir = \"../data/extreme_scale_diff_patches\"\n",
    "data_dir = \"../data/cut-Myles-simple\"\n",
    "#checkpoints_dir = \"../output/checkpoints/optimization/\"\n",
    "#checkpoints_dir = \"../output/high_scale_diff_patches/optimization/\"\n",
    "#checkpoints_dir = \"../output/extreme_scale_diff_patches/optimization/\"\n",
    "\n",
    "#m_checkpoints_dir = os.path.join(checkpoints_dir, m+'_lambdas')\n",
    "#lambdas_init_path = os.path.join(m_checkpoints_dir, 'lambdas_init')\n",
    "#lambdas_init = np.loadtxt(lambdas_init_path,dtype=float)\n",
    "#lambdas_path = os.path.join(m_checkpoints_dir, 'lambdas_'+str(k))\n"
   ]
  },
  {
   "cell_type": "code",
   "execution_count": null,
   "id": "dce4e03a",
   "metadata": {},
   "outputs": [],
   "source": [
    "# Open Mesh\n",
    "v, f = igl.read_triangle_mesh(data_dir+'/'+m+'.obj')\n",
    "Th_hat = np.loadtxt(data_dir+\"/\"+m+'_Th_hat',dtype=float)\n",
    "float_type=float\n",
    "CMs = prepare_cm_data(v,\n",
    "                      f,\n",
    "                      Th_hat,\n",
    "                      unit_lengths=False,\n",
    "                      float_type=float_type,\n",
    "                      tufted_cover=False)\n",
    "C = CMs[0][0].C\n",
    "R = CMs[0][0].R\n",
    "phi = CMs[0][0].phi\n",
    "elen = CMs[0][0].l\n",
    "Th_hat_target = CMs[0][0].Th_hat\n",
    "lambdas_target = 2*np.log(elen)\n",
    "\n",
    "\n",
    "C_cpp = Connectivity_cpp()\n",
    "C_cpp.n = C.next_he\n",
    "C_cpp.prev = C.prev_he\n",
    "C_cpp.to = C.to\n",
    "C_cpp.f = C.he2f\n",
    "C_cpp.h = C.f2he\n",
    "C_cpp.out = C.out\n",
    "C_cpp.opp = C.opp \n",
    "\n",
    "# Get initial angles\n",
    "Th_hat_init = initial_angles(C_cpp, lambdas_target, float_type)\n",
    "\n"
   ]
  },
  {
   "cell_type": "code",
   "execution_count": null,
   "id": "33a41710",
   "metadata": {},
   "outputs": [],
   "source": [
    "# Get initial angles\n",
    "Th_hat_init = initial_angles(C_cpp, lambdas_target, float_type)\n"
   ]
  },
  {
   "cell_type": "code",
   "execution_count": null,
   "id": "2d1eb7a9",
   "metadata": {},
   "outputs": [],
   "source": [
    "n = 81"
   ]
  },
  {
   "cell_type": "markdown",
   "id": "7149bf3a",
   "metadata": {},
   "source": [
    "## Individual Functions"
   ]
  },
  {
   "cell_type": "code",
   "execution_count": null,
   "id": "0274f34c",
   "metadata": {},
   "outputs": [],
   "source": [
    "# Prepare parameters\n",
    "beta = 1\n",
    "min_ratio = 0.1\n",
    "num_opt_iter = 25\n",
    "proj_params = {}\n",
    "opt_params = { 'max_angle': 50 }\n",
    "proj_params_struct = ProjectionParameters()\n",
    "if 'max_itr' in proj_params:\n",
    "    proj_params_struct.max_itr = proj_params['max_itr']\n",
    "if 'bound_norm_thres' in proj_params:\n",
    "    proj_params_struct.bound_norm_thres = proj_params['bound_norm_thres']\n",
    "if 'error_eps' in proj_params:\n",
    "    proj_params_struct.error_eps = proj_params['error_eps']\n",
    "proj_params_struct.do_reduction = True\n",
    "p = opt_params['p'] if 'p' in opt_params else 2\n",
    "require_energy_decr = opt_params['require_energy_decr'] if 'require_energy_decr' in opt_params else True\n",
    "max_angle_incr = opt_params['max_angle_incr'] if 'max_angle_incr' in opt_params else True\n",
    "\n",
    "print(\"Starting optimization\")\n",
    "# FIXME Fix for C\n",
    "#print_status(C, lambdas_init, lambdas_target, Th_hat, float_type, p=p)"
   ]
  },
  {
   "cell_type": "code",
   "execution_count": null,
   "id": "eee2babe",
   "metadata": {},
   "outputs": [],
   "source": [
    "# Project to the constraint for the initial lengths\n",
    "conf_lambdas = {}\n",
    "conf_dir = {}\n",
    "for s in np.linspace(0,1,n):\n",
    "    Th_hat = s * Th_hat_target + (1 - s) * Th_hat_init\n",
    "    conf_lambdas[s] = np.array(project_to_constraint(C_cpp,\n",
    "                                                     lambdas_target,\n",
    "                                                     Th_hat,\n",
    "                                                     proj_params_struct))\n",
    "    conf_dir[s] = line_search_direction(C_cpp,\n",
    "                                        lambdas_target,\n",
    "                                        conf_lambdas[s],\n",
    "                                        Th_hat)\n"
   ]
  },
  {
   "cell_type": "code",
   "execution_count": null,
   "id": "ff2c5987",
   "metadata": {},
   "outputs": [],
   "source": [
    "# Full optimization\n",
    "opt_lambdas = {}\n",
    "opt_dir = {}\n",
    "for s in np.linspace(0,1,n):\n",
    "    Th_hat = s * Th_hat_target + (1 - s) * Th_hat_init\n",
    "    _, opt_lambdas[s] = optimize_lambdas(C_cpp,\n",
    "                                         lambdas_target,\n",
    "                                         lambdas_target,\n",
    "                                         Th_hat,\n",
    "                                         beta,\n",
    "                                         min_ratio,\n",
    "                                         float_type,\n",
    "                                         num_opt_iter,\n",
    "                                         \"\",\n",
    "                                         1,\n",
    "                                         proj_params=proj_params,\n",
    "                                         opt_params=opt_params)\n",
    "    opt_dir[s] = line_search_direction(C_cpp,\n",
    "                                       lambdas_target,\n",
    "                                       opt_lambdas[s],\n",
    "                                       Th_hat)\n",
    "\n"
   ]
  },
  {
   "cell_type": "code",
   "execution_count": null,
   "id": "1a93dbab",
   "metadata": {
    "scrolled": true
   },
   "outputs": [],
   "source": [
    "# Full optimization\n",
    "incr_lambdas = {}\n",
    "incr_dir_before = {}\n",
    "incr_dir_after = {}\n",
    "lambdas = lambdas_target\n",
    "for s in np.linspace(0,1,n):\n",
    "    Th_hat = s * Th_hat_target + (1 - s) * Th_hat_init\n",
    "    lambdas_proj = np.array(project_to_constraint(C_cpp,\n",
    "                                                  lambdas,\n",
    "                                                  Th_hat,\n",
    "                                                  proj_params_struct))\n",
    "    incr_dir_before[s] = line_search_direction(C_cpp,\n",
    "                                               lambdas_target,\n",
    "                                               lambdas_proj,\n",
    "                                               Th_hat)\n",
    "    _, lambdas = optimize_lambdas(C_cpp,\n",
    "                                  lambdas,\n",
    "                                  lambdas_target,\n",
    "                                  Th_hat,\n",
    "                                  beta,\n",
    "                                  min_ratio,\n",
    "                                  float_type,\n",
    "                                  num_opt_iter,\n",
    "                                  \"\",\n",
    "                                  1,\n",
    "                                  proj_params=proj_params,\n",
    "                                  opt_params=opt_params)\n",
    "    incr_lambdas[s] = lambdas\n",
    "    incr_dir_after[s] = line_search_direction(C_cpp,\n",
    "                                              lambdas_target,\n",
    "                                              lambdas,\n",
    "                                              Th_hat)\n",
    "\n"
   ]
  },
  {
   "cell_type": "code",
   "execution_count": null,
   "id": "979debdb",
   "metadata": {},
   "outputs": [],
   "source": [
    "for s in np.linspace(0,1,n):\n",
    "    print(s)\n",
    "    print(norm(conf_dir[s]))\n",
    "    print(norm(opt_dir[s]))\n",
    "    print(norm(incr_dir_before[s]))\n",
    "    print(norm(incr_dir_after[s]))\n",
    "    print()\n",
    "    "
   ]
  },
  {
   "cell_type": "code",
   "execution_count": null,
   "id": "5fcb22ea",
   "metadata": {},
   "outputs": [],
   "source": [
    "s_vals = np.linspace(0,1,n)\n",
    "conf_norm_vals = []\n",
    "opt_norm_vals = []\n",
    "incr_before_norm_vals = []\n",
    "incr_after_norm_vals = []\n",
    "for s in np.linspace(0,1,n):\n",
    "    conf_norm_vals.append(norm(conf_dir[s]))\n",
    "    opt_norm_vals.append(norm(opt_dir[s]))\n",
    "    incr_before_norm_vals.append(norm(incr_dir_before[s]))\n",
    "    incr_after_norm_vals.append(norm(incr_dir_after[s]))\n",
    "os.makedirs(os.path.join(output_dir, m), exist_ok=True)\n",
    "plt.clf()\n",
    "plt.plot(s_vals, conf_norm_vals)\n",
    "plt.title(\"Post conformal direction norms for {} with {} steps\".format(m, n))\n",
    "plt.savefig(os.path.join(output_dir, m, '{}_conf_dir_norm_{}.png'.format(m,n)))\n",
    "output_dir = \"../output/direction_norms\"\n",
    "\n",
    "\n"
   ]
  },
  {
   "cell_type": "code",
   "execution_count": null,
   "id": "94f2846f",
   "metadata": {},
   "outputs": [],
   "source": [
    "plt.clf()\n",
    "plt.plot(s_vals, opt_norm_vals)\n",
    "plt.title(\"Post optimization direction norms for {} with {} steps and {} iters\".format(m, n, num_opt_iter))\n",
    "plt.savefig(os.path.join(output_dir, m, '{}_opt_dir_norm_{}_{}.png'.format(m,n,num_opt_iter)))\n"
   ]
  },
  {
   "cell_type": "code",
   "execution_count": null,
   "id": "b5bcaba4",
   "metadata": {},
   "outputs": [],
   "source": [
    "plt.clf()\n",
    "plt.plot(s_vals, incr_before_norm_vals)\n",
    "plt.title(\"Pre incremental direction norms for {} with {} steps and {} iters\".format(m, n, num_opt_iter))\n",
    "plt.savefig(os.path.join(output_dir, m, '{}_incr_dir_before_norm_{}_{}.png'.format(m,n,num_opt_iter)))\n"
   ]
  },
  {
   "cell_type": "code",
   "execution_count": null,
   "id": "713b477a",
   "metadata": {},
   "outputs": [],
   "source": [
    "plt.clf()\n",
    "plt.plot(s_vals, incr_after_norm_vals)\n",
    "plt.title(\"Post incremental direction norms for {} with {} steps and {} iters\".format(m, n, num_opt_iter))\n",
    "plt.savefig(os.path.join(output_dir, m, '{}_incr_dir_after_norm_{}_{}.png'.format(m,n,num_opt_iter)))\n"
   ]
  },
  {
   "cell_type": "markdown",
   "id": "f0e6291e",
   "metadata": {},
   "source": [
    "## Convergence error"
   ]
  },
  {
   "cell_type": "code",
   "execution_count": null,
   "id": "685e96ad",
   "metadata": {},
   "outputs": [],
   "source": [
    "def interpolate(s_vals, f_vals):\n",
    "    s_inter = []\n",
    "    f_inter = []\n",
    "    for i, s in enumerate(s_vals):\n",
    "        if i == 0:\n",
    "            s_inter.append(s)\n",
    "            f_inter.append(f_vals[i])\n",
    "        else:\n",
    "            s_inter.append((s_vals[i - 1] + s)/2)\n",
    "            f_inter.append((f_vals[i - 1] + f_vals[i])/2)\n",
    "            s_inter.append(s)\n",
    "            f_inter.append(f_vals[i])\n",
    "            \n",
    "    return s_inter, f_inter\n"
   ]
  },
  {
   "cell_type": "code",
   "execution_count": null,
   "id": "4d1f04c9",
   "metadata": {},
   "outputs": [],
   "source": [
    "def integrate(s_vals, f_vals):\n",
    "    f_int = []\n",
    "    for i, s in enumerate(s_vals):\n",
    "        if i == 0:\n",
    "            f_int.append(0)\n",
    "        else:\n",
    "            f_int.append((f_vals[i] + f_vals[i-1])*(s - s_vals[i-1])/2 + f_int[i-1])\n",
    "            \n",
    "    return f_int\n",
    "\n"
   ]
  },
  {
   "cell_type": "code",
   "execution_count": null,
   "id": "bc64d459",
   "metadata": {},
   "outputs": [],
   "source": [
    "models"
   ]
  },
  {
   "cell_type": "code",
   "execution_count": null,
   "id": "2b28f751",
   "metadata": {
    "scrolled": true
   },
   "outputs": [],
   "source": [
    "# Integrate conformal derivatives to check if same as conformal distance\n",
    "n = 65\n",
    "integral = 0\n",
    "for f in conf_dist_n[n]:\n",
    "    integral += f\n",
    "print(integral)"
   ]
  },
  {
   "cell_type": "code",
   "execution_count": null,
   "id": "1031733a",
   "metadata": {},
   "outputs": [],
   "source": [
    "# Open Mesh\n",
    "#m = 'knot1'\n",
    "m = 'helmet'\n",
    "#m = 'block'\n",
    "min_ratio = 0.001\n",
    "conf_path = False\n",
    "v, f = igl.read_triangle_mesh(data_dir+'/'+m+'.obj')\n",
    "Th_hat = np.loadtxt(data_dir+\"/\"+m+'_Th_hat',dtype=float)\n",
    "float_type=float\n",
    "CMs = prepare_cm_data(v,\n",
    "                      f,\n",
    "                      Th_hat,\n",
    "                      unit_lengths=False,\n",
    "                      float_type=float_type,\n",
    "                      tufted_cover=False)\n",
    "C = CMs[0][0].C\n",
    "R = CMs[0][0].R\n",
    "phi = CMs[0][0].phi\n",
    "elen = CMs[0][0].l\n",
    "Th_hat_target = CMs[0][0].Th_hat\n",
    "lambdas_target = 2*np.log(elen)\n",
    "\n",
    "\n",
    "C_cpp = Connectivity_cpp()\n",
    "C_cpp.n = C.next_he\n",
    "C_cpp.prev = C.prev_he\n",
    "C_cpp.to = C.to\n",
    "C_cpp.f = C.he2f\n",
    "C_cpp.h = C.f2he\n",
    "C_cpp.out = C.out\n",
    "C_cpp.opp = C.opp \n",
    "\n",
    "# Get initial angles\n",
    "Th_hat_init = initial_angles(C_cpp, lambdas_target, float_type)\n"
   ]
  },
  {
   "cell_type": "code",
   "execution_count": null,
   "id": "f5369078",
   "metadata": {},
   "outputs": [],
   "source": [
    "# Full optimization\n",
    "n_vals = [33] #[3, 5, 9, 17, 33, 65]#, 129, 257, 513, 1025]\n",
    "num_opt_iter = 250\n",
    "s_vals_n = {}\n",
    "incr_dir_before_n = {}\n",
    "incr_dir_after_n = {}\n",
    "incr_dir_corr_before_n = {}\n",
    "incr_dir_corr_after_n = {}\n",
    "conf_deriv_n = {}\n",
    "opt_deriv_n = {}\n",
    "conf_err_n = {}\n",
    "dist_n = {}\n",
    "\n",
    "\n",
    "for n in n_vals:\n",
    "    s_vals = np.linspace(0,1,n)\n",
    "    incr_lambdas = {}\n",
    "    incr_dir_before = []\n",
    "    incr_dir_after = []\n",
    "    incr_dir_corr_before = []\n",
    "    incr_dir_corr_after = []\n",
    "    conf_deriv = []\n",
    "    opt_deriv = []\n",
    "    conf_err = []\n",
    "    dist = []\n",
    "    \n",
    "    lambdas_prev = lambdas_target\n",
    "    for s in s_vals:\n",
    "        Th_hat = s * Th_hat_target + (1 - s) * Th_hat_init\n",
    "        \n",
    "        # Take step on the conformal projection path\n",
    "        lambdas_proj = np.array(project_to_constraint(C_cpp,\n",
    "                                                      lambdas_prev,\n",
    "                                                      Th_hat,\n",
    "                                                      proj_params_struct))\n",
    "        ls_dir_before = np.array(line_search_direction(C_cpp,\n",
    "                                                       lambdas_target,\n",
    "                                                       lambdas_proj,\n",
    "                                                       Th_hat))\n",
    "        incr_dir_before.append(norm(ls_dir_before))\n",
    "        incr_dir_corr_before.append(norm(lambdas_proj + ls_dir_before - lambdas_target))\n",
    "        conf_deriv.append((n-1)*norm(lambdas_prev-lambdas_proj))\n",
    "\n",
    "\n",
    "        # Take step on the optimization path\n",
    "        _, lambdas = optimize_lambdas(C_cpp,\n",
    "                                      lambdas_prev,\n",
    "                                      lambdas_target,\n",
    "                                      Th_hat,\n",
    "                                      beta,\n",
    "                                      min_ratio,\n",
    "                                      float_type,\n",
    "                                      num_opt_iter,\n",
    "                                      \"\",\n",
    "                                      1,\n",
    "                                      proj_params=proj_params,\n",
    "                                      opt_params=opt_params)\n",
    "        ls_dir_after = np.array(line_search_direction(C_cpp,\n",
    "                                                      lambdas_target,\n",
    "                                                      lambdas,\n",
    "                                                      Th_hat))\n",
    "        incr_dir_after.append(norm(ls_dir_after))\n",
    "        incr_dir_corr_after.append(norm(lambdas + ls_dir_after - lambdas_target))        \n",
    "        opt_deriv.append(norm(lambdas_prev-lambdas)/norm(lambdas_prev))\n",
    "        \n",
    "        # Update lambdas depending on if using conformal or optimization path\n",
    "        if conf_path:\n",
    "            lambdas_prev = lambdas_proj\n",
    "            dist.append(norm(lambdas_proj-lambdas_target))\n",
    "        else:\n",
    "            lambdas_prev = lambdas\n",
    "            dist.append(norm(lambdas-lambdas_target))\n",
    "        conf_err.append(norm(lambdas_proj-lambdas))\n",
    "\n",
    "\n",
    "    s_vals_n[n] = s_vals\n",
    "    incr_dir_before_n[n] = np.array(incr_dir_before)\n",
    "    incr_dir_after_n[n] = np.array(incr_dir_after)\n",
    "    incr_dir_corr_before_n[n] = np.array(incr_dir_corr_before)\n",
    "    incr_dir_corr_after_n[n] = np.array(incr_dir_corr_after)\n",
    "    conf_deriv_n[n] = np.array(conf_deriv)\n",
    "    opt_deriv_n[n] = np.array(opt_deriv)\n",
    "    conf_err_n[n] = np.array(conf_err)\n",
    "    dist_n[n] = np.array(dist)\n",
    "    \n",
    "\n"
   ]
  },
  {
   "cell_type": "code",
   "execution_count": null,
   "id": "27971c4b",
   "metadata": {},
   "outputs": [],
   "source": [
    "plt.clf()\n",
    "plt.plot(np.array(s_vals_n[n]),\n",
    "         np.array(opt_deriv_n[n]))"
   ]
  },
  {
   "cell_type": "code",
   "execution_count": null,
   "id": "12c2ea12",
   "metadata": {},
   "outputs": [],
   "source": [
    "plt.clf()\n",
    "plt.plot(np.array(s_vals_n[n]),\n",
    "         np.array(opt_deriv_n[n]))"
   ]
  },
  {
   "cell_type": "code",
   "execution_count": null,
   "id": "d65bb82e",
   "metadata": {},
   "outputs": [],
   "source": [
    "for i in np.arange(len(n_vals)):\n",
    "    for n in n_vals[:i]:\n",
    "        print(i, n)\n",
    "        _, incr_dir_before_n[n] = interpolate(s_vals_n[n], incr_dir_before_n[n])\n",
    "        _, incr_dir_after_n[n] = interpolate(s_vals_n[n], incr_dir_after_n[n])\n",
    "        _, incr_dir_corr_before_n[n] = interpolate(s_vals_n[n], incr_dir_corr_before_n[n])\n",
    "        _, incr_dir_corr_after_n[n] = interpolate(s_vals_n[n], incr_dir_corr_after_n[n])\n",
    "        _, conf_deriv_n[n] = interpolate(s_vals_n[n], conf_deriv_n[n])\n",
    "        _, opt_deriv_n[n] = interpolate(s_vals_n[n], opt_deriv_n[n])\n",
    "        _, dist_n[n] = interpolate(s_vals_n[n], dist_n[n])\n",
    "        s_vals_n[n], conf_err_n[n] = interpolate(s_vals_n[n], conf_err_n[n])\n",
    "        \n",
    "        "
   ]
  },
  {
   "cell_type": "code",
   "execution_count": null,
   "id": "b8a75f83",
   "metadata": {},
   "outputs": [],
   "source": [
    "opt_deriv_integral_n = {}\n",
    "conf_deriv_integral_n = {}\n",
    "for n in n_vals:\n",
    "    conf_deriv_integral_n[n] = integrate(s_vals_n[n], conf_deriv_n[n])\n",
    "    opt_deriv_integral_n[n] = integrate(s_vals_n[n], opt_deriv_n[n])\n",
    "    "
   ]
  },
  {
   "cell_type": "code",
   "execution_count": null,
   "id": "37dc158f",
   "metadata": {},
   "outputs": [],
   "source": [
    "output_dir = \"../output/distance_norms\"\n",
    "os.makedirs(os.path.join(output_dir, m), exist_ok=True)\n",
    "os.makedirs(os.path.join(output_dir, m, 'dir_before'), exist_ok=True)\n",
    "os.makedirs(os.path.join(output_dir, m, 'dir_after'), exist_ok=True)\n",
    "os.makedirs(os.path.join(output_dir, m, 'dir_corr_before'), exist_ok=True)\n",
    "os.makedirs(os.path.join(output_dir, m, 'dir_corr_after'), exist_ok=True)\n",
    "os.makedirs(os.path.join(output_dir, m, 'conf_deriv'), exist_ok=True)\n",
    "os.makedirs(os.path.join(output_dir, m, 'opt_deriv'), exist_ok=True)\n",
    "os.makedirs(os.path.join(output_dir, m, 'conf_deriv_integral'), exist_ok=True)\n",
    "os.makedirs(os.path.join(output_dir, m, 'opt_deriv_integral'), exist_ok=True)\n",
    "os.makedirs(os.path.join(output_dir, m, 'conf_err'), exist_ok=True)\n",
    "os.makedirs(os.path.join(output_dir, m, 'dist'), exist_ok=True)\n",
    "if conf_path:\n",
    "    path_name = 'conf_path'\n",
    "else:\n",
    "    path_name = 'opt_path'\n",
    "\n",
    "for n in n_vals:\n",
    "    plt.clf()\n",
    "    plt.plot(np.array(s_vals_n[n]),\n",
    "             np.array(incr_dir_before_n[n]))\n",
    "    plt.title(\"Direction norm before step for {} with {} steps and {} iters\".format(m, n, num_opt_iter))\n",
    "    plt.savefig(os.path.join(output_dir, m, 'dir_before', '{}_{}_{}_{}.png'.format(m, path_name, n, num_opt_iter)))\n",
    "\n",
    "    plt.clf()\n",
    "    plt.plot(np.array(s_vals_n[n]),\n",
    "             np.array(incr_dir_after_n[n]))\n",
    "    plt.title(\"Direction norm after step for {} with {} steps and {} iters\".format(m, n, num_opt_iter))\n",
    "    plt.savefig(os.path.join(output_dir, m, 'dir_after', '{}_{}_{}_{}.png'.format(m, path_name, n, num_opt_iter)))\n",
    "\n",
    "    plt.clf()\n",
    "    plt.plot(np.array(s_vals_n[n]),\n",
    "             np.array(incr_dir_corr_before_n[n]))\n",
    "    plt.title(\"Direction correction norm before step for {} with {} steps and {} iters\".format(m, n, num_opt_iter))\n",
    "    plt.savefig(os.path.join(output_dir, m, 'dir_corr_before', '{}_{}_{}_{}.png'.format(m, path_name, n, num_opt_iter)))\n",
    "\n",
    "    plt.clf()\n",
    "    plt.plot(np.array(s_vals_n[n]),\n",
    "             np.array(incr_dir_corr_after_n[n]))\n",
    "    plt.title(\"Direction correction norm after step for {} with {} steps and {} iters\".format(m, n, num_opt_iter))\n",
    "    plt.savefig(os.path.join(output_dir, m, 'dir_corr_after', '{}_{}_{}_{}.png'.format(m, path_name, n, num_opt_iter)))\n",
    "\n",
    "    plt.clf()\n",
    "    plt.plot(np.array(s_vals_n[n]),\n",
    "             np.array(conf_deriv_n[n]))\n",
    "    plt.title(\"Conformal derivative for {} with {} steps and {} iters\".format(m, n, num_opt_iter))\n",
    "    plt.savefig(os.path.join(output_dir, m, 'conf_deriv', '{}_{}_{}_{}.png'.format(m, path_name, n, num_opt_iter)))\n",
    "\n",
    "    plt.clf()\n",
    "    plt.plot(np.array(s_vals_n[n]),\n",
    "             np.array(opt_deriv_n[n]))\n",
    "    plt.title(\"Optimization derivative for {} with {} steps and {} iters\".format(m, n, num_opt_iter))\n",
    "    plt.savefig(os.path.join(output_dir, m, 'opt_deriv', '{}_{}_{}_{}.png'.format(m, path_name, n, num_opt_iter)))\n",
    "\n",
    "    plt.clf()\n",
    "    plt.plot(np.array(s_vals_n[n]),\n",
    "             np.array(conf_deriv_integral_n[n]))\n",
    "    plt.title(\"Conformal derivative integral for {} with {} steps and {} iters\".format(m, n, num_opt_iter))\n",
    "    plt.savefig(os.path.join(output_dir, m, 'conf_deriv_integral', '{}_{}_{}_{}.png'.format(m, path_name, n, num_opt_iter)))\n",
    "\n",
    "    plt.clf()\n",
    "    plt.plot(np.array(s_vals_n[n]),\n",
    "             np.array(opt_deriv_integral_n[n]))\n",
    "    plt.title(\"Optimization derivative integral for {} with {} steps and {} iters\".format(m, n, num_opt_iter))\n",
    "    plt.savefig(os.path.join(output_dir, m, 'opt_deriv_integral', '{}_{}_{}_{}.png'.format(m, path_name, n, num_opt_iter)))\n",
    "\n",
    "    plt.clf()\n",
    "    plt.plot(np.array(s_vals_n[n]),\n",
    "             np.array(conf_err_n[n]))\n",
    "    plt.title(\"Conformal error for {} with {} steps and {} iters\".format(m, n, num_opt_iter))\n",
    "    plt.savefig(os.path.join(output_dir, m, 'conf_err', '{}_{}_{}_{}.png'.format(m, path_name, n, num_opt_iter)))\n",
    "\n",
    "    plt.clf()\n",
    "    plt.plot(np.array(s_vals_n[n]),\n",
    "             np.array(dist_n[n]))\n",
    "    plt.title(\"Lambdas distance for {} with {} steps and {} iters\".format(m, n, num_opt_iter))\n",
    "    plt.savefig(os.path.join(output_dir, m, 'dist', '{}_{}_{}_{}.png'.format(m, path_name, n, num_opt_iter)))\n",
    "\n"
   ]
  },
  {
   "cell_type": "code",
   "execution_count": null,
   "id": "63e619fe",
   "metadata": {},
   "outputs": [],
   "source": [
    "s_vals_n[n]"
   ]
  },
  {
   "cell_type": "code",
   "execution_count": null,
   "id": "09a08569",
   "metadata": {},
   "outputs": [],
   "source": [
    "plt.clf()\n",
    "plt.plot(np.array(s_vals_n[n]),\n",
    "         np.array(conf_dist_n[n]))\n",
    "plt.title(\"Post incremental direction norms for {} with {} steps and {} iters\".format(m, n, num_opt_iter))\n",
    "\n"
   ]
  },
  {
   "cell_type": "code",
   "execution_count": null,
   "id": "600ac56d",
   "metadata": {},
   "outputs": [],
   "source": [
    "plt.clf()\n",
    "plt.plot(np.array(s_vals_n[n]),\n",
    "         np.array(opt_dist_n[n]))\n",
    "plt.title(\"Post incremental direction norms for {} with {} steps and {} iters\".format(m, n, num_opt_iter))\n",
    "\n"
   ]
  },
  {
   "cell_type": "code",
   "execution_count": null,
   "id": "5ec7ea7b",
   "metadata": {},
   "outputs": [],
   "source": [
    "plt.clf()\n",
    "plt.plot(np.array(s_vals_n[n]),\n",
    "         np.array(conf_err_n[n]))\n",
    "plt.title(\"Post incremental direction norms for {} with {} steps and {} iters\".format(m, n, num_opt_iter))\n",
    "\n"
   ]
  },
  {
   "cell_type": "code",
   "execution_count": null,
   "id": "f54c140e",
   "metadata": {},
   "outputs": [],
   "source": [
    "conf_err_n[n]-conf_dist_n[n]"
   ]
  },
  {
   "cell_type": "code",
   "execution_count": null,
   "id": "645b4193",
   "metadata": {},
   "outputs": [],
   "source": [
    "plt.clf()\n",
    "plt.plot(np.array(s_vals_n[33]),\n",
    "         np.array(incr_dir_before_n[17]))\n",
    "plt.title(\"Post incremental direction norms for {} with {} steps and {} iters\".format(m, n, num_opt_iter))\n",
    "\n"
   ]
  },
  {
   "cell_type": "code",
   "execution_count": null,
   "id": "69207991",
   "metadata": {},
   "outputs": [],
   "source": [
    "plt.clf()\n",
    "plt.plot(np.linspace(0,1,129),\n",
    "         np.array(incr_dir_after_n[129])/128)\n",
    "plt.title(\"Post incremental direction norms for {} with {} steps and {} iters\".format(m, n, num_opt_iter))\n",
    "\n",
    "\n"
   ]
  },
  {
   "cell_type": "code",
   "execution_count": null,
   "id": "7055bf53",
   "metadata": {},
   "outputs": [],
   "source": [
    "plt.clf()\n",
    "plt.plot(np.linspace(0,1,1025),\n",
    "         np.array(incr_dir_after_n[1025])/1024)\n",
    "plt.title(\"Post incremental direction norms for {} with {} steps and {} iters\".format(m, n, num_opt_iter))\n",
    "\n",
    "\n"
   ]
  },
  {
   "cell_type": "code",
   "execution_count": null,
   "id": "df6a00e5",
   "metadata": {},
   "outputs": [],
   "source": [
    "plt.clf()\n",
    "plt.plot(np.array(s_vals_n[9]),\n",
    "         0*np.array(s_vals_n[9]))\n",
    "plt.plot(np.array(s_vals_n[9]),\n",
    "         np.array(incr_dir_before_n[9]) - np.array(incr_dir_before_n[5]))\n",
    "plt.plot(np.array(s_vals_n[9]),\n",
    "         np.array(incr_dir_before_n[17]) - np.array(incr_dir_before_n[9]))\n",
    "plt.plot(np.array(s_vals_n[9]),\n",
    "         np.array(incr_dir_before_n[33]) - np.array(incr_dir_before_n[17]))\n",
    "plt.plot(np.array(s_vals_n[9]),\n",
    "         np.array(incr_dir_before_n[65]) - np.array(incr_dir_before_n[33]))\n",
    "plt.plot(np.array(s_vals_n[9]),\n",
    "         np.array(incr_dir_before_n[129]) - np.array(incr_dir_before_n[65]))\n",
    "plt.plot(np.array(s_vals_n[9]),\n",
    "         np.array(incr_dir_before_n[257]) - np.array(incr_dir_before_n[129]))\n",
    "plt.plot(np.array(s_vals_n[9]),\n",
    "         np.array(incr_dir_before_n[513]) - np.array(incr_dir_before_n[257]))\n",
    "plt.title(\"Post incremental direction norms for {} with {} steps and {} iters\".format(m, n, num_opt_iter))\n"
   ]
  },
  {
   "cell_type": "code",
   "execution_count": null,
   "id": "64bc2580",
   "metadata": {},
   "outputs": [],
   "source": [
    "s_vals, incr_dir_before\n",
    "\n",
    "X, Y = interpolate(s_vals, incr_dir_before)\n",
    "plt.clf()\n",
    "plt.plot(X, Y)\n",
    "plt.title(\"Post incremental direction norms for {} with {} steps and {} iters\".format(m, n, num_opt_iter))\n",
    "\n"
   ]
  },
  {
   "cell_type": "code",
   "execution_count": null,
   "id": "991a5fa4",
   "metadata": {},
   "outputs": [],
   "source": [
    "for s in np.linspace(0,1,n):\n",
    "    ll_a = conf_lambdas[s]\n",
    "    ll_b = opt_lambdas[s]\n",
    "    #print(ll_a.dot(ll_b)/(norm(ll_a)*norm(ll_b)))\n",
    "    print(norm(ll_a - ll_b))\n",
    "    \n",
    "    ll_a = conf_lambdas[s]\n",
    "    ll_b = incr_lambdas[s]\n",
    "    #print(ll_a.dot(ll_b)/(norm(ll_a)*norm(ll_b)))\n",
    "    print(norm(ll_a - ll_b))\n",
    "\n",
    "    \n",
    "    ll_a = opt_lambdas[s]\n",
    "    ll_b = incr_lambdas[s]\n",
    "    #print(ll_a.dot(ll_b)/(norm(ll_a)*norm(ll_b)))\n",
    "    print(norm(ll_a - ll_b))\n",
    "\n",
    "    print()"
   ]
  },
  {
   "cell_type": "code",
   "execution_count": null,
   "id": "3580ed36",
   "metadata": {},
   "outputs": [],
   "source": []
  },
  {
   "cell_type": "code",
   "execution_count": null,
   "id": "2e8809d1",
   "metadata": {},
   "outputs": [],
   "source": [
    "for s in np.linspace(0,1,n):\n",
    "    ll_a = conf_lambdas[s] - lambdas_target\n",
    "    ll_b = opt_lambdas[s] - lambdas_target\n",
    "    print(ll_a.dot(ll_b)/(norm(ll_a)*norm(ll_b)))\n",
    "    \n",
    "    ll_a = conf_lambdas[s] - lambdas_target\n",
    "    ll_b = incr_lambdas[s] - lambdas_target\n",
    "    print(ll_a.dot(ll_b)/(norm(ll_a)*norm(ll_b)))\n",
    "    \n",
    "    ll_a = opt_lambdas[s] - lambdas_target\n",
    "    ll_b = incr_lambdas[s] - lambdas_target\n",
    "    print(ll_a.dot(ll_b)/(norm(ll_a)*norm(ll_b)))\n",
    "\n",
    "\n",
    "    print()"
   ]
  },
  {
   "cell_type": "code",
   "execution_count": null,
   "id": "cdf4b30b",
   "metadata": {},
   "outputs": [],
   "source": [
    "# Find line search direction\n",
    "k = 0\n",
    "delta_lambdas_k = line_search_direction(C_cpp,\n",
    "                                        lambdas_target,\n",
    "                                        lambdas,\n",
    "                                        Th_hat)\n",
    "delta_lambdas_k = np.array(delta_lambdas_k)\n",
    "delta_lambdas_norm_k = norm(delta_lambdas_k)\n",
    "energy_start_k = energy(lambdas, lambdas_target, p=p)\n",
    "max_stretch_start_k = np.max(symmetric_stretches(lambdas, lambdas_target))\n",
    "print(\"\\nEnergy at start of iteration {}: {}\\n\".format(k, energy_start_k))\n",
    "print(\"Max stretch: {}\".format(max_stretch_start_k))\n",
    "print(\"Lambdas range: [{}, {}]\".format(np.min(lambdas), np.max(lambdas)))\n",
    "\n",
    "\n"
   ]
  },
  {
   "cell_type": "code",
   "execution_count": null,
   "id": "a41e5616",
   "metadata": {},
   "outputs": [],
   "source": [
    "# Line step\n",
    "beta_k = 1\n",
    "lambdas_k = lambdas + beta_k * delta_lambdas_k\n",
    "energy_post_step_k = energy(lambdas_k, lambdas_target, p=p)\n",
    "max_stretch_post_step_k = np.max(symmetric_stretches(lambdas_k, lambdas_target))\n",
    "print(\"Energy after line step: {}\".format(energy_post_step_k))\n",
    "print(\"Max stretch: {}\".format(max_stretch_post_step_k))\n",
    "print(\"Lambdas range: [{}, {}]\".format(np.min(lambdas_k), np.max(lambdas_k)))\n"
   ]
  },
  {
   "cell_type": "code",
   "execution_count": null,
   "id": "4ee9df73",
   "metadata": {},
   "outputs": [],
   "source": [
    "# Make Delaunay and find angle error\n",
    "F_post_step_k, _ = F_with_jacobian(C_cpp, lambdas_k, Th_hat, False)\n",
    "F_post_step_k = np.array(F_post_step_k)\n",
    "F_post_step_k_max = np.max(np.abs(F_post_step_k))\n",
    "print(\"Angle error: {}\".format(F_post_step_k_max))\n"
   ]
  },
  {
   "cell_type": "code",
   "execution_count": null,
   "id": "15d7174a",
   "metadata": {
    "scrolled": true
   },
   "outputs": [],
   "source": [
    "# Project to constraint\n",
    "proj_params_struct.max_itr = 100\n",
    "proj_params_struct.do_reduction = True\n",
    "print(\"Projecting to constraint\")\n",
    "lambdas_k = project_to_constraint(C_cpp,\n",
    "                                  lambdas_k,\n",
    "                                  Th_hat,\n",
    "                                  proj_params_struct)\n",
    "lambdas_k = np.array(lambdas_k)\n"
   ]
  },
  {
   "cell_type": "code",
   "execution_count": null,
   "id": "67922fdd",
   "metadata": {},
   "outputs": [],
   "source": [
    "# Final errors\n",
    "energy_end_k = energy(lambdas_k, lambdas_target, p=p)\n",
    "max_stretch_end_k = np.max(symmetric_stretches(lambdas_k, lambdas_target))\n",
    "print(\"Energy after projection: {}\".format(energy_end_k))\n",
    "print(\"Max stretch: {}\".format(max_stretch_end_k))\n",
    "print(\"Lambdas range: [{}, {}]\".format(np.min(lambdas_k), np.max(lambdas_k)))\n",
    "\n"
   ]
  },
  {
   "cell_type": "code",
   "execution_count": null,
   "id": "6c69499b",
   "metadata": {},
   "outputs": [],
   "source": [
    "# Make Delaunay and find angle error\n",
    "F_end_k, _ = F_with_jacobian(C_cpp, lambdas_k, Th_hat, False)\n",
    "F_end_k = np.array(F_end_k)\n",
    "F_end_k_max = np.max(np.abs(F_end_k))\n",
    "print(\"Angle error: {}\".format(F_end_k_max))\n",
    "\n"
   ]
  },
  {
   "cell_type": "markdown",
   "id": "78a86692",
   "metadata": {},
   "source": [
    "## View Energy Plots\n",
    "\n",
    "Deprecated: Requires lambdas per iteration. Should be done with logs."
   ]
  },
  {
   "cell_type": "code",
   "execution_count": null,
   "id": "e617c91e",
   "metadata": {},
   "outputs": [],
   "source": [
    "print(\"Energy:\", energy(lambdas_init, lambdas))\n",
    "stretches = symmetric_stretches(lambdas, lambdas_init)\n",
    "print(\"Max stretch:\", np.max(stretches))"
   ]
  },
  {
   "cell_type": "code",
   "execution_count": null,
   "id": "bf6c7231",
   "metadata": {
    "scrolled": true
   },
   "outputs": [],
   "source": [
    "m_checkpoints = os.listdir(m_checkpoints_dir)\n",
    "m_checkpoints = {int(f.split('_')[-1]):f for f in m_checkpoints if not f.endswith(\"_init\")}\n",
    "energies = []\n",
    "max_stretches = []\n",
    "for k in np.arange(len(m_checkpoints)):\n",
    "    print(k)\n",
    "    lambdas_k_path = os.path.join(m_checkpoints_dir, m_checkpoints[k])\n",
    "    lambdas = np.loadtxt(lambdas_k_path,dtype=float)\n",
    "    print(\"Energy:\", energy(lambdas_init, lambdas))\n",
    "    stretches = symmetric_stretches(lambdas, lambdas_init)\n",
    "    print(\"Max stretch:\", np.max(stretches), '\\n')\n",
    "    energies.append(energy(lambdas_init, lambdas))\n",
    "    max_stretches.append(np.max(stretches))\n"
   ]
  },
  {
   "cell_type": "code",
   "execution_count": null,
   "id": "96a5940c",
   "metadata": {},
   "outputs": [],
   "source": [
    "plt.plot(energies)\n",
    "plt.title(m+\" energy per iteration\")\n",
    "plt.savefig(os.path.join(output_dir, m+'_energies.png'))"
   ]
  },
  {
   "cell_type": "code",
   "execution_count": null,
   "id": "d9a35c94",
   "metadata": {},
   "outputs": [],
   "source": [
    "plt.semilogy(max_stretches)\n",
    "plt.title(m+\" log max stretch per iteration\")\n",
    "plt.savefig(os.path.join(output_dir, m+'_max_stretches.png'))"
   ]
  },
  {
   "cell_type": "code",
   "execution_count": null,
   "id": "ed9a4fc8",
   "metadata": {},
   "outputs": [],
   "source": [
    "a = np.array([1.0,2.0,3.0,4.0])"
   ]
  },
  {
   "cell_type": "code",
   "execution_count": null,
   "id": "54665cca",
   "metadata": {},
   "outputs": [],
   "source": [
    "a**3"
   ]
  },
  {
   "cell_type": "code",
   "execution_count": null,
   "id": "d8f90bf6",
   "metadata": {},
   "outputs": [],
   "source": [
    "a**2"
   ]
  },
  {
   "cell_type": "code",
   "execution_count": null,
   "id": "2469f4ef",
   "metadata": {},
   "outputs": [],
   "source": [
    "a**1"
   ]
  },
  {
   "cell_type": "code",
   "execution_count": null,
   "id": "885cd688",
   "metadata": {},
   "outputs": [],
   "source": []
  },
  {
   "cell_type": "code",
   "execution_count": null,
   "id": "3ecea6ce",
   "metadata": {},
   "outputs": [],
   "source": []
  }
 ],
 "metadata": {
  "kernelspec": {
   "display_name": "Python 3",
   "language": "python",
   "name": "python3"
  },
  "language_info": {
   "codemirror_mode": {
    "name": "ipython",
    "version": 3
   },
   "file_extension": ".py",
   "mimetype": "text/x-python",
   "name": "python",
   "nbconvert_exporter": "python",
   "pygments_lexer": "ipython3",
   "version": "3.9.4"
  }
 },
 "nbformat": 4,
 "nbformat_minor": 5
}
