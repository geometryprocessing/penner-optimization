{
 "cells": [
  {
   "cell_type": "code",
   "execution_count": 2,
   "id": "a2e50d49",
   "metadata": {},
   "outputs": [],
   "source": [
    "import os, io, cProfile, pstats, pickle, shutil\n",
    "import sys\n",
    "import igl\n",
    "import meshplot as plot\n",
    "import pickle\n",
    "from init_cm_data import *\n",
    "from conformal_impl.optimization import *\n",
    "from conformal_impl.layout import *\n",
    "#from conformal_py import *\n",
    "%load_ext autoreload\n",
    "%autoreload 2\n"
   ]
  },
  {
   "cell_type": "markdown",
   "id": "e7563287",
   "metadata": {},
   "source": [
    "## Plot Layout\n",
    "\n",
    "Change `m` to change the model"
   ]
  },
  {
   "cell_type": "code",
   "execution_count": 3,
   "id": "bec3d0fb",
   "metadata": {},
   "outputs": [],
   "source": [
    "def plot_original(pickle_path):\n",
    "    with open(pickle_path, 'rb') as f:\n",
    "        record = pickle.load(f)\n",
    "    C = record['C']\n",
    "    l = np.exp(record['lambdas_target'] / 2)\n",
    "    phi_0 = np.zeros(len(C.out))\n",
    "    make_delaunay(C, l, phi_0, float_type)#, length_fun=ptolemy_length_regular)\n",
    "    print(\"DONE\")\n",
    "    u,v,is_cut_h = layout(C, l, phi_0,start_h=0,float_type=float)\n",
    "    print(\"DONE\")\n",
    "    uv, F, Vn_to_V, _, _, _, _ = apply_cuts(C, is_cut_h, u, v)\n",
    "    print(\"DONE\")\n",
    "    plot.plot(uv, F, shading={'wireframe': True})\n",
    "\n"
   ]
  },
  {
   "cell_type": "code",
   "execution_count": 4,
   "id": "e917db1a",
   "metadata": {
    "scrolled": true
   },
   "outputs": [],
   "source": [
    "def plot_pickle(pickle_path):\n",
    "    with open(pickle_path, 'rb') as f:\n",
    "        record = pickle.load(f)\n",
    "    C = record['C']\n",
    "    l = np.exp(record['lambdas'] / 2)\n",
    "    phi_0 = np.zeros(len(C.out))\n",
    "    make_delaunay(C, l, phi_0, float_type, length_fun=ptolemy_length_regular)\n",
    "    u,v,is_cut_h = layout(C, l, phi_0,start_h=0,float_type=float)\n",
    "    uv, F, Vn_to_V, _, _, _, _ = apply_cuts(C, is_cut_h, u, v)\n",
    "    plot.plot(uv, F, shading={'wireframe': True})\n"
   ]
  },
  {
   "cell_type": "code",
   "execution_count": 6,
   "id": "34f0498d",
   "metadata": {
    "scrolled": false
   },
   "outputs": [
    {
     "name": "stdout",
     "output_type": "stream",
     "text": [
      "DONE\n",
      "DONE\n",
      "(4286, 3)\n",
      "4285\n",
      "(8570, 3)\n",
      "8569\n",
      "DONE\n"
     ]
    },
    {
     "data": {
      "application/vnd.jupyter.widget-view+json": {
       "model_id": "41fbe7d27d5c482abacd0ba4c8cb1bae",
       "version_major": 2,
       "version_minor": 0
      },
      "text/plain": [
       "Renderer(camera=PerspectiveCamera(children=(DirectionalLight(color='white', intensity=0.6, position=(0.9728450…"
      ]
     },
     "metadata": {},
     "output_type": "display_data"
    },
    {
     "name": "stdout",
     "output_type": "stream",
     "text": [
      "Delaunay test failed with pre and post inds: 0.0 -4.440892098500626e-16\n",
      "(4286, 3)\n",
      "4285\n",
      "(8570, 3)\n",
      "8569\n"
     ]
    },
    {
     "data": {
      "application/vnd.jupyter.widget-view+json": {
       "model_id": "b54a6cc94d8b44bd84b6852f8fbd8dc1",
       "version_major": 2,
       "version_minor": 0
      },
      "text/plain": [
       "Renderer(camera=PerspectiveCamera(children=(DirectionalLight(color='white', intensity=0.6, position=(16.434387…"
      ]
     },
     "metadata": {},
     "output_type": "display_data"
    },
    {
     "name": "stdout",
     "output_type": "stream",
     "text": [
      "(4286, 3)\n",
      "4285\n",
      "(8570, 3)\n",
      "8569\n"
     ]
    },
    {
     "data": {
      "application/vnd.jupyter.widget-view+json": {
       "model_id": "e54693f5a1ce4b9ab39ed334931616f1",
       "version_major": 2,
       "version_minor": 0
      },
      "text/plain": [
       "Renderer(camera=PerspectiveCamera(children=(DirectionalLight(color='white', intensity=0.6, position=(-0.542291…"
      ]
     },
     "metadata": {},
     "output_type": "display_data"
    }
   ],
   "source": [
    "m = 'block'\n",
    "float_type=float\n",
    "\n",
    "# Conformal result\n",
    "pickle_dir = \"../tests/boundary/conformal/\"\n",
    "pickle_path = os.path.join(pickle_dir, m+'_out.p')\n",
    "#plot_original(pickle_path)\n",
    "plot_pickle(pickle_path)\n",
    "\n",
    "# Optimization result\n",
    "pickle_dir = \"../tests/boundary/optimization/\"\n",
    "pickle_path = os.path.join(pickle_dir, m+'_out.p')\n",
    "plot_pickle(pickle_path)"
   ]
  },
  {
   "cell_type": "code",
   "execution_count": null,
   "id": "c03ae07d",
   "metadata": {},
   "outputs": [],
   "source": []
  },
  {
   "cell_type": "code",
   "execution_count": null,
   "id": "463b6a1d",
   "metadata": {},
   "outputs": [],
   "source": []
  }
 ],
 "metadata": {
  "kernelspec": {
   "display_name": "Python 3",
   "language": "python",
   "name": "python3"
  },
  "language_info": {
   "codemirror_mode": {
    "name": "ipython",
    "version": 3
   },
   "file_extension": ".py",
   "mimetype": "text/x-python",
   "name": "python",
   "nbconvert_exporter": "python",
   "pygments_lexer": "ipython3",
   "version": "3.9.4"
  }
 },
 "nbformat": 4,
 "nbformat_minor": 5
}
