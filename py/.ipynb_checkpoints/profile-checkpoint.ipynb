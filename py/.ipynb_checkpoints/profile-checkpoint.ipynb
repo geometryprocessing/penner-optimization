{
 "cells": [
  {
   "cell_type": "markdown",
   "id": "d695206a",
   "metadata": {},
   "source": [
    "Notebook to run make_delaunay_with_jacobian profiling in the C++ code and generate plots of the results."
   ]
  },
  {
   "cell_type": "code",
   "execution_count": 1,
   "id": "a2e50d49",
   "metadata": {},
   "outputs": [],
   "source": [
    "import os, io, cProfile, pstats, pickle, shutil\n",
    "import sys\n",
    "import igl\n",
    "import meshplot as plot\n",
    "import pickle\n",
    "from init_cm_data import *\n",
    "from conformal_impl.optimization import *\n",
    "from conformal_impl.layout import *\n",
    "from conformal_py import *\n",
    "from optimization_py import *\n",
    "from scipy.sparse import csr_matrix\n",
    "import conformal_impl.functions_with_jacobians as FWJ\n",
    "import pandas as pd\n",
    "import matplotlib\n",
    "import matplotlib.pyplot as plt\n",
    "#%matplotlib notebook\n",
    "#from conformal_py import *\n",
    "%load_ext autoreload\n",
    "%autoreload 2\n"
   ]
  },
  {
   "cell_type": "markdown",
   "id": "b6fa1874",
   "metadata": {},
   "source": [
    "## Mesh initialization"
   ]
  },
  {
   "cell_type": "code",
   "execution_count": 2,
   "id": "f87808f3",
   "metadata": {},
   "outputs": [],
   "source": [
    "def lambdas_layout(C, lambdas):\n",
    "    l = np.exp(lambdas / 2)\n",
    "    phi_0 = np.zeros(len(C.out))\n",
    "    print(\"Done\")\n",
    "    make_delaunay(C, l, phi_0, float_type)#, length_fun=ptolemy_length_regular)\n",
    "    print(\"Done\")\n",
    "    u,v,is_cut_h = layout(C, l, phi_0, start_h=0,float_type=float)\n",
    "    uv, F, Vn_to_V, _, _, _, _ = apply_cuts(C, is_cut_h, u, v)\n",
    "    plot.plot(uv, F, shading={'wireframe': True})\n",
    "\n",
    "\n"
   ]
  },
  {
   "cell_type": "code",
   "execution_count": 3,
   "id": "3a1e82c8",
   "metadata": {},
   "outputs": [],
   "source": [
    "def make_strip(n):\n",
    "    y = np.sqrt(3)/2\n",
    "    v = [[0, 0, 0],\n",
    "         [0.5, y, 0]]\n",
    "    f = []\n",
    "    for i in np.arange(n):\n",
    "        v.append([i + 1, 0, 0])\n",
    "        v.append([i + 1.5, y, 0])\n",
    "        f.append([2*i, 2*i + 3, 2*i + 1])\n",
    "        f.append([2*i, 2*i + 2, 2*i + 3])\n",
    "    Th_hat = np.pi * np.ones(2 * n + 2)\n",
    "    Th_hat[0] = Th_hat[2*n + 1] = 2*np.pi/3\n",
    "    Th_hat[1] = Th_hat[2*n] = np.pi/3\n",
    "    return np.array(v), np.array(f), Th_hat"
   ]
  },
  {
   "cell_type": "code",
   "execution_count": 18,
   "id": "bb119079",
   "metadata": {},
   "outputs": [],
   "source": [
    "def save_plots_to_file(m, del_profile_dir, del_profile_file):\n",
    "    del_profile = pd.read_csv(del_profile_file, sep=',', names=['flip', 't_flip', 't_total', 'nonzero'])\n",
    "    flips = np.array(del_profile.loc[:,'flip'])\n",
    "    t_flips = np.array(del_profile.loc[:,'t_flip'])\n",
    "    t_totals = np.array(del_profile.loc[:,'t_total'])\n",
    "    nonzeros = np.array(del_profile.loc[:,'nonzero'])\n",
    "\n",
    "    # Time per flip scatter plot\n",
    "    plt.scatter(flips, t_flips, s=0.1)\n",
    "    plt.title(m+\" time per flip\")\n",
    "    plt.savefig(os.path.join(del_profile_dir, m+'_time_per_flip.png'))\n",
    "    plt.clf()\n",
    "    \n",
    "    # Time plot\n",
    "    plt.plot(flips, t_totals)\n",
    "    plt.title(m+\" time\")\n",
    "    plt.savefig(os.path.join(del_profile_dir, m+'_time.png'))\n",
    "    plt.clf()\n",
    "\n",
    "    # Nonzeros per flip scatter plot\n",
    "    plt.scatter(flips[1:],nonzeros[1:]-nonzeros[:-1], s=0.1)\n",
    "    plt.title(m+\" nonzeros per flip\")\n",
    "    plt.savefig(os.path.join(del_profile_dir, m+'_nonzeros_per_flip.png'))\n",
    "    plt.clf()\n",
    "    \n",
    "    # Nonzeros plot\n",
    "    plt.plot(flips, nonzeros)\n",
    "    slope, b = np.polyfit(flips, nonzeros, 1)\n",
    "    plt.plot(flips, slope * flips + b)\n",
    "    plt.title(m+\" nonzeros\")\n",
    "    plt.text(1, 1, 'y = ' + str(slope) + ' x + ' + str(b))\n",
    "    plt.savefig(os.path.join(del_profile_dir, m+'_nonzeros.png'))\n",
    "    plt.clf()\n",
    "\n"
   ]
  },
  {
   "cell_type": "code",
   "execution_count": 31,
   "id": "bc7a15f5",
   "metadata": {
    "scrolled": true
   },
   "outputs": [
    {
     "data": {
      "text/plain": [
       "10"
      ]
     },
     "execution_count": 31,
     "metadata": {},
     "output_type": "execute_result"
    }
   ],
   "source": [
    "# NOTE This is an absolute path that needs to be replaced\n",
    "cut_mesh = True\n",
    "if cut_mesh:\n",
    "    data_dir = \"../data/cut-Myles-simple/\"\n",
    "    data_dir = \"../data/high_scale_diff_patches\"\n",
    "else:\n",
    "    data_dir = \"../data/closed-Myles/\"\n",
    "suffix = ''\n",
    "files = os.listdir(data_dir)\n",
    "models = [f[:-(4+len(suffix))] for f in files if f.endswith(suffix+\".obj\")]\n",
    "len(models)\n"
   ]
  },
  {
   "cell_type": "code",
   "execution_count": 12,
   "id": "d85767d3",
   "metadata": {
    "scrolled": true
   },
   "outputs": [
    {
     "data": {
      "text/plain": [
       "['rocker_arm',\n",
       " 'rolling_stage100K',\n",
       " 'camel',\n",
       " 'heptoroid100k',\n",
       " 'elk',\n",
       " 'fertility_tri',\n",
       " 'sculpt',\n",
       " 'elephant',\n",
       " 'kitten100K',\n",
       " 'pulley100K',\n",
       " 'dancing_children100K',\n",
       " 'wrench50K',\n",
       " 'oil_pump100K',\n",
       " 'raptor50K',\n",
       " 'dragonstand_recon100K',\n",
       " 'bumpy_torus',\n",
       " 'twirl',\n",
       " 'holes3',\n",
       " 'seahorse2_100K',\n",
       " 'dancer2',\n",
       " 'chair100K',\n",
       " 'carter100K',\n",
       " 'knot100K',\n",
       " 'botijo',\n",
       " 'grayloc',\n",
       " 'master_cylinder100K',\n",
       " 'brain100k',\n",
       " 'filigree100k',\n",
       " 'genus3',\n",
       " 'pegaso',\n",
       " 'neptune0',\n",
       " 'thai_statue',\n",
       " 'helmet',\n",
       " 'femur',\n",
       " 'dancer_25k',\n",
       " 'block',\n",
       " 'greek_sculpture',\n",
       " 'trim-star',\n",
       " 'vh_skin',\n",
       " 'robocat_deci',\n",
       " 'bozbezbozzel100K',\n",
       " 'gearbox',\n",
       " 'cup',\n",
       " 'knot1',\n",
       " 'chair',\n",
       " 'eight']"
      ]
     },
     "execution_count": 12,
     "metadata": {},
     "output_type": "execute_result"
    }
   ],
   "source": [
    "models"
   ]
  },
  {
   "cell_type": "code",
   "execution_count": 32,
   "id": "9c41afe7",
   "metadata": {},
   "outputs": [],
   "source": [
    "# Initialize mesh from the data set\n",
    "#m = 'femur'\n",
    "#m = 'block'\n",
    "#m = 'eight'\n",
    "#m = 'helmet'\n",
    "#m = 'knot1'\n",
    "#m = 'rolling_stage100K'\n",
    "#m = 'raptor50K'\n",
    "#m = 'chair_445_0'\n",
    "m = 'bozbezbozzel100K_147_0'\n",
    "v, f = igl.read_triangle_mesh(data_dir+'/'+m+suffix+'.obj')\n",
    "Th_hat = np.loadtxt(data_dir+\"/\"+m+'_Th_hat',dtype=float)\n",
    "float_type=float\n",
    "if cut_mesh:\n",
    "    CMs = prepare_cm_data(v,\n",
    "                          f,\n",
    "                          Th_hat,\n",
    "                          unit_lengths=False,\n",
    "                          float_type=float_type,\n",
    "                          tufted_cover=False)\n",
    "    C = CMs[0][0].C\n",
    "    R = CMs[0][0].R\n",
    "    phi = CMs[0][0].phi\n",
    "    elen = CMs[0][0].l\n",
    "    Th_hat = CMs[0][0].Th_hat\n",
    "    lambdas = 2*np.log(elen)\n",
    "else:\n",
    "    CMs = prepare_cm_uncut_data(v,\n",
    "                                f,\n",
    "                                Th_hat,\n",
    "                                unit_lengths=False,\n",
    "                                float_type=float_type)\n",
    "    C = CMs[0].C\n",
    "    phi = CMs[0].phi\n",
    "    elen = CMs[0].l\n",
    "    Th_hat = CMs[0].Th_hat\n",
    "    lambdas = 2*np.log(elen)\n",
    "    \n",
    "\n",
    "C_cpp = Connectivity_cpp()\n",
    "C_cpp.n = C.next_he\n",
    "C_cpp.prev = C.prev_he\n",
    "C_cpp.to = C.to\n",
    "C_cpp.f = C.he2f\n",
    "C_cpp.h = C.f2he\n",
    "C_cpp.out = C.out\n",
    "C_cpp.opp = C.opp"
   ]
  },
  {
   "cell_type": "code",
   "execution_count": 35,
   "id": "fc2783f1",
   "metadata": {},
   "outputs": [],
   "source": [
    "# Alternative mesh option with only independent flips\n",
    "float_type=float\n",
    "n = 100000\n",
    "v, f, Th_hat = make_strip(n)\n",
    "CMs = prepare_cm_data(v,\n",
    "                      f,\n",
    "                      Th_hat,\n",
    "                      unit_lengths=False,\n",
    "                      float_type=float_type,\n",
    "                      tufted_cover=False)\n",
    "C = CMs[0][0].C\n",
    "R = CMs[0][0].R\n",
    "phi = CMs[0][0].phi\n",
    "elen = CMs[0][0].l\n",
    "Th_hat = CMs[0][0].Th_hat\n",
    "lambdas = 2*np.log(elen)\n",
    "\n",
    "m = 'strip_' + str(n)\n",
    "\n",
    "C_cpp = Connectivity_cpp()\n",
    "C_cpp.n = C.next_he\n",
    "C_cpp.prev = C.prev_he\n",
    "C_cpp.to = C.to\n",
    "C_cpp.f = C.he2f\n",
    "C_cpp.h = C.f2he\n",
    "C_cpp.out = C.out\n",
    "C_cpp.opp = C.opp"
   ]
  },
  {
   "cell_type": "markdown",
   "id": "736ec414",
   "metadata": {},
   "source": [
    "## Profile Make Delaunay\n",
    "\n",
    "Save output to output/profile/\\<m\\>\n",
    "\n",
    "Use list of lists format if use_lol is True"
   ]
  },
  {
   "cell_type": "code",
   "execution_count": 36,
   "id": "a4ab04bc",
   "metadata": {},
   "outputs": [
    {
     "name": "stdout",
     "output_type": "stream",
     "text": [
      "../output/profile/strip_100000\n"
     ]
    }
   ],
   "source": [
    "del_profile_dir = os.path.join('../output/profile', m)\n",
    "del_profile_name = os.path.join(del_profile_dir, 'iter')\n",
    "os.makedirs(del_profile_dir, exist_ok=True)\n",
    "print(del_profile_dir)"
   ]
  },
  {
   "cell_type": "code",
   "execution_count": 37,
   "id": "c839e72d",
   "metadata": {},
   "outputs": [
    {
     "name": "stdout",
     "output_type": "stream",
     "text": [
      "Profile file ../output/profile/strip_100000/initial_del.txt\n",
      "../output/profile/strip_100000/initial_del.txt\n",
      "Profile file ../output/profile/strip_100000/initial_del_lol.txt\n",
      "../output/profile/strip_100000/initial_del_lol.txt\n"
     ]
    },
    {
     "data": {
      "text/plain": [
       "0.0"
      ]
     },
     "execution_count": 37,
     "metadata": {},
     "output_type": "execute_result"
    },
    {
     "data": {
      "text/plain": [
       "<Figure size 432x288 with 0 Axes>"
      ]
     },
     "metadata": {},
     "output_type": "display_data"
    }
   ],
   "source": [
    "del_profile_file = os.path.join(del_profile_dir, 'initial_del.txt')\n",
    "_, lambdas_del, J_del = make_delaunay_with_jacobian(C_cpp, lambdas, True, del_profile_file)\n",
    "save_plots_to_file(m, del_profile_dir, del_profile_file)\n",
    "del_profile_file = os.path.join(del_profile_dir, 'initial_del_lol.txt')\n",
    "_, lambdas_del_lol, J_del_lol = make_delaunay_with_jacobian_lol(C_cpp, lambdas, True, del_profile_file)\n",
    "save_plots_to_file(m + \"_lol\", del_profile_dir, del_profile_file)\n",
    "np.max(J_del-J_del_lol)"
   ]
  },
  {
   "cell_type": "code",
   "execution_count": 9,
   "id": "0e704614",
   "metadata": {
    "scrolled": true
   },
   "outputs": [
    {
     "name": "stdout",
     "output_type": "stream",
     "text": [
      "Starting optimization\n",
      "Performing initial conformal projection\n",
      "\n",
      "First projection complete\n",
      "Iteration 0\n",
      "Getting line search direction\n",
      "Profile file ../output/profile/helmet/iter_0.txt\n",
      "../output/profile/helmet/iter_0.txt\n",
      "Finding direction took 0.15151119232177734 s\n",
      "Delta lambdas norm 36.29028189511401 in iteration 0\n",
      "\n",
      "Energy at start of iteration 0: 36.36299313321225\n",
      "\n",
      "Profile file \n",
      "Line step with beta 0.01\n",
      "Energy after line step: 36.000823280335695\n",
      "Profile file \n",
      "Projecting to constraint\n",
      "Projecting to constraint took 0.2359471321105957 s\n",
      "Energy after projection: 36.60746816720885\n",
      "\n",
      "Profile file \n",
      "Line step with beta 0.005\n",
      "Energy after line step: 36.18190637072624\n",
      "Profile file \n",
      "Projecting to constraint\n",
      "Projecting to constraint took 0.23990511894226074 s\n",
      "Energy after projection: 36.485145250297265\n",
      "\n",
      "Profile file \n",
      "Line step with beta 0.0025\n",
      "Energy after line step: 36.27244929639464\n",
      "Profile file \n",
      "Projecting to constraint\n",
      "Projecting to constraint took 0.23383712768554688 s\n",
      "Energy after projection: 36.42404884496672\n",
      "\n",
      "Profile file \n",
      "Line step with beta 0.00125\n",
      "Energy after line step: 36.31772110133572\n",
      "Profile file \n",
      "Projecting to constraint\n",
      "Projecting to constraint took 0.2817249298095703 s\n",
      "Energy after projection: 36.39351712908447\n",
      "\n",
      "Profile file \n",
      "Line step with beta 0.000625\n",
      "Energy after line step: 36.34035708896006\n",
      "Profile file \n",
      "Projecting to constraint\n",
      "Projecting to constraint took 0.21014618873596191 s\n",
      "Energy after projection: 36.37825468507774\n",
      "\n",
      "Profile file \n",
      "Line step with beta 0.0003125\n",
      "Energy after line step: 36.351675104014284\n",
      "Profile file \n",
      "Projecting to constraint\n",
      "Projecting to constraint took 0.20696020126342773 s\n",
      "Energy after projection: 36.37062519004198\n",
      "\n",
      "Profile file \n",
      "Line step with beta 0.00015625\n",
      "Energy after line step: 36.357334116846125\n",
      "Profile file \n",
      "Projecting to constraint\n",
      "Projecting to constraint took 0.20754623413085938 s\n",
      "Energy after projection: 36.36681068711797\n",
      "\n",
      "Profile file \n",
      "Line step with beta 7.8125e-05\n",
      "Energy after line step: 36.36016362458751\n",
      "Profile file \n",
      "Projecting to constraint\n",
      "Projecting to constraint took 0.2116847038269043 s\n",
      "Energy after projection: 36.364903397598624\n",
      "\n",
      "Profile file \n",
      "Line step with beta 3.90625e-05\n",
      "Energy after line step: 36.36157837878947\n",
      "Profile file \n",
      "Projecting to constraint\n"
     ]
    },
    {
     "ename": "KeyboardInterrupt",
     "evalue": "",
     "output_type": "error",
     "traceback": [
      "\u001b[0;31m---------------------------------------------------------------------------\u001b[0m",
      "\u001b[0;31mKeyboardInterrupt\u001b[0m                         Traceback (most recent call last)",
      "\u001b[0;32m<ipython-input-9-9f69aa6ea498>\u001b[0m in \u001b[0;36m<module>\u001b[0;34m\u001b[0m\n\u001b[1;32m      6\u001b[0m \u001b[0;34m\u001b[0m\u001b[0m\n\u001b[1;32m      7\u001b[0m \u001b[0mlambdas_init\u001b[0m \u001b[0;34m=\u001b[0m \u001b[0;36m2\u001b[0m\u001b[0;34m*\u001b[0m\u001b[0mnp\u001b[0m\u001b[0;34m.\u001b[0m\u001b[0mlog\u001b[0m\u001b[0;34m(\u001b[0m\u001b[0melen\u001b[0m\u001b[0;34m)\u001b[0m\u001b[0;34m\u001b[0m\u001b[0;34m\u001b[0m\u001b[0m\n\u001b[0;32m----> 8\u001b[0;31m log_opt, lambdas_opt = optimize_lambdas(C_cpp,\n\u001b[0m\u001b[1;32m      9\u001b[0m                                         \u001b[0mlambdas_init\u001b[0m\u001b[0;34m,\u001b[0m\u001b[0;34m\u001b[0m\u001b[0;34m\u001b[0m\u001b[0m\n\u001b[1;32m     10\u001b[0m                                         \u001b[0mlambdas_init\u001b[0m\u001b[0;34m,\u001b[0m\u001b[0;34m\u001b[0m\u001b[0;34m\u001b[0m\u001b[0m\n",
      "\u001b[0;32m~/work/research/curvature_metric/py/conformal_impl/optimization.py\u001b[0m in \u001b[0;36moptimize_lambdas\u001b[0;34m(C, lambdas_init, lambdas_target, Th_hat, beta_0, min_ratio, float_type, num_iter, checkpoint_dir, bound_norm_thres, proj_params, opt_params)\u001b[0m\n\u001b[1;32m    185\u001b[0m             \u001b[0mprint\u001b[0m\u001b[0;34m(\u001b[0m\u001b[0;34m\"Projecting to constraint\"\u001b[0m\u001b[0;34m)\u001b[0m\u001b[0;34m\u001b[0m\u001b[0;34m\u001b[0m\u001b[0m\n\u001b[1;32m    186\u001b[0m             \u001b[0mstart_call\u001b[0m \u001b[0;34m=\u001b[0m \u001b[0mtime\u001b[0m\u001b[0;34m.\u001b[0m\u001b[0mtime\u001b[0m\u001b[0;34m(\u001b[0m\u001b[0;34m)\u001b[0m\u001b[0;34m\u001b[0m\u001b[0;34m\u001b[0m\u001b[0m\n\u001b[0;32m--> 187\u001b[0;31m             lambdas_k = project_to_constraint(C,\n\u001b[0m\u001b[1;32m    188\u001b[0m                                               \u001b[0mlambdas_k\u001b[0m\u001b[0;34m,\u001b[0m\u001b[0;34m\u001b[0m\u001b[0;34m\u001b[0m\u001b[0m\n\u001b[1;32m    189\u001b[0m                                               \u001b[0mTh_hat\u001b[0m\u001b[0;34m,\u001b[0m\u001b[0;34m\u001b[0m\u001b[0;34m\u001b[0m\u001b[0m\n",
      "\u001b[0;31mKeyboardInterrupt\u001b[0m: "
     ]
    }
   ],
   "source": [
    "# Run method and get log\n",
    "opt_params = { 'p': 2,\n",
    "               'max_angle': 25,\n",
    "               'require_energy_decr': True,\n",
    "               'del_profile_name': del_profile_name}\n",
    "\n",
    "lambdas_init = 2*np.log(elen)\n",
    "log_opt, lambdas_opt = optimize_lambdas(C_cpp,\n",
    "                                        lambdas_init,\n",
    "                                        lambdas_init,\n",
    "                                        Th_hat,\n",
    "                                        beta_0=0.01,\n",
    "                                        min_ratio=0.01,\n",
    "                                        float_type=float_type,\n",
    "                                        num_iter=50,\n",
    "                                        opt_params=opt_params)"
   ]
  },
  {
   "cell_type": "markdown",
   "id": "32420235",
   "metadata": {},
   "source": [
    "## Analyze Profile"
   ]
  },
  {
   "cell_type": "code",
   "execution_count": 182,
   "id": "c287ce7d",
   "metadata": {},
   "outputs": [],
   "source": [
    "# If using full optimization\n",
    "itr = 9\n",
    "del_profile = pd.read_csv(del_profile_name + '_' + str(itr) + '.txt', sep=',',\n",
    "                          names=['flip', 't_flip', 't_total', 'nonzero'])"
   ]
  },
  {
   "cell_type": "code",
   "execution_count": 27,
   "id": "b09740e2",
   "metadata": {},
   "outputs": [],
   "source": [
    "# If using just initial make_delaunay\n",
    "del_profile = pd.read_csv(del_profile_file, sep=',', names=['flip', 't_flip', 't_total', 'nonzero'])"
   ]
  },
  {
   "cell_type": "code",
   "execution_count": 29,
   "id": "5a1513af",
   "metadata": {},
   "outputs": [],
   "source": [
    "flips = np.array(del_profile.loc[:,'flip'])\n",
    "t_flips = np.array(del_profile.loc[:,'t_flip'])\n",
    "t_totals = np.array(del_profile.loc[:,'t_total'])\n",
    "nonzeros = np.array(del_profile.loc[:,'nonzero'])\n"
   ]
  },
  {
   "cell_type": "code",
   "execution_count": 30,
   "id": "5bbff926",
   "metadata": {},
   "outputs": [
    {
     "data": {
      "image/png": "[encoded data removed]",
      "text/plain": [
       "<Figure size 432x288 with 1 Axes>"
      ]
     },
     "metadata": {
      "needs_background": "light"
     },
     "output_type": "display_data"
    }
   ],
   "source": [
    "plt.scatter(flips, t_flips, s=0.1)\n",
    "plt.title(m+\" time per flip\")\n",
    "plt.savefig(os.path.join(del_profile_dir, m+'_time_per_flip.png'))"
   ]
  },
  {
   "cell_type": "code",
   "execution_count": 31,
   "id": "dbc89638",
   "metadata": {},
   "outputs": [
    {
     "data": {
      "image/png": "[encoded data removed]",
      "text/plain": [
       "<Figure size 432x288 with 1 Axes>"
      ]
     },
     "metadata": {
      "needs_background": "light"
     },
     "output_type": "display_data"
    }
   ],
   "source": [
    "plt.plot(flips, t_totals)\n",
    "plt.title(m+\" time\")\n",
    "plt.savefig(os.path.join(del_profile_dir, m+'_time.png'))"
   ]
  },
  {
   "cell_type": "code",
   "execution_count": 32,
   "id": "23ceccfa",
   "metadata": {},
   "outputs": [
    {
     "data": {
      "image/png": "[encoded data removed]",
      "text/plain": [
       "<Figure size 432x288 with 1 Axes>"
      ]
     },
     "metadata": {
      "needs_background": "light"
     },
     "output_type": "display_data"
    }
   ],
   "source": [
    "plt.scatter(flips[1:],nonzeros[1:]-nonzeros[:-1], s=0.1)\n",
    "plt.title(m+\" nonzeros per flip\")\n",
    "plt.savefig(os.path.join(del_profile_dir, m+'_nonzeros_per_flip.png'))"
   ]
  },
  {
   "cell_type": "code",
   "execution_count": 33,
   "id": "246a3f07",
   "metadata": {},
   "outputs": [
    {
     "data": {
      "image/png": "[encoded data removed]",
      "text/plain": [
       "<Figure size 432x288 with 1 Axes>"
      ]
     },
     "metadata": {
      "needs_background": "light"
     },
     "output_type": "display_data"
    }
   ],
   "source": [
    "plt.plot(flips, nonzeros)\n",
    "slope, b = np.polyfit(flips, nonzeros, 1)\n",
    "plt.plot(flips, slope * flips + b)\n",
    "plt.title(m+\" nonzeros\")\n",
    "plt.text(1, 1, 'y = ' + str(slope) + ' x + ' + str(b))\n",
    "plt.savefig(os.path.join(del_profile_dir, m+'_nonzeros.png'))"
   ]
  },
  {
   "cell_type": "code",
   "execution_count": 15,
   "id": "a44b7376",
   "metadata": {},
   "outputs": [
    {
     "name": "stdout",
     "output_type": "stream",
     "text": [
      "1.365561243247426 -6.299646269828296\n"
     ]
    },
    {
     "data": {
      "image/png": "[encoded data removed]",
      "text/plain": [
       "<Figure size 432x288 with 1 Axes>"
      ]
     },
     "metadata": {
      "needs_background": "light"
     },
     "output_type": "display_data"
    }
   ],
   "source": [
    "n = 10000\n",
    "plt.plot(np.log(flips[n:]), np.log(t_totals[n:]))\n",
    "slope, b = np.polyfit(np.log(flips[n:]), np.log(t_totals[n:]), 1)\n",
    "plt.plot(np.log(flips[n:]), slope * np.log(flips[n:]) + b)\n",
    "#plt.text(1, 1, 'y = ' + str(slope) + ' x + ' + str(b), fontsize=10)\n",
    "print(slope, b)"
   ]
  },
  {
   "cell_type": "code",
   "execution_count": 16,
   "id": "310496ef",
   "metadata": {},
   "outputs": [
    {
     "ename": "AssertionError",
     "evalue": "",
     "output_type": "error",
     "traceback": [
      "\u001b[0;31m---------------------------------------------------------------------------\u001b[0m",
      "\u001b[0;31mAssertionError\u001b[0m                            Traceback (most recent call last)",
      "\u001b[0;32m<ipython-input-16-8808c4021c9c>\u001b[0m in \u001b[0;36m<module>\u001b[0;34m\u001b[0m\n\u001b[0;32m----> 1\u001b[0;31m \u001b[0;32massert\u001b[0m\u001b[0;34m(\u001b[0m\u001b[0;32mFalse\u001b[0m\u001b[0;34m)\u001b[0m\u001b[0;34m\u001b[0m\u001b[0;34m\u001b[0m\u001b[0m\n\u001b[0m",
      "\u001b[0;31mAssertionError\u001b[0m: "
     ]
    }
   ],
   "source": [
    "assert(False)"
   ]
  },
  {
   "cell_type": "code",
   "execution_count": null,
   "id": "859a8969",
   "metadata": {
    "scrolled": true
   },
   "outputs": [],
   "source": [
    "C_cpp = Connectivity_cpp()\n",
    "C_cpp.n = C.next_he\n",
    "C_cpp.prev = C.prev_he\n",
    "C_cpp.to = C.to\n",
    "C_cpp.f = C.he2f\n",
    "C_cpp.h = C.f2he\n",
    "C_cpp.out = C.out\n",
    "C_cpp.opp = C.opp \n",
    "\n",
    "# Run method and get log\n",
    "opt_params = { 'p': 2,\n",
    "               'max_angle': 25,\n",
    "               'require_energy_decr': True }\n",
    "\n",
    "lambdas_init = 2*np.log(elen)\n",
    "log_opt, lambdas_opt = incremental_projection(C_cpp,\n",
    "                                              lambdas_init,\n",
    "                                              lambdas_init,\n",
    "                                              Th_hat,\n",
    "                                              beta=0.01,\n",
    "                                              min_ratio=0.01,\n",
    "                                              float_type=float_type,\n",
    "                                              num_opt_iter=50,\n",
    "                                              opt_params=opt_params)\n",
    "energy(lambdas_init, lambdas_opt)"
   ]
  },
  {
   "cell_type": "code",
   "execution_count": null,
   "id": "3d943eca",
   "metadata": {},
   "outputs": [],
   "source": [
    "# Make mesh Delaunay first\n",
    "if cut_mesh:\n",
    "    FWG.make_delaunay_with_jacobian\n",
    "    make_delaunay(C, lambdas)\n",
    "    #make_sym_delaunay(C, R, elen, LengthFun, phi)\n",
    "else:\n",
    "    make_delaunay(C, elen, phi, float_type)"
   ]
  }
 ],
 "metadata": {
  "kernelspec": {
   "display_name": "Python 3",
   "language": "python",
   "name": "python3"
  },
  "language_info": {
   "codemirror_mode": {
    "name": "ipython",
    "version": 3
   },
   "file_extension": ".py",
   "mimetype": "text/x-python",
   "name": "python",
   "nbconvert_exporter": "python",
   "pygments_lexer": "ipython3",
   "version": "3.9.4"
  }
 },
 "nbformat": 4,
 "nbformat_minor": 5
}
