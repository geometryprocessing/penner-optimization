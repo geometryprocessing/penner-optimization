{
 "cells": [
  {
   "cell_type": "code",
   "execution_count": 1,
   "id": "19e005d6",
   "metadata": {},
   "outputs": [],
   "source": [
    "import os, io, cProfile, pstats, pickle, shutil\n",
    "import pymeshlab\n",
    "import sys\n",
    "import igl\n",
    "import meshplot as plot\n",
    "import pickle\n",
    "from init_cm_data import *\n",
    "from conformal_impl.optimization import *\n",
    "#from conformal_impl.layout import *\n",
    "from optimization_py import *\n",
    "from scipy.sparse import csr_matrix\n",
    "#from conformal_impl.finite_diff import *\n",
    "#import conformal_impl.functions_with_jacobians as FWJ\n",
    "#import script_conformal\n",
    "from conformal_py import *\n",
    "from conformal_impl.meshgen import *\n",
    "from analysis import *\n",
    "%load_ext autoreload\n",
    "%autoreload 2\n",
    "from IPython.core.display import HTML, clear_output\n"
   ]
  },
  {
   "cell_type": "code",
   "execution_count": 2,
   "id": "4f39651a",
   "metadata": {},
   "outputs": [],
   "source": [
    "def get_euclidean_target_lambdas(v, f, Th_hat):\n",
    "    # Get mesh and the embedding for the undoubled mesh\n",
    "    C, _ = fv_to_double(v, f, Th_hat, False)\n",
    "    proj, embed = build_refl_proj(C)\n",
    "    proj = np.array(proj)\n",
    "    embed = np.array(embed)\n",
    "\n",
    "    # Remove the symmetry structure\n",
    "    # WARNING: This changes the embedding. It is important to remove the\n",
    "    # symmetry after getting the embedding.\n",
    "    #remove_symmetry(C)\n",
    "    \n",
    "    # Get target lengths after Euclidean flips and flip sequence\n",
    "    flip_seq = make_delaunay(C, False)\n",
    "    he2e, e2he = build_edge_maps(C) \n",
    "    lambdas_target_flipped = 2*np.log(C.l)[e2he]\n",
    "    \n",
    "    # Convert Euclidean flip sequence to Ptolemy sequence\n",
    "    flip_seq_ptolemy = (-np.array(flip_seq) - 1)\n",
    "\n",
    "    # Flip edges with Ptolemy flips to get the lengths for the original connectivity\n",
    "    _, lambdas_target_full = flip_edges(C,\n",
    "                                        lambdas_target_flipped,\n",
    "                                        flip_seq_ptolemy[::-1])\n",
    "    \n",
    "    # Return the embedded lambda lengths\n",
    "    return np.array(lambdas_target_full)[embed], flip_seq_ptolemy\n",
    "\n"
   ]
  },
  {
   "cell_type": "code",
   "execution_count": 3,
   "id": "dcf8b366",
   "metadata": {},
   "outputs": [],
   "source": [
    "def test_anomaly(C, lambdas_init, lambdas_target, v, f, Th_hat, output_dir, num_iter = 250):\n",
    "    # Run optimization code with 0 iterations (should be the same as conformal)\n",
    "    proj_params = ProjectionParameters()\n",
    "    proj_params.do_reduction = True\n",
    "    opt_params = {}\n",
    "    opt_params['num_iter'] = 0\n",
    "    _, lambdas = optimize_lambdas(C,\n",
    "                                  lambdas_init,\n",
    "                                  lambdas_target,\n",
    "                                  proj_params=proj_params,\n",
    "                                  opt_params=opt_params)\n",
    "\n",
    "    # Save output lambdas and overlay mesh viewers to file    \n",
    "    vw_mesh, vw_layout = generate_overlay_viewer(C, lambdas, v, f, Th_hat)\n",
    "    np.savetxt(os.path.join(output_dir, 'conf_lambdas'), lambdas)\n",
    "    vw_mesh.save(os.path.join(output_dir, 'conf_mesh'))\n",
    "    vw_layout.save(os.path.join(output_dir, 'conf_layout'))\n",
    "\n",
    "    # Run optimization code with 1000 iterations\n",
    "    opt_params['min_ratio'] = 1e-10\n",
    "    opt_params['num_iter'] = num_iter\n",
    "    opt_params['max_angle'] = 100\n",
    "    opt_params['max_grad_range'] = 10\n",
    "    _, lambdas = optimize_lambdas(C,\n",
    "                                  lambdas_init,\n",
    "                                  lambdas_target,\n",
    "                                  proj_params=proj_params,\n",
    "                                  opt_params=opt_params)\n",
    "\n",
    "    # Save output lambdas and overlay mesh viewers to file    \n",
    "    vw_mesh, vw_layout = generate_overlay_viewer(C, lambdas, v, f, Th_hat)\n",
    "    np.savetxt(os.path.join(output_dir, 'opt_lambdas'), lambdas)\n",
    "    vw_mesh.save(os.path.join(output_dir, 'opt_mesh'))\n",
    "    vw_layout.save(os.path.join(output_dir, 'opt_layout'))\n",
    "\n",
    "\n"
   ]
  },
  {
   "cell_type": "markdown",
   "id": "62a3481d",
   "metadata": {},
   "source": [
    "## Delaunay Square"
   ]
  },
  {
   "cell_type": "code",
   "execution_count": 4,
   "id": "ec640fbe",
   "metadata": {},
   "outputs": [],
   "source": [
    "n = 4\n",
    "def build_del_rect(n):\n",
    "    dx = 1/(n-1)/2\n",
    "    dy = 1/(n-1)\n",
    "    grid_line = np.zeros((n,3))\n",
    "    grid_line[:,0] = np.linspace(0,1,n)\n",
    "    strip_lines = np.concatenate((grid_line,\n",
    "                                  np.array([[0,dy,0],]),\n",
    "                                  grid_line+np.array([dx,dy,0])))\n",
    "                                 \n",
    "    strip_lines[-1,0] = 1\n",
    "    v = np.concatenate((strip_lines, grid_line+np.array([0,2*dy,0])))\n",
    "    f_0 = np.stack((np.arange(n-1),np.arange(1,n),np.arange(n+1,2*n))).T\n",
    "    f_1 = np.stack((np.arange(n,2*n),np.arange(0,n),np.arange(n+1,2*n+1))).T\n",
    "    f_2 = np.stack((np.arange(n,2*n),np.arange(n+1,2*n+1),np.arange(2*n+1,3*n+1))).T\n",
    "    f_3 = np.stack((np.arange(2*n+1,3*n),np.arange(n+1,2*n),np.arange(2*n+2,3*n+1))).T\n",
    "    f=np.concatenate((f_0,f_1,f_2,f_3))\n",
    "    return v,f\n"
   ]
  },
  {
   "cell_type": "code",
   "execution_count": 10,
   "id": "23f44b32",
   "metadata": {},
   "outputs": [],
   "source": [
    "def test_del_square(n, s=0, t=0, use_prev=True,\n",
    "                    initial_ptolemy=True,\n",
    "                    interpolate_from_original=False,\n",
    "                    use_python_code=True):\n",
    "    # Build mesh\n",
    "    v,f = build_del_rect(n)\n",
    "    m = int(1.5*n)\n",
    "    v[m] = s*v[m+1] + (1-s)*v[m]\n",
    "    v[m,1] += t\n",
    "    v[m+1,1] += t\n",
    "\n",
    "    # Build halfedge mesh\n",
    "    Th_hat = map_to_disk(v,f)\n",
    "    free_angles = True\n",
    "    C, vtx_reindex = fv_to_double(v, f, Th_hat, free_angles)\n",
    "    lambdas, _ = get_euclidean_target_lambdas(v, f, Th_hat)\n",
    "\n",
    "\n",
    "    # Get stretched lambdas\n",
    "    v_stretch = v.copy()\n",
    "    v_stretch[:,1] *=0.49\n",
    "    C_stretch, _ = fv_to_double(v_stretch, f, Th_hat, free_angles)\n",
    "    lambdas_target, _ = get_euclidean_target_lambdas(v_stretch, f, Th_hat)\n",
    "\n",
    "    vw_orig, _  = generate_overlay_viewer(C,\n",
    "                                         lambdas,\n",
    "                                         v, f, \n",
    "                                         Th_hat,\n",
    "                                         initial_ptolemy=initial_ptolemy,\n",
    "                                         view_original_edges=True,\n",
    "                                         interpolate_from_original=interpolate_from_original,\n",
    "                                         use_python_code=use_python_code)\n",
    "\n",
    "\n",
    "    vw_mesh, vw_layout = generate_overlay_viewer(C,\n",
    "                                                 lambdas_target,\n",
    "                                                 v, f, \n",
    "                                                 Th_hat,\n",
    "                                                 initial_ptolemy=initial_ptolemy,\n",
    "                                                 view_original_edges=True,\n",
    "                                                 interpolate_from_original=interpolate_from_original,\n",
    "                                                 use_python_code=use_python_code)\n",
    "    display(vw_orig._renderer)\n",
    "    display(vw_mesh._renderer)\n",
    "    display(vw_layout._renderer)"
   ]
  },
  {
   "cell_type": "code",
   "execution_count": 12,
   "id": "24e1b5d1",
   "metadata": {
    "scrolled": false
   },
   "outputs": [
    {
     "name": "stdout",
     "output_type": "stream",
     "text": [
      "Angle error: 1.88496\n",
      "Overlay length 0.41666666666666663\n",
      "13\n",
      "1.0\n",
      "1.0000000000000009\n",
      "0.6666666666666672\n",
      "1.0000000000000007\n",
      "0.6666666666666672\n",
      "Flips: 0\n",
      "Angle error: 3.55271e-15\n",
      "Angle error: 1.88496\n",
      "Overlay length 0.3333333333333333\n",
      "18\n",
      "1.0\n",
      "0.833333333333334\n",
      "0.32666666666666705\n",
      "0.833333333333334\n",
      "0.3266666666666668\n",
      "Flips: 6\n",
      "Angle error: 5.32907e-15\n"
     ]
    },
    {
     "data": {
      "application/vnd.jupyter.widget-view+json": {
       "model_id": "8133813ef5a7470ea626b179754619b7",
       "version_major": 2,
       "version_minor": 0
      },
      "text/plain": [
       "Renderer(camera=PerspectiveCamera(children=(DirectionalLight(color='white', intensity=0.6, position=(0.5, 0.33…"
      ]
     },
     "metadata": {},
     "output_type": "display_data"
    },
    {
     "data": {
      "application/vnd.jupyter.widget-view+json": {
       "model_id": "d0a26d729a524f3596e7ee8016acc970",
       "version_major": 2,
       "version_minor": 0
      },
      "text/plain": [
       "Renderer(camera=PerspectiveCamera(children=(DirectionalLight(color='white', intensity=0.6, position=(0.5, 0.33…"
      ]
     },
     "metadata": {},
     "output_type": "display_data"
    },
    {
     "data": {
      "application/vnd.jupyter.widget-view+json": {
       "model_id": "5fe668d7964a41369311733bfda68019",
       "version_major": 2,
       "version_minor": 0
      },
      "text/plain": [
       "Renderer(camera=PerspectiveCamera(children=(DirectionalLight(color='white', intensity=0.6, position=(0.3333333…"
      ]
     },
     "metadata": {},
     "output_type": "display_data"
    }
   ],
   "source": [
    "test_del_square(n=4,\n",
    "                s=0.25,\n",
    "                initial_ptolemy=True,\n",
    "                use_python_code=False)"
   ]
  },
  {
   "cell_type": "code",
   "execution_count": 18,
   "id": "a5f5bb48",
   "metadata": {
    "scrolled": false
   },
   "outputs": [
    {
     "name": "stdout",
     "output_type": "stream",
     "text": [
      "Angle error: 1.88496\n",
      "Overlay length 0.5\n",
      "13\n",
      "1.0\n",
      "1.0000000000000009\n",
      "0.6666666666666674\n",
      "1.0000000000000009\n",
      "0.6666666666666674\n",
      "Flips: 0\n",
      "Angle error: 3.55271e-15\n",
      "Angle error: 1.88496\n",
      "Overlay length 0.37119925766209294\n",
      "18\n",
      "1.0\n",
      "0.8333333333333333\n",
      "0.32666666666666705\n",
      "0.8333333333333333\n",
      "0.3266666666666668\n",
      "Flips: 6\n",
      "Angle error: 5.32907e-15\n"
     ]
    },
    {
     "data": {
      "application/vnd.jupyter.widget-view+json": {
       "model_id": "5f321f3143614c48bf685d571215240f",
       "version_major": 2,
       "version_minor": 0
      },
      "text/plain": [
       "Renderer(camera=PerspectiveCamera(children=(DirectionalLight(color='white', intensity=0.6, position=(0.5, 0.33…"
      ]
     },
     "metadata": {},
     "output_type": "display_data"
    },
    {
     "data": {
      "application/vnd.jupyter.widget-view+json": {
       "model_id": "ecfd43786ecb4effaf714cbea65be0c5",
       "version_major": 2,
       "version_minor": 0
      },
      "text/plain": [
       "Renderer(camera=PerspectiveCamera(children=(DirectionalLight(color='white', intensity=0.6, position=(0.5, 0.33…"
      ]
     },
     "metadata": {},
     "output_type": "display_data"
    },
    {
     "data": {
      "application/vnd.jupyter.widget-view+json": {
       "model_id": "d2ecb8cfcfa74b7cb2b2ed305bd7a480",
       "version_major": 2,
       "version_minor": 0
      },
      "text/plain": [
       "Renderer(camera=PerspectiveCamera(children=(DirectionalLight(color='white', intensity=0.6, position=(0.3333333…"
      ]
     },
     "metadata": {},
     "output_type": "display_data"
    }
   ],
   "source": [
    "test_del_square(n=4,\n",
    "                s=0.5,\n",
    "                initial_ptolemy=True,\n",
    "                interpolate_from_original=False,\n",
    "                use_python_code=False)"
   ]
  },
  {
   "cell_type": "code",
   "execution_count": 45,
   "id": "f22227ac",
   "metadata": {
    "scrolled": false
   },
   "outputs": [
    {
     "name": "stdout",
     "output_type": "stream",
     "text": [
      "Angle error: 1.88496\n",
      "Overlay length 0.5833333333333334\n",
      "13\n",
      "1.0\n",
      "1.0000000000000013\n",
      "0.6666666666666672\n",
      "1.0000000000000009\n",
      "0.6666666666666672\n",
      "Flips: 0\n",
      "Angle error: 3.55271e-15\n",
      "Angle error: 1.88496\n",
      "Overlay length 0.4667142832849903\n",
      "23\n",
      "1.0\n",
      "0.8333333333333337\n",
      "0.326666666666667\n",
      "0.8333333333333334\n",
      "0.326666666666667\n",
      "Flips: 10\n",
      "Angle error: 5.32907e-15\n"
     ]
    },
    {
     "data": {
      "application/vnd.jupyter.widget-view+json": {
       "model_id": "68693a640a0e4a258916fc7f896d8770",
       "version_major": 2,
       "version_minor": 0
      },
      "text/plain": [
       "Renderer(camera=PerspectiveCamera(children=(DirectionalLight(color='white', intensity=0.6, position=(0.5, 0.33…"
      ]
     },
     "metadata": {},
     "output_type": "display_data"
    },
    {
     "data": {
      "application/vnd.jupyter.widget-view+json": {
       "model_id": "0173cb6df9fa4ea2af1c1a701a70d135",
       "version_major": 2,
       "version_minor": 0
      },
      "text/plain": [
       "Renderer(camera=PerspectiveCamera(children=(DirectionalLight(color='white', intensity=0.6, position=(0.5, 0.33…"
      ]
     },
     "metadata": {},
     "output_type": "display_data"
    },
    {
     "data": {
      "application/vnd.jupyter.widget-view+json": {
       "model_id": "7042d9db2a0f4ae7b84aa815b64ebb4c",
       "version_major": 2,
       "version_minor": 0
      },
      "text/plain": [
       "Renderer(camera=PerspectiveCamera(children=(DirectionalLight(color='white', intensity=0.6, position=(0.3333333…"
      ]
     },
     "metadata": {},
     "output_type": "display_data"
    }
   ],
   "source": [
    "test_del_square(n=4,\n",
    "                s=0.75,\n",
    "                initial_ptolemy=True,\n",
    "                interpolate_from_original=True,\n",
    "                use_python_code=True)"
   ]
  },
  {
   "cell_type": "code",
   "execution_count": null,
   "id": "416553b2",
   "metadata": {},
   "outputs": [],
   "source": [
    "  /**\n",
    "   * Interpolate 3d coordinates to get the OverlayMesh in 3d\n",
    "   * @param m_o OverlayMesh computed from FindConformalMetric\n",
    "   * @param flip_seq Flip_ccw Sequence used in FindConformalMetric\n",
    "   * @param x 3d coordinat of the Original Mesh\n",
    "   * @return interpolated OverlayMesh Coordinates\n",
    "   */\n",
    "  static std::vector<std::vector<Scalar>> Interpolate_3d(OverlayMesh<Scalar> & m_o, const std::vector<int> &flip_seq, const std::vector<std::vector<Scalar>> &x, bool uniform = false)\n",
    "  {\n",
    "    std::vector<std::vector<Scalar>> z(3);\n",
    "\n",
    "    if (uniform)\n",
    "    {\n",
    "      for (int j = 0; j < 3; j++)\n",
    "      {\n",
    "        z[j] = m_o.interpolate_along_o(x[j]);\n",
    "      }\n",
    "      return z;\n",
    "    }\n",
    "    auto rev_map = GetReverseMap(m_o, flip_seq);\n",
    "    if(m_o.bypass_overlay) return std::vector<std::vector<Scalar>>();\n",
    "    auto m_o_rev = std::get<0>(rev_map);\n",
    "    auto v_map = std::get<1>(rev_map);\n",
    "\n",
    "    Eigen::Matrix<Scalar, -1, 1> u_0(m_o_rev.cmesh().out.size());\n",
    "    u_0.setZero();\n",
    "\n",
    "    m_o_rev.bc_eq_to_scaled(m_o_rev.cmesh().n, m_o_rev.cmesh().to, m_o_rev.cmesh().l, u_0);\n",
    "\n",
    "    std::vector<std::vector<Scalar>> z_rev(3);\n",
    "    for (int j = 0; j < 3; j++)\n",
    "    {\n",
    "      z_rev[j] = m_o_rev.interpolate_along_o_bc(m_o_rev.cmesh().opp, m_o_rev.cmesh().to, x[j]);\n",
    "    }\n",
    "\n",
    "    for (int j = 0; j < 3; j++)\n",
    "    {\n",
    "      z[j].resize(z_rev[j].size());\n",
    "      for (int i = 0; i < z[j].size(); i++)\n",
    "      {\n",
    "        z[j][i] = z_rev[j][v_map[i]];\n",
    "      }\n",
    "    }\n",
    "    \n",
    "    return z;\n",
    "  }"
   ]
  },
  {
   "cell_type": "code",
   "execution_count": 20,
   "id": "f669c286",
   "metadata": {
    "scrolled": true
   },
   "outputs": [
    {
     "name": "stdout",
     "output_type": "stream",
     "text": [
      "Angle error: 1.88496\n",
      "Overlay length 0.5833333333333334\n",
      "13\n",
      "1.0\n",
      "1.0000000000000013\n",
      "0.6666666666666672\n",
      "1.0000000000000009\n",
      "0.6666666666666672\n",
      "Flips: 0\n",
      "Angle error: 3.55271e-15\n",
      "Angle error: 1.88496\n",
      "Overlay length 0.4667142832849903\n",
      "23\n",
      "1.0\n",
      "0.8333333333333337\n",
      "0.326666666666667\n",
      "0.8333333333333334\n",
      "0.326666666666667\n",
      "Flips: 10\n",
      "Angle error: 5.32907e-15\n"
     ]
    },
    {
     "data": {
      "application/vnd.jupyter.widget-view+json": {
       "model_id": "d2b93dcd9cdc406894cb91724a52378d",
       "version_major": 2,
       "version_minor": 0
      },
      "text/plain": [
       "Renderer(camera=PerspectiveCamera(children=(DirectionalLight(color='white', intensity=0.6, position=(0.5, 0.33…"
      ]
     },
     "metadata": {},
     "output_type": "display_data"
    },
    {
     "data": {
      "application/vnd.jupyter.widget-view+json": {
       "model_id": "bfea03e4b51848c289670bb8643df80a",
       "version_major": 2,
       "version_minor": 0
      },
      "text/plain": [
       "Renderer(camera=PerspectiveCamera(children=(DirectionalLight(color='white', intensity=0.6, position=(0.5, 0.33…"
      ]
     },
     "metadata": {},
     "output_type": "display_data"
    },
    {
     "data": {
      "application/vnd.jupyter.widget-view+json": {
       "model_id": "43dbd46e4d074853ac43b2df1b6cb728",
       "version_major": 2,
       "version_minor": 0
      },
      "text/plain": [
       "Renderer(camera=PerspectiveCamera(children=(DirectionalLight(color='white', intensity=0.6, position=(0.3333333…"
      ]
     },
     "metadata": {},
     "output_type": "display_data"
    }
   ],
   "source": [
    "test_del_square(n=4,\n",
    "                s=0.75,\n",
    "                initial_ptolemy=True,\n",
    "                interpolate_from_original=True,\n",
    "                use_python_code=True)"
   ]
  },
  {
   "cell_type": "code",
   "execution_count": 22,
   "id": "7610716d",
   "metadata": {
    "scrolled": false
   },
   "outputs": [
    {
     "name": "stdout",
     "output_type": "stream",
     "text": [
      "Error: 1.88496\n",
      "Sizes: 13 16\n",
      "Flips: 4\n",
      "Angle error: 1.77636e-15\n",
      "Error: 1.88496\n",
      "Sizes: 13 16\n",
      "Flips: 8\n",
      "Angle error: 3.55271e-15\n"
     ]
    },
    {
     "data": {
      "application/vnd.jupyter.widget-view+json": {
       "model_id": "e21476903cfc41d7aad92033694554c5",
       "version_major": 2,
       "version_minor": 0
      },
      "text/plain": [
       "Renderer(camera=PerspectiveCamera(children=(DirectionalLight(color='white', intensity=0.6, position=(0.5, 0.33…"
      ]
     },
     "metadata": {},
     "output_type": "display_data"
    },
    {
     "data": {
      "application/vnd.jupyter.widget-view+json": {
       "model_id": "70c3941bd63f4a90b501baa59b181af4",
       "version_major": 2,
       "version_minor": 0
      },
      "text/plain": [
       "Renderer(camera=PerspectiveCamera(children=(DirectionalLight(color='white', intensity=0.6, position=(0.5, 0.33…"
      ]
     },
     "metadata": {},
     "output_type": "display_data"
    },
    {
     "data": {
      "application/vnd.jupyter.widget-view+json": {
       "model_id": "8409eb06407b4f85b4c1973366ab02bf",
       "version_major": 2,
       "version_minor": 0
      },
      "text/plain": [
       "Renderer(camera=PerspectiveCamera(children=(DirectionalLight(color='white', intensity=0.6, position=(0.3333333…"
      ]
     },
     "metadata": {},
     "output_type": "display_data"
    }
   ],
   "source": [
    "test_del_square(n=4,\n",
    "                s=0,\n",
    "                t=0.2,\n",
    "                initial_ptolemy=True,\n",
    "                interpolate_from_original=True,\n",
    "                use_python_code=False)"
   ]
  },
  {
   "cell_type": "code",
   "execution_count": null,
   "id": "f84e2be1",
   "metadata": {},
   "outputs": [],
   "source": [
    "n=5\n",
    "v,f = build_del_rect(n)\n",
    "plot.plot(v,f,shading={'wireframe':True})\n",
    "Th_hat = map_to_disk(v,f)\n",
    "free_angles = True\n",
    "C, vtx_reindex = fv_to_double(v, f, Th_hat, free_angles)"
   ]
  },
  {
   "cell_type": "code",
   "execution_count": null,
   "id": "48bde72a",
   "metadata": {},
   "outputs": [],
   "source": [
    "n=4\n",
    "v,f = build_del_rect(n)\n",
    "s = 0.15\n",
    "#s = 0\n",
    "m = int(1.5*n)\n",
    "v[m] = s*v[m+1] + (1-s)*v[m]\n",
    "plot.plot(v,f,shading={'wireframe':True})\n",
    "Th_hat = map_to_disk(v,f)\n",
    "free_angles = True\n",
    "C, vtx_reindex = fv_to_double(v, f, Th_hat, free_angles)\n",
    "lambdas, _ = get_euclidean_target_lambdas(v, f, Th_hat)\n",
    "\n"
   ]
  },
  {
   "cell_type": "code",
   "execution_count": null,
   "id": "2b10cfe3",
   "metadata": {
    "scrolled": true
   },
   "outputs": [],
   "source": [
    "output_dir = '../output/anomaly_meshes'\n",
    "lambdas_init, _ = get_euclidean_target_lambdas(v, f, Th_hat)\n",
    "\n",
    "# Get target lambdas from stretched mesh\n",
    "v_stretch = v.copy()\n",
    "v_stretch[:,1] *=0.49\n",
    "plot.plot(v_stretch, f)\n",
    "C_stretch, _ = fv_to_double(v_stretch, f, Th_hat, free_angles)\n",
    "lambdas_target, _ = get_euclidean_target_lambdas(v_stretch, f, Th_hat)\n",
    "lambdas = lambdas_target\n",
    "test_anomaly(C, lambdas_init, lambdas_target, v, f, Th_hat, output_dir)\n"
   ]
  },
  {
   "cell_type": "code",
   "execution_count": null,
   "id": "fe54d4c9",
   "metadata": {
    "scrolled": false
   },
   "outputs": [],
   "source": [
    "output_dir = '../output/anomaly_meshes'\n",
    "#lambdas = np.loadtxt(os.path.join(output_dir, 'opt_lambdas'), dtype=float)\n",
    "vw_mesh, vw_layout = generate_overlay_viewer(C,\n",
    "                                             lambdas,\n",
    "                                             v, f, \n",
    "                                             Th_hat,\n",
    "                                             initial_ptolemy=True,\n",
    "                                             view_original_edges=True,\n",
    "                                             interpolate_from_original=True,\n",
    "                                             use_python_code=True)\n",
    "display(vw_mesh._renderer), display(vw_layout._renderer)"
   ]
  },
  {
   "cell_type": "markdown",
   "id": "5b2cf50e",
   "metadata": {},
   "source": [
    "## Two Triangle Chart"
   ]
  },
  {
   "cell_type": "code",
   "execution_count": 4,
   "id": "a9ee59e8",
   "metadata": {},
   "outputs": [],
   "source": [
    "def two_triangle_angles(r,a):\n",
    "    h = np.sqrt(1 - r*r)\n",
    "    theta_i = 2*np.arctan(a*h/(1+r))\n",
    "    theta_j = 2*np.arctan(a*h/(1-r))\n",
    "    theta_k = np.pi - theta_i/2 - theta_j/2\n",
    "    theta_l = theta_k\n",
    "    return np.array([theta_i, theta_j, theta_k, theta_l])"
   ]
  },
  {
   "cell_type": "code",
   "execution_count": 5,
   "id": "f61287c6",
   "metadata": {},
   "outputs": [],
   "source": [
    "def two_triangle_vertex_positions(v,w,f,interpolate_from_original=True):\n",
    "    # Build halfedge mesh\n",
    "    Th_hat = map_to_disk(v,f)\n",
    "    free_angles = True\n",
    "    C, vtx_reindex = fv_to_double(v, f, Th_hat, free_angles)\n",
    "    lambdas, _ = get_euclidean_target_lambdas(v, f, Th_hat)\n",
    "\n",
    "    # Get stretched lambdas\n",
    "    C_stretch, _ = fv_to_double(w, f, Th_hat, free_angles)\n",
    "    lambdas_target, _ = get_euclidean_target_lambdas(w, f, Th_hat)\n",
    "\n",
    "    param_res = mesh_parametrization(v,\n",
    "                                     f,\n",
    "                                     Th_hat,\n",
    "                                     lambdas_target,\n",
    "                                     initial_ptolemy=True,\n",
    "                                     interpolate_from_original=interpolate_from_original)\n",
    "    \n",
    "    return param_res[0], param_res[1], param_res[-2]"
   ]
  },
  {
   "cell_type": "code",
   "execution_count": 6,
   "id": "d7411066",
   "metadata": {
    "scrolled": false
   },
   "outputs": [],
   "source": [
    "def test_shear(v,w,f,use_python_code=True,show_wireframe=True,interpolate_from_original=True):\n",
    "    eps = 0\n",
    "    \n",
    "    # Build halfedge mesh\n",
    "    Th_hat = map_to_disk(v,f)\n",
    "    free_angles = True\n",
    "    C, vtx_reindex = fv_to_double(v, f, Th_hat, free_angles)\n",
    "    lambdas, _ = get_euclidean_target_lambdas(v, f, Th_hat)\n",
    "\n",
    "\n",
    "    # Get stretched lambdas\n",
    "    w_copy = w.copy()\n",
    "    w_copy[2,1] -= eps\n",
    "    w_copy[3,1] += eps\n",
    "    C_stretch, _ = fv_to_double(w_copy, f, Th_hat, free_angles)\n",
    "    lambdas_target, _ = get_euclidean_target_lambdas(w_copy, f, Th_hat)\n",
    "\n",
    "    vw_orig, _  = generate_overlay_viewer(C,\n",
    "                                         lambdas,\n",
    "                                         v, f, \n",
    "                                         Th_hat,\n",
    "                                         initial_ptolemy=True,\n",
    "                                         view_original_edges=show_wireframe,\n",
    "                                         interpolate_from_original=interpolate_from_original,\n",
    "                                         use_python_code=use_python_code)\n",
    "\n",
    "\n",
    "    vw_mesh, vw_layout = generate_overlay_viewer(C,\n",
    "                                                 lambdas_target,\n",
    "                                                 v, f, \n",
    "                                                 Th_hat,\n",
    "                                                 initial_ptolemy=True,\n",
    "                                                 view_original_edges=show_wireframe,\n",
    "                                                 interpolate_from_original=interpolate_from_original,\n",
    "                                                 use_python_code=use_python_code)\n",
    "    display(vw_orig._renderer)\n",
    "    display(vw_mesh._renderer)\n",
    "    display(vw_layout._renderer)\n",
    "\n",
    "    return build_overlay_layout_FV(C,\n",
    "                                   lambdas_target,\n",
    "                                   v,\n",
    "                                   f,\n",
    "                                   Th_hat,\n",
    "                                   initial_ptolemy=True,\n",
    "                                   interpolate_from_original=interpolate_from_original,\n",
    "                                   use_python_code=use_python_code)\n"
   ]
  },
  {
   "cell_type": "code",
   "execution_count": 7,
   "id": "166919d2",
   "metadata": {},
   "outputs": [],
   "source": [
    "def two_triangle_meshes(r, a, s, b, flipped=False):\n",
    "    hr = np.sqrt(1-r*r)\n",
    "    v = np.array([[-1,     0, 0],\n",
    "                  [ 1,     0, 0],\n",
    "                  [ r, -a*hr, 0],\n",
    "                  [ r,  a*hr, 0]],dtype=float)\n",
    "    \n",
    "    hs = np.sqrt(1-s*s)\n",
    "    w = np.array([[-1,     0, 0],\n",
    "                  [ 1,     0, 0],\n",
    "                  [ s, -b*hs, 0],\n",
    "                  [ s,  b*hs, 0]],dtype=float)\n",
    "\n",
    "    if flipped:\n",
    "        f = np.array([[0, 2, 3],\n",
    "                      [3, 2, 1]],dtype=int)\n",
    "    else:\n",
    "        f = np.array([[0, 1, 3],\n",
    "                      [0, 2, 1]],dtype=int)\n",
    "    \n",
    "    return v,w,f\n",
    "\n"
   ]
  },
  {
   "cell_type": "code",
   "execution_count": 8,
   "id": "49b9d0d9",
   "metadata": {},
   "outputs": [],
   "source": [
    "def two_triangle_overlay(r, a):\n",
    "    h = np.sqrt(1-r*r)\n",
    "    v = np.array([[-1,   0, 0],\n",
    "                  [ 1,    0, 0],\n",
    "                  [ r, -a*h, 0],\n",
    "                  [ r,  a*h, 0],\n",
    "                  [ r,    0, 0]], dtype=float)\n",
    "\n",
    "    f = np.array([[0, 3, 4],\n",
    "                  [0, 4, 2],\n",
    "                  [4, 1, 2],\n",
    "                  [4, 3, 1]],dtype=int)\n",
    "    return v,f\n",
    "\n"
   ]
  },
  {
   "cell_type": "code",
   "execution_count": 9,
   "id": "7083fc9f",
   "metadata": {},
   "outputs": [],
   "source": [
    "def two_triangle_scale_factors(r, a, s, b):\n",
    "    # Compute relevant original and target lengths\n",
    "    Lik = (1 + s)*(1 + s) + (1 - s*s)*(b*b)\n",
    "    lik = (1 + r)*(1 + r) + (1 - r*r)*(a*a)\n",
    "    Ljk = (1 - s)*(1 - s) + (1 - s*s)*(b*b)\n",
    "    ljk = (1 - r)*(1 - r) + (1 - r*r)*(a*a)\n",
    "    \n",
    "    # Compute change in Penner coordinates\n",
    "    di = np.log(Lik/lik)\n",
    "    dj = np.log(Ljk/ljk)\n",
    "\n",
    "    # Compute scale factors\n",
    "    ui = 0.5*(di - dj)\n",
    "    uj = 0.5*(dj - di)\n",
    "    uk = ul = 0.5*(di + dj)\n",
    "    \n",
    "    return np.array([ui, uj, uk, ul])\n",
    "    \n",
    "    "
   ]
  },
  {
   "cell_type": "code",
   "execution_count": 10,
   "id": "12629b98",
   "metadata": {},
   "outputs": [],
   "source": [
    "def two_triangle_overlay_scale(r, a, s, b):\n",
    "    v, f = two_triangle_overlay(r, a)\n",
    "\n",
    "    # Build halfedge mesh\n",
    "    Th_hat = map_to_disk(v,f)\n",
    "    free_angles = True\n",
    "    C, vtx_reindex = fv_to_double(v, f, Th_hat, free_angles)\n",
    "    lambdas = lambdas_from_mesh(C)\n",
    "    print(lambdas)\n",
    "    proj, embed = build_refl_proj(C)\n",
    "    he2e, e2he = build_edge_maps(C)\n",
    "    proj = np.array(proj)\n",
    "    embed = np.array(embed)\n",
    "    he2e = np.array(he2e)\n",
    "    e2he = np.array(e2he)\n",
    "\n",
    "\n",
    "    # Scale overlay mesh\n",
    "    u = two_triangle_scale_factors(r, a, s, b)\n",
    "    print(u)\n",
    "    u = np.append(u, 0)\n",
    "    print(u)\n",
    "    u = u[vtx_reindex]\n",
    "    v_rep = np.array(C.v_rep)\n",
    "    to = np.array(C.to)\n",
    "    opp = np.array(C.opp)\n",
    "    print(v_rep)\n",
    "    lambdas_scaled = lambdas[proj[he2e]] + u[v_rep[to]] + u[v_rep[to[opp]]]\n",
    "    return C, lambdas_scaled[e2he[embed]]\n",
    "\n"
   ]
  },
  {
   "cell_type": "code",
   "execution_count": 11,
   "id": "1424e2d3",
   "metadata": {},
   "outputs": [],
   "source": [
    "def validate_lengths(r, a, s, b):    \n",
    "    v, w, f = two_triangle_meshes(r, a, s, b)\n",
    "\n",
    "    # Build halfedge mesh\n",
    "    Th_hat = map_to_disk(v,f)\n",
    "    free_angles = True\n",
    "    C, vtx_reindex = fv_to_double(v, f, Th_hat, free_angles)\n",
    "    lambdas, _ = get_euclidean_target_lambdas(v, f, Th_hat)\n",
    "    proj, embed = build_refl_proj(C)\n",
    "    he2e, e2he = build_edge_maps(C)\n",
    "    proj = np.array(proj)\n",
    "    embed = np.array(embed)\n",
    "    he2e = np.array(he2e)\n",
    "    e2he = np.array(e2he)\n",
    "\n",
    "    # Get stretched lambdas\n",
    "    w_copy = w.copy()\n",
    "    C_stretch, _ = fv_to_double(w_copy, f, Th_hat, free_angles)\n",
    "    lambdas_target, _ = get_euclidean_target_lambdas(w_copy, f, Th_hat)\n",
    "\n",
    "    Lik = np.sqrt((1 + s)*(1 + s) + (1 - s*s)*(b*b))\n",
    "    lik = np.sqrt((1 + r)*(1 + r) + (1 - r*r)*(a*a))\n",
    "    Ljk = np.sqrt((1 - s)*(1 - s) + (1 - s*s)*(b*b))\n",
    "    ljk = np.sqrt((1 - r)*(1 - r) + (1 - r*r)*(a*a))\n",
    "    print(\"Analytic lengths:\", lik, ljk)\n",
    "    print(\"Actual lengths:\", np.exp(lambdas/2))\n",
    "    print(\"Analytic target lengths:\", Lik, Ljk)\n",
    "    print(\"Actual target lengths:\", np.exp(lambdas_target/2))\n"
   ]
  },
  {
   "cell_type": "code",
   "execution_count": 12,
   "id": "ac5ef829",
   "metadata": {},
   "outputs": [],
   "source": [
    "def validate_scale_factors(r, a, s, b):    \n",
    "    v, w, f = two_triangle_meshes(r, a, s, b)\n",
    "\n",
    "    # Build halfedge mesh\n",
    "    Th_hat = map_to_disk(v,f)\n",
    "    free_angles = True\n",
    "    C, vtx_reindex = fv_to_double(v, f, Th_hat, free_angles)\n",
    "    vtx_reindex = np.array(vtx_reindex)\n",
    "    lambdas, _ = get_euclidean_target_lambdas(v, f, Th_hat)\n",
    "    proj, embed = build_refl_proj(C)\n",
    "    he2e, e2he = build_edge_maps(C)\n",
    "    proj = np.array(proj)\n",
    "    embed = np.array(embed)\n",
    "    he2e = np.array(he2e)\n",
    "    e2he = np.array(e2he)\n",
    "\n",
    "    # Get stretched lambdas\n",
    "    w_copy = w.copy()\n",
    "    C_stretch, _ = fv_to_double(w_copy, f, Th_hat, free_angles)\n",
    "    lambdas_target, _ = get_euclidean_target_lambdas(w_copy, f, Th_hat)\n",
    "\n",
    "    # Get scale factors\n",
    "    u = two_triangle_scale_factors(r, a, s, b)\n",
    "    u = u[vtx_reindex]\n",
    "#    print(u)\n",
    "#    u = best_fit_conformal(C, lambdas[proj], lambdas_target[proj])\n",
    "#    print(u)\n",
    "#    B = conformal_scaling_matrix(C)\n",
    "#    print(B * u)\n",
    "#    print(lambdas_target - lambdas)\n",
    "#    u = u[vtx_reindex]\n",
    "\n",
    "\n",
    "    \n",
    "    # Apply scale factors\n",
    "#    u = u[vtx_reindex]\n",
    "#    u = u[vtx_reindex_inv]\n",
    "    lambdas_scaled = lambdas[proj[he2e]] + u[C.to] + u[np.array(C.to)[C.opp]]\n",
    "#    lambdas_scaled = lambdas[proj[he2e]] + u[vtx_reindex[C.to]]\n",
    "#    lambdas_scaled = lambdas[proj[he2e]] + u[vtx_reindex_inv[C.to]]\n",
    "    print(np.max(lambdas_scaled - lambdas_target[proj[he2e]]))\n",
    "\n",
    "    "
   ]
  },
  {
   "cell_type": "code",
   "execution_count": 13,
   "id": "aab0bab7",
   "metadata": {},
   "outputs": [],
   "source": [
    "def vary_a(r, max_a, n=10):\n",
    "    a_vals = np.linspace(1, max_a, n)\n",
    "    point_vals = []\n",
    "    u_vals = []\n",
    "    for a in a_vals:\n",
    "        v, w, f = two_triangle_meshes(r, a, r, 0.5)\n",
    "        vo, fo = two_triangle_vertex_positions(v,w,f)\n",
    "        u = two_triangle_scale_factors(r, a, 0, 1)\n",
    "        point_vals.append(vo[4,0])\n",
    "        u_vals.append(u[2])\n",
    "        \n",
    "        \n",
    "    return a_vals, point_vals, u_vals"
   ]
  },
  {
   "cell_type": "code",
   "execution_count": 14,
   "id": "a2d1687e",
   "metadata": {},
   "outputs": [
    {
     "ename": "NameError",
     "evalue": "name 'r' is not defined",
     "output_type": "error",
     "traceback": [
      "\u001b[0;31m---------------------------------------------------------------------------\u001b[0m",
      "\u001b[0;31mNameError\u001b[0m                                 Traceback (most recent call last)",
      "\u001b[0;32m<ipython-input-14-ed916ba451ee>\u001b[0m in \u001b[0;36m<module>\u001b[0;34m\u001b[0m\n\u001b[0;32m----> 1\u001b[0;31m \u001b[0ma_vals\u001b[0m\u001b[0;34m,\u001b[0m \u001b[0mpoint_vals\u001b[0m\u001b[0;34m,\u001b[0m \u001b[0mu_vals\u001b[0m \u001b[0;34m=\u001b[0m \u001b[0mvary_a\u001b[0m\u001b[0;34m(\u001b[0m\u001b[0mr\u001b[0m\u001b[0;34m,\u001b[0m \u001b[0;36m50\u001b[0m\u001b[0;34m,\u001b[0m \u001b[0;36m20\u001b[0m\u001b[0;34m)\u001b[0m\u001b[0;34m\u001b[0m\u001b[0;34m\u001b[0m\u001b[0m\n\u001b[0m",
      "\u001b[0;31mNameError\u001b[0m: name 'r' is not defined"
     ]
    }
   ],
   "source": [
    "a_vals, point_vals, u_vals = vary_a(r, 50, 20)\n"
   ]
  },
  {
   "cell_type": "code",
   "execution_count": 15,
   "id": "a5740b94",
   "metadata": {},
   "outputs": [
    {
     "ename": "NameError",
     "evalue": "name 'a_vals' is not defined",
     "output_type": "error",
     "traceback": [
      "\u001b[0;31m---------------------------------------------------------------------------\u001b[0m",
      "\u001b[0;31mNameError\u001b[0m                                 Traceback (most recent call last)",
      "\u001b[0;32m<ipython-input-15-6a24c4797d6d>\u001b[0m in \u001b[0;36m<module>\u001b[0;34m\u001b[0m\n\u001b[0;32m----> 1\u001b[0;31m \u001b[0mplt\u001b[0m\u001b[0;34m.\u001b[0m\u001b[0mplot\u001b[0m\u001b[0;34m(\u001b[0m\u001b[0ma_vals\u001b[0m\u001b[0;34m,\u001b[0m \u001b[0mpoint_vals\u001b[0m\u001b[0;34m)\u001b[0m\u001b[0;34m\u001b[0m\u001b[0;34m\u001b[0m\u001b[0m\n\u001b[0m\u001b[1;32m      2\u001b[0m \u001b[0mplt\u001b[0m\u001b[0;34m.\u001b[0m\u001b[0mplot\u001b[0m\u001b[0;34m(\u001b[0m\u001b[0ma_vals\u001b[0m\u001b[0;34m,\u001b[0m \u001b[0;36m0.5\u001b[0m\u001b[0;34m*\u001b[0m\u001b[0mnp\u001b[0m\u001b[0;34m.\u001b[0m\u001b[0mexp\u001b[0m\u001b[0;34m(\u001b[0m\u001b[0mu_vals\u001b[0m\u001b[0;34m)\u001b[0m\u001b[0;34m)\u001b[0m\u001b[0;34m\u001b[0m\u001b[0;34m\u001b[0m\u001b[0m\n",
      "\u001b[0;31mNameError\u001b[0m: name 'a_vals' is not defined"
     ]
    }
   ],
   "source": [
    "plt.plot(a_vals, point_vals)\n",
    "plt.plot(a_vals, 0.5*np.exp(u_vals))\n"
   ]
  },
  {
   "cell_type": "code",
   "execution_count": 16,
   "id": "d05ae0f1",
   "metadata": {},
   "outputs": [
    {
     "ename": "NameError",
     "evalue": "name 'u_vals' is not defined",
     "output_type": "error",
     "traceback": [
      "\u001b[0;31m---------------------------------------------------------------------------\u001b[0m",
      "\u001b[0;31mNameError\u001b[0m                                 Traceback (most recent call last)",
      "\u001b[0;32m<ipython-input-16-1dd450fda9d4>\u001b[0m in \u001b[0;36m<module>\u001b[0;34m\u001b[0m\n\u001b[0;32m----> 1\u001b[0;31m \u001b[0mu_vals\u001b[0m\u001b[0;34m,\u001b[0m \u001b[0mpoint_vals\u001b[0m\u001b[0;34m\u001b[0m\u001b[0;34m\u001b[0m\u001b[0m\n\u001b[0m",
      "\u001b[0;31mNameError\u001b[0m: name 'u_vals' is not defined"
     ]
    }
   ],
   "source": [
    "u_vals, point_vals"
   ]
  },
  {
   "cell_type": "code",
   "execution_count": 17,
   "id": "d218c060",
   "metadata": {},
   "outputs": [
    {
     "ename": "NameError",
     "evalue": "name 'point_vals' is not defined",
     "output_type": "error",
     "traceback": [
      "\u001b[0;31m---------------------------------------------------------------------------\u001b[0m",
      "\u001b[0;31mNameError\u001b[0m                                 Traceback (most recent call last)",
      "\u001b[0;32m<ipython-input-17-7d6ff9eade69>\u001b[0m in \u001b[0;36m<module>\u001b[0;34m\u001b[0m\n\u001b[0;32m----> 1\u001b[0;31m \u001b[0mprint\u001b[0m\u001b[0;34m(\u001b[0m\u001b[0mpoint_vals\u001b[0m \u001b[0;34m-\u001b[0m \u001b[0;36m0.5\u001b[0m\u001b[0;34m*\u001b[0m\u001b[0mnp\u001b[0m\u001b[0;34m.\u001b[0m\u001b[0mexp\u001b[0m\u001b[0;34m(\u001b[0m\u001b[0mu_vals\u001b[0m\u001b[0;34m)\u001b[0m\u001b[0;34m)\u001b[0m\u001b[0;34m\u001b[0m\u001b[0;34m\u001b[0m\u001b[0m\n\u001b[0m",
      "\u001b[0;31mNameError\u001b[0m: name 'point_vals' is not defined"
     ]
    }
   ],
   "source": [
    "print(point_vals - 0.5*np.exp(u_vals))"
   ]
  },
  {
   "cell_type": "code",
   "execution_count": 44,
   "id": "c995c0ba",
   "metadata": {
    "scrolled": false
   },
   "outputs": [
    {
     "data": {
      "application/vnd.jupyter.widget-view+json": {
       "model_id": "af2016f2a0454e5a936b3c06b8ffac16",
       "version_major": 2,
       "version_minor": 0
      },
      "text/plain": [
       "Renderer(camera=PerspectiveCamera(children=(DirectionalLight(color='white', intensity=0.6, position=(0.0, 0.0,…"
      ]
     },
     "metadata": {},
     "output_type": "display_data"
    },
    {
     "name": "stdout",
     "output_type": "stream",
     "text": [
      "[ 1.59213173  0.69314718  1.06959999  0.69314718  1.59213173 -2.45589435\n",
      "  0.73514597  0.73514597]\n",
      "[-0.42849288  0.42849288 -0.47049167 -0.47049167]\n",
      "[-0.42849288  0.42849288 -0.47049167 -0.47049167  0.        ]\n",
      "[0 1 2 3 4 1]\n",
      "Angle error: 2.32471\n",
      "Overlay length 1.7433340363720016\n",
      "5\n",
      "1.414213562373095\n",
      "1.2759039455021002\n",
      "1.54015230475826\n",
      "1.2759039455021002\n",
      "1.54015230475826\n"
     ]
    },
    {
     "data": {
      "application/vnd.jupyter.widget-view+json": {
       "model_id": "738a38b686b4418fac3c8693de61c3e6",
       "version_major": 2,
       "version_minor": 0
      },
      "text/plain": [
       "Renderer(camera=PerspectiveCamera(children=(DirectionalLight(color='white', intensity=0.6, position=(0.0, 0.0,…"
      ]
     },
     "metadata": {},
     "output_type": "display_data"
    },
    {
     "data": {
      "text/plain": [
       "<meshplot.Viewer.Viewer at 0x189f6d8b0>"
      ]
     },
     "execution_count": 44,
     "metadata": {},
     "output_type": "execute_result"
    }
   ],
   "source": [
    "alpha = np.pi/4\n",
    "beta = np.pi/4\n",
    "r = np.cos(alpha)\n",
    "s = np.cos(beta)\n",
    "a = 2\n",
    "b = 0.5\n",
    "eps = 1\n",
    "v, w, f = two_triangle_meshes(r, a, s, b, flipped=False)\n",
    "\n",
    "vo, fo = two_triangle_overlay(r, a)\n",
    "plot.plot(vo, fo, shading={'wireframe': True})\n",
    "_, lambdas_scaled = two_triangle_overlay_scale(r, a, 0, 1)\n",
    "vo, fo, _ = two_triangle_vertex_positions(v,w,f)\n",
    "plot.plot(vo, fo, shading={'wireframe': True})\n",
    "\n"
   ]
  },
  {
   "cell_type": "code",
   "execution_count": 19,
   "id": "deaf3dba",
   "metadata": {},
   "outputs": [],
   "source": [
    "def interpolation_point(r,a):\n",
    "    v, w, f = two_triangle_meshes(r, a, r, 0.5)\n",
    "    lik = np.sqrt((1 + r)*(1 + r) + (1 - r*r)*(a*a))\n",
    "    ljk = np.sqrt((1 - r)*(1 - r) + (1 - r*r)*(a*a))\n",
    "    Si = ljk/(2*np.sqrt(3)*lik)\n",
    "    Sj = lik/(2*np.sqrt(3)*ljk)\n",
    "    S = Si + Sj\n",
    "    return Si/S, Sj/S"
   ]
  },
  {
   "cell_type": "code",
   "execution_count": 20,
   "id": "310a2fdf",
   "metadata": {},
   "outputs": [],
   "source": [
    "xi, xj = interpolation_point(r, a)\n"
   ]
  },
  {
   "cell_type": "code",
   "execution_count": 21,
   "id": "f889c30b",
   "metadata": {},
   "outputs": [
    {
     "data": {
      "text/plain": [
       "0.4040610178208842"
      ]
     },
     "execution_count": 21,
     "metadata": {},
     "output_type": "execute_result"
    }
   ],
   "source": [
    "xj - xi"
   ]
  },
  {
   "cell_type": "code",
   "execution_count": 22,
   "id": "95b0b4ff",
   "metadata": {},
   "outputs": [
    {
     "name": "stdout",
     "output_type": "stream",
     "text": [
      "Angle error: 3.13994\n",
      "Overlay length 1.7071069276331505\n",
      "5\n",
      "1.414213562373095\n",
      "1.9999941715983875\n",
      "0.00482841305390008\n",
      "1.9999941715983875\n",
      "0.00482841305390008\n"
     ]
    }
   ],
   "source": [
    "v, w, f = two_triangle_meshes(r, a, s, 0.001)\n",
    "vo, fo, Co =two_triangle_vertex_positions(v,w,f)"
   ]
  },
  {
   "cell_type": "code",
   "execution_count": 23,
   "id": "bc7f6a79",
   "metadata": {},
   "outputs": [
    {
     "data": {
      "text/plain": [
       "array([[-1.        ,  0.        ,  0.        ],\n",
       "       [ 1.        ,  0.        ,  0.        ],\n",
       "       [ 0.70710678, -1.41421356,  0.        ],\n",
       "       [ 0.70710678,  1.41421356,  0.        ],\n",
       "       [ 0.40406102,  0.        ,  0.        ]])"
      ]
     },
     "execution_count": 23,
     "metadata": {},
     "output_type": "execute_result"
    }
   ],
   "source": [
    "\n",
    "vo"
   ]
  },
  {
   "cell_type": "code",
   "execution_count": 24,
   "id": "69b29244",
   "metadata": {},
   "outputs": [
    {
     "name": "stdout",
     "output_type": "stream",
     "text": [
      "SEG BCS\n",
      "0: 0 1 \n",
      "1: 0 1 \n",
      "2: 0 1 \n",
      "3: 0 1 \n",
      "4: 0 1 \n",
      "5: 0 1 \n",
      "6: 0 1 \n",
      "7: 0 1 \n",
      "8: 0 1 \n",
      "9: 0 1 \n",
      "10: 0 1 \n",
      "11: 0 1 \n",
      "12: 0.5 0.5 \n",
      "13: 0 1 \n",
      "14: 0 1 \n",
      "15: 0.5 0.5 \n",
      "16: 0 1 \n",
      "17: 0 1 \n",
      "18: 0 1 \n",
      "19: 0 1 \n",
      "20: 0.5 0.5 \n",
      "21: 0 1 \n",
      "22: 0 1 \n",
      "23: 0.5 0.5 \n"
     ]
    }
   ],
   "source": [
    "print_overlay_info(Co)"
   ]
  },
  {
   "cell_type": "code",
   "execution_count": 25,
   "id": "217e1b9e",
   "metadata": {},
   "outputs": [
    {
     "ename": "NameError",
     "evalue": "name 'Th_hat' is not defined",
     "output_type": "error",
     "traceback": [
      "\u001b[0;31m---------------------------------------------------------------------------\u001b[0m",
      "\u001b[0;31mNameError\u001b[0m                                 Traceback (most recent call last)",
      "\u001b[0;32m<ipython-input-25-f7136988ac04>\u001b[0m in \u001b[0;36m<module>\u001b[0;34m\u001b[0m\n\u001b[0;32m----> 1\u001b[0;31m \u001b[0mC\u001b[0m\u001b[0;34m,\u001b[0m \u001b[0mvtx_reindex\u001b[0m \u001b[0;34m=\u001b[0m \u001b[0mfv_to_double\u001b[0m\u001b[0;34m(\u001b[0m\u001b[0mv\u001b[0m\u001b[0;34m,\u001b[0m \u001b[0mf\u001b[0m\u001b[0;34m,\u001b[0m \u001b[0mTh_hat\u001b[0m\u001b[0;34m,\u001b[0m \u001b[0mfree_angles\u001b[0m\u001b[0;34m)\u001b[0m\u001b[0;34m\u001b[0m\u001b[0;34m\u001b[0m\u001b[0m\n\u001b[0m\u001b[1;32m      2\u001b[0m \u001b[0mlambdas\u001b[0m \u001b[0;34m=\u001b[0m \u001b[0mlambdas_from_mesh\u001b[0m\u001b[0;34m(\u001b[0m\u001b[0mC\u001b[0m\u001b[0;34m)\u001b[0m\u001b[0;34m\u001b[0m\u001b[0;34m\u001b[0m\u001b[0m\n",
      "\u001b[0;31mNameError\u001b[0m: name 'Th_hat' is not defined"
     ]
    }
   ],
   "source": [
    "C, vtx_reindex = fv_to_double(v, f, Th_hat, free_angles)\n",
    "lambdas = lambdas_from_mesh(C)"
   ]
  },
  {
   "cell_type": "code",
   "execution_count": 26,
   "id": "c7e52f82",
   "metadata": {},
   "outputs": [
    {
     "ename": "NameError",
     "evalue": "name 'lambdas' is not defined",
     "output_type": "error",
     "traceback": [
      "\u001b[0;31m---------------------------------------------------------------------------\u001b[0m",
      "\u001b[0;31mNameError\u001b[0m                                 Traceback (most recent call last)",
      "\u001b[0;32m<ipython-input-26-2dddf4ce0e22>\u001b[0m in \u001b[0;36m<module>\u001b[0;34m\u001b[0m\n\u001b[0;32m----> 1\u001b[0;31m \u001b[0mlambdas\u001b[0m\u001b[0;34m\u001b[0m\u001b[0;34m\u001b[0m\u001b[0m\n\u001b[0m",
      "\u001b[0;31mNameError\u001b[0m: name 'lambdas' is not defined"
     ]
    }
   ],
   "source": [
    "lambdas"
   ]
  },
  {
   "cell_type": "code",
   "execution_count": 27,
   "id": "43e2d19b",
   "metadata": {},
   "outputs": [
    {
     "data": {
      "text/plain": [
       "-1.6281621199999996"
      ]
     },
     "execution_count": 27,
     "metadata": {},
     "output_type": "execute_result"
    }
   ],
   "source": [
    "1.25823754 -2.22848007 - 1.02784416 + 0.36992457"
   ]
  },
  {
   "cell_type": "code",
   "execution_count": 28,
   "id": "090db381",
   "metadata": {},
   "outputs": [
    {
     "data": {
      "text/plain": [
       "array([-0.42849288,  0.42849288, -0.47049167, -0.47049167])"
      ]
     },
     "execution_count": 28,
     "metadata": {},
     "output_type": "execute_result"
    }
   ],
   "source": [
    "two_triangle_scale_factors(r, a, 0, 1)"
   ]
  },
  {
   "cell_type": "code",
   "execution_count": 29,
   "id": "1e15a33e",
   "metadata": {},
   "outputs": [
    {
     "name": "stdout",
     "output_type": "stream",
     "text": [
      "[[-1.          0.          0.        ]\n",
      " [ 1.          0.          0.        ]\n",
      " [ 0.70710678 -1.41421356  0.        ]\n",
      " [ 0.70710678  1.41421356  0.        ]]\n"
     ]
    }
   ],
   "source": [
    "print(v)"
   ]
  },
  {
   "cell_type": "code",
   "execution_count": 30,
   "id": "e57a3541",
   "metadata": {},
   "outputs": [
    {
     "data": {
      "text/plain": [
       "(0.7737006681864743, 1.6452159417419687)"
      ]
     },
     "execution_count": 30,
     "metadata": {},
     "output_type": "execute_result"
    }
   ],
   "source": [
    "(1 + 0.40406102)*np.exp(-1 + 0.40406102), 0.40406102*np.exp(1 + 0.40406102)\n",
    "\n"
   ]
  },
  {
   "cell_type": "code",
   "execution_count": 31,
   "id": "891553d5",
   "metadata": {},
   "outputs": [
    {
     "ename": "SyntaxError",
     "evalue": "cannot assign to operator (<ipython-input-31-d851ddd5c694>, line 1)",
     "output_type": "error",
     "traceback": [
      "\u001b[0;36m  File \u001b[0;32m\"<ipython-input-31-d851ddd5c694>\"\u001b[0;36m, line \u001b[0;32m1\u001b[0m\n\u001b[0;31m    (1 + x)*np.exp(-z + x) = x*np.exp(z + x)\u001b[0m\n\u001b[0m    ^\u001b[0m\n\u001b[0;31mSyntaxError\u001b[0m\u001b[0;31m:\u001b[0m cannot assign to operator\n"
     ]
    }
   ],
   "source": [
    "(1 + x)*np.exp(-z + x) = x*np.exp(z + x)"
   ]
  },
  {
   "cell_type": "code",
   "execution_count": 32,
   "id": "330b616e",
   "metadata": {},
   "outputs": [
    {
     "ename": "SyntaxError",
     "evalue": "cannot assign to operator (<ipython-input-32-089f80b9b4fc>, line 2)",
     "output_type": "error",
     "traceback": [
      "\u001b[0;36m  File \u001b[0;32m\"<ipython-input-32-089f80b9b4fc>\"\u001b[0;36m, line \u001b[0;32m2\u001b[0m\n\u001b[0;31m    1/a + x/a - ax = 0\u001b[0m\n\u001b[0m    ^\u001b[0m\n\u001b[0;31mSyntaxError\u001b[0m\u001b[0;31m:\u001b[0m cannot assign to operator\n"
     ]
    }
   ],
   "source": [
    "a = np.exp(z)\n",
    "1/a + x/a - ax = 0\n",
    "1 + x - a^2 x = 0\n",
    "1 + (1 - a^2)x = 0\n",
    "x = -1/(1-a^2)"
   ]
  },
  {
   "cell_type": "code",
   "execution_count": 33,
   "id": "53ea6d96",
   "metadata": {},
   "outputs": [
    {
     "data": {
      "text/plain": [
       "0.7374368679702729"
      ]
     },
     "execution_count": 33,
     "metadata": {},
     "output_type": "execute_result"
    }
   ],
   "source": [
    "z = np.exp(0.42849288)\n",
    "-1/(1-z*z)"
   ]
  },
  {
   "cell_type": "code",
   "execution_count": 34,
   "id": "4c829b71",
   "metadata": {},
   "outputs": [
    {
     "data": {
      "text/plain": [
       "0.7071067811865476"
      ]
     },
     "execution_count": 34,
     "metadata": {},
     "output_type": "execute_result"
    }
   ],
   "source": [
    "np.sqrt(2)/2"
   ]
  },
  {
   "cell_type": "code",
   "execution_count": 35,
   "id": "1b464950",
   "metadata": {},
   "outputs": [],
   "source": [
    "# Build halfedge mesh\n",
    "Th_hat = map_to_disk(v,f)\n",
    "free_angles = True\n",
    "C, vtx_reindex = fv_to_double(v, f, Th_hat, free_angles)\n",
    "lambdas = lambdas_from_mesh(C)\n",
    "proj, embed = build_refl_proj(C)\n",
    "he2e, e2he = build_edge_maps(C)\n",
    "proj = np.array(proj)\n",
    "embed = np.array(embed)\n",
    "he2e = np.array(he2e)\n",
    "e2he = np.array(e2he)\n"
   ]
  },
  {
   "cell_type": "code",
   "execution_count": 36,
   "id": "bdbe02f5",
   "metadata": {},
   "outputs": [
    {
     "data": {
      "text/plain": [
       "(array([2.        , 1.4442252 , 2.21680255, 2.21680255, 1.4442252 ]),\n",
       " array([1.41421356, 1.1177612 , 1.37789029, 1.1177612 , 1.41421356,\n",
       "        0.36287359, 1.41421356, 1.41421356]))"
      ]
     },
     "execution_count": 36,
     "metadata": {},
     "output_type": "execute_result"
    }
   ],
   "source": [
    "np.exp(lambdas/2), np.exp(lambdas_scaled/2)"
   ]
  },
  {
   "cell_type": "code",
   "execution_count": 37,
   "id": "14d47e68",
   "metadata": {},
   "outputs": [
    {
     "data": {
      "text/plain": [
       "1.4142135623730951"
      ]
     },
     "execution_count": 37,
     "metadata": {},
     "output_type": "execute_result"
    }
   ],
   "source": [
    "np.sqrt(2)"
   ]
  },
  {
   "cell_type": "code",
   "execution_count": 38,
   "id": "544bf700",
   "metadata": {},
   "outputs": [
    {
     "name": "stdout",
     "output_type": "stream",
     "text": [
      "Analytic lengths: 2.216802553763662 1.4442252032238272\n",
      "Actual lengths: [2.         1.4442252  2.21680255 2.21680255 1.4442252 ]\n",
      "Analytic target lengths: 1.7433340363720016 0.45911484143611053\n",
      "Actual target lengths: [2.26384628 0.45911484 1.74333404 1.74333404 0.45911484]\n"
     ]
    }
   ],
   "source": [
    "validate_lengths(r, a, s, b)"
   ]
  },
  {
   "cell_type": "code",
   "execution_count": 39,
   "id": "3bef1845",
   "metadata": {},
   "outputs": [
    {
     "name": "stdout",
     "output_type": "stream",
     "text": [
      "2.220446049250313e-16\n"
     ]
    }
   ],
   "source": [
    "validate_scale_factors(r, a, s, b)"
   ]
  },
  {
   "cell_type": "code",
   "execution_count": 40,
   "id": "9b1f3f94",
   "metadata": {},
   "outputs": [
    {
     "name": "stdout",
     "output_type": "stream",
     "text": [
      "1.1102230246251565e-16\n"
     ]
    }
   ],
   "source": [
    "validate_scale_factors(r, a, 0, 1)"
   ]
  },
  {
   "cell_type": "code",
   "execution_count": 45,
   "id": "4e85a655",
   "metadata": {},
   "outputs": [],
   "source": [
    "n_upsample = 0\n",
    "vn, fn = igl.upsample(v, f, n_upsample)\n",
    "wn, _ = igl.upsample(w, f, n_upsample)\n",
    "bd = igl.boundary_loop(fn)\n",
    "Th_hatn = 2*np.pi*np.ones(len(vn))\n",
    "Th_hatn[bd] = np.pi\n",
    "Th_hatn[:4] = two_triangle_angles(s,b)\n",
    "#plot.plot(vn, fn,c=Th_hatn, shading={'wireframe':True})\n",
    "\n"
   ]
  },
  {
   "cell_type": "code",
   "execution_count": null,
   "id": "41ce1f38",
   "metadata": {},
   "outputs": [],
   "source": []
  },
  {
   "cell_type": "code",
   "execution_count": 46,
   "id": "0149de25",
   "metadata": {},
   "outputs": [
    {
     "name": "stdout",
     "output_type": "stream",
     "text": [
      "Angle error: 2.32471\n",
      "Overlay length 1.7433340363720016\n",
      "5\n",
      "1.414213562373095\n",
      "1.2759039455021002\n",
      "1.54015230475826\n",
      "1.2759039455021002\n",
      "1.54015230475826\n"
     ]
    },
    {
     "data": {
      "text/plain": [
       "(array([[-1.        ,  0.        ,  0.        ],\n",
       "        [ 1.        ,  0.        ,  0.        ],\n",
       "        [ 0.70710678, -1.41421356,  0.        ],\n",
       "        [ 0.70710678,  1.41421356,  0.        ],\n",
       "        [ 0.40406102,  0.        ,  0.        ]]),\n",
       " array([[4, 1, 3],\n",
       "        [2, 1, 4],\n",
       "        [4, 0, 2],\n",
       "        [3, 0, 4]]),\n",
       " <conformal_py.OverlayMesh_double at 0x18a0a72f0>)"
      ]
     },
     "execution_count": 46,
     "metadata": {},
     "output_type": "execute_result"
    }
   ],
   "source": [
    "two_triangle_vertex_positions(vn, wn, fn)"
   ]
  },
  {
   "cell_type": "code",
   "execution_count": 47,
   "id": "c84a9ca1",
   "metadata": {
    "scrolled": false
   },
   "outputs": [
    {
     "name": "stdout",
     "output_type": "stream",
     "text": [
      "Angle error: 0.975232\n",
      "Overlay length 2.216802553763662\n",
      "4\n",
      "1.414213562373095\n",
      "1.4442252032238276\n",
      "1.958439112149906\n",
      "1.4442252032238276\n",
      "1.958439112149906\n",
      "Flips: 0\n",
      "Angle error: 0\n",
      "Angle error: 2.32471\n",
      "Overlay length 1.7433340363720016\n",
      "5\n",
      "1.414213562373095\n",
      "1.2759039455021002\n",
      "1.54015230475826\n",
      "1.2759039455021002\n",
      "1.54015230475826\n",
      "Flips: 2\n",
      "Angle error: 0\n"
     ]
    },
    {
     "data": {
      "application/vnd.jupyter.widget-view+json": {
       "model_id": "2dfdaa77938d4cb992190ff043316c76",
       "version_major": 2,
       "version_minor": 0
      },
      "text/plain": [
       "Renderer(camera=PerspectiveCamera(children=(DirectionalLight(color='white', intensity=0.6, position=(0.0, 0.0,…"
      ]
     },
     "metadata": {},
     "output_type": "display_data"
    },
    {
     "data": {
      "application/vnd.jupyter.widget-view+json": {
       "model_id": "22f9e496765042aaa0c63018941129c6",
       "version_major": 2,
       "version_minor": 0
      },
      "text/plain": [
       "Renderer(camera=PerspectiveCamera(children=(DirectionalLight(color='white', intensity=0.6, position=(0.0, 0.0,…"
      ]
     },
     "metadata": {},
     "output_type": "display_data"
    },
    {
     "data": {
      "application/vnd.jupyter.widget-view+json": {
       "model_id": "0f653950a81240d59768cf0260ad3ffc",
       "version_major": 2,
       "version_minor": 0
      },
      "text/plain": [
       "Renderer(camera=PerspectiveCamera(children=(DirectionalLight(color='white', intensity=0.6, position=(0.5952463…"
      ]
     },
     "metadata": {},
     "output_type": "display_data"
    },
    {
     "name": "stdout",
     "output_type": "stream",
     "text": [
      "Angle error: 2.32471\n",
      "Overlay length 1.7433340363720016\n",
      "5\n",
      "1.414213562373095\n",
      "1.2759039455021002\n",
      "1.54015230475826\n",
      "1.2759039455021002\n",
      "1.54015230475826\n"
     ]
    }
   ],
   "source": [
    "#test_shear(v_sym,v_sym_stretch,f,use_python_code=True)\n",
    "v_cut_o, ft_o, uv_cut_o = test_shear(vn,\n",
    "                                     wn,\n",
    "                                     fn,\n",
    "                                     use_python_code=True,\n",
    "                                     show_wireframe=True,\n",
    "                                     interpolate_from_original=True)\n",
    "\n"
   ]
  },
  {
   "cell_type": "code",
   "execution_count": 43,
   "id": "3ab42be3",
   "metadata": {
    "scrolled": false
   },
   "outputs": [
    {
     "name": "stdout",
     "output_type": "stream",
     "text": [
      "Angle error: 0.975232\n",
      "Overlay length 2.216802553763662\n",
      "4\n",
      "1.414213562373095\n",
      "1.4442252032238276\n",
      "1.958439112149906\n",
      "1.4442252032238276\n",
      "1.958439112149906\n",
      "Flips: 0\n",
      "Angle error: 0\n",
      "Angle error: 2.32471\n",
      "Overlay length 1.7433340363720016\n",
      "5\n",
      "1.414213562373095\n",
      "1.2759039455021002\n",
      "1.54015230475826\n",
      "1.2759039455021002\n",
      "1.54015230475826\n",
      "Flips: 2\n",
      "Angle error: 0\n"
     ]
    },
    {
     "data": {
      "application/vnd.jupyter.widget-view+json": {
       "model_id": "68b05db5a4054073bcffc0f4064a7693",
       "version_major": 2,
       "version_minor": 0
      },
      "text/plain": [
       "Renderer(camera=PerspectiveCamera(children=(DirectionalLight(color='white', intensity=0.6, position=(0.0, 0.0,…"
      ]
     },
     "metadata": {},
     "output_type": "display_data"
    },
    {
     "data": {
      "application/vnd.jupyter.widget-view+json": {
       "model_id": "537e60364e244f4289d1b25ca407011b",
       "version_major": 2,
       "version_minor": 0
      },
      "text/plain": [
       "Renderer(camera=PerspectiveCamera(children=(DirectionalLight(color='white', intensity=0.6, position=(0.0, 0.0,…"
      ]
     },
     "metadata": {},
     "output_type": "display_data"
    },
    {
     "data": {
      "application/vnd.jupyter.widget-view+json": {
       "model_id": "7ce7051378504f00b2fa672f18060082",
       "version_major": 2,
       "version_minor": 0
      },
      "text/plain": [
       "Renderer(camera=PerspectiveCamera(children=(DirectionalLight(color='white', intensity=0.6, position=(0.5952463…"
      ]
     },
     "metadata": {},
     "output_type": "display_data"
    },
    {
     "name": "stdout",
     "output_type": "stream",
     "text": [
      "Angle error: 2.32471\n",
      "Overlay length 1.7433340363720016\n",
      "5\n",
      "1.414213562373095\n",
      "1.2759039455021002\n",
      "1.54015230475826\n",
      "1.2759039455021002\n",
      "1.54015230475826\n"
     ]
    }
   ],
   "source": [
    "#test_shear(v_sym,v_sym_stretch,f,use_python_code=True)\n",
    "v_cut_op, ft_op, uv_cut_op = test_shear(vn,wn,fn,\n",
    "                                        use_python_code=True,\n",
    "                                        show_wireframe=True,\n",
    "                                        interpolate_from_original=False)\n",
    "\n"
   ]
  },
  {
   "cell_type": "code",
   "execution_count": 41,
   "id": "235e6e5e",
   "metadata": {},
   "outputs": [
    {
     "name": "stdout",
     "output_type": "stream",
     "text": [
      "0.46622425133178974\n",
      "0\n",
      "0.0\n"
     ]
    }
   ],
   "source": [
    "print(np.max(np.abs(v_cut_op - v_cut_o)))\n",
    "print(np.max(np.abs(ft_op - ft_o)))\n",
    "print(np.max(np.abs(uv_cut_op - uv_cut_o)))"
   ]
  },
  {
   "cell_type": "code",
   "execution_count": 56,
   "id": "a29427a6",
   "metadata": {
    "scrolled": false
   },
   "outputs": [
    {
     "name": "stdout",
     "output_type": "stream",
     "text": [
      "Error: 8.88178e-16\n"
     ]
    },
    {
     "data": {
      "application/vnd.jupyter.widget-view+json": {
       "model_id": "10c111cdd0ec499a88cc3410ed5ce4b3",
       "version_major": 2,
       "version_minor": 0
      },
      "text/plain": [
       "Renderer(camera=PerspectiveCamera(children=(DirectionalLight(color='white', intensity=0.6, position=(0.0, 0.0,…"
      ]
     },
     "metadata": {},
     "output_type": "display_data"
    },
    {
     "data": {
      "application/vnd.jupyter.widget-view+json": {
       "model_id": "3bd0dcccaa9e479282f0d0b237fc4a1d",
       "version_major": 2,
       "version_minor": 0
      },
      "text/plain": [
       "Renderer(camera=PerspectiveCamera(children=(DirectionalLight(color='white', intensity=0.6, position=(1.3009091…"
      ]
     },
     "metadata": {},
     "output_type": "display_data"
    }
   ],
   "source": [
    "# Get conformal parametrization\n",
    "v = v_sym\n",
    "#Th_hatn = two_triangle_angles(b,t)\n",
    "#v_conf, f_conf, u_param, v_param, ft_conf = conformal_parametrization_vf_double(v,f,Th_hat)\n",
    "v_conf, f_conf, u_param, v_param, ft_conf = conformal_parametrization_vf_double(vn,fn,Th_hatn)\n",
    "uv_conf = np.vstack((u_param,v_param)).T\n",
    "f_conf = np.array(f_conf)\n",
    "ft_conf = np.array(ft_conf)\n",
    "v_conf = np.array(v_conf)\n",
    "v_conf_o = np.zeros((len(uv_conf),3),dtype=np.float64)\n",
    "v_conf_o[ft_conf] = v_conf[f_conf]\n",
    "\n",
    "# Plot parametrization\n",
    "tex = gen_checkers(width=1000,height=1000)\n",
    "vw_mesh = plot.Viewer(dict(width=1000, height=1000))\n",
    "vw_mesh.add_mesh(v_conf_o,\n",
    "                 ft_conf,\n",
    "                 uv=uv_conf,\n",
    "                 shading={\"wireframe\": True, \"flat\": True},\n",
    "                 texture_data=tex)\n",
    "display(vw_mesh._renderer)\n",
    "vw_mesh = plot.Viewer(dict(width=1000, height=1000))\n",
    "vw_mesh.add_mesh(uv_conf,\n",
    "                 ft_conf,\n",
    "                 uv=uv_conf,\n",
    "                 shading={\"wireframe\": True, \"flat\": True},\n",
    "                 texture_data=tex)\n",
    "display(vw_mesh._renderer)"
   ]
  },
  {
   "cell_type": "markdown",
   "id": "1db85d23",
   "metadata": {},
   "source": [
    "## Square"
   ]
  },
  {
   "cell_type": "code",
   "execution_count": null,
   "id": "51d2af9f",
   "metadata": {},
   "outputs": [],
   "source": [
    "# Create square\n",
    "data_dir = '../data/anomaly_meshes'\n",
    "os.makedirs(data_dir, exist_ok=True)\n",
    "# Create hemisphere of height n froma n implicit surface\n",
    "ms = pymeshlab.MeshSet()\n",
    "expr='z'\n",
    "ms.implicit_surface(expr=expr, voxelsize=0.15)\n",
    "ms.simplification_edge_collapse_for_marching_cube_meshes()\n",
    "per = pymeshlab.Percentage(15)\n",
    "ms.remeshing_isotropic_explicit_remeshing(targetlen=per)\n",
    "#ms.merge_close_vertices()\n",
    "\n",
    "# Save file as obj\n",
    "m='square'\n",
    "output_path = os.path.join(data_dir,m+'.obj')\n",
    "ms.save_current_mesh(output_path)"
   ]
  },
  {
   "cell_type": "code",
   "execution_count": null,
   "id": "5837c496",
   "metadata": {},
   "outputs": [],
   "source": [
    "# View mesh\n",
    "m = 'square'\n",
    "v, f = igl.read_triangle_mesh(data_dir+'/'+m+'.obj')\n",
    "print(len(v))\n",
    "plot.plot(v,f, shading={'wireframe': True})\n"
   ]
  },
  {
   "cell_type": "code",
   "execution_count": null,
   "id": "1a0e0a6c",
   "metadata": {
    "scrolled": true
   },
   "outputs": [],
   "source": [
    "# Run conformal and optimization method on square\n",
    "data_dir = '../data/anomaly_meshes'\n",
    "output_dir = '../output/anolaly_meshes'\n",
    "os.makedirs(output_dir, exist_ok=True)\n",
    "m='square'\n",
    "\n",
    "\n",
    "# Initialize mesh from the data set with flat target angles\n",
    "v, f = igl.read_triangle_mesh(data_dir+'/'+m+'.obj')\n",
    "v[:,0] *= 2\n",
    "Th_hat = map_to_disk(v,f)\n",
    "free_angles = True\n",
    "C, vtx_reindex = fv_to_double(v, f, Th_hat, free_angles)\n",
    "lambdas_init, _ = get_euclidean_target_lambdas(v, f, Th_hat)\n",
    "\n",
    "# Get target lambdas from stretched mesh\n",
    "v_stretch = v.copy()\n",
    "C_stretch, _ = fv_to_double(v_stretch, f, Th_hat, free_angles)\n",
    "lambdas_target, _ = get_euclidean_target_lambdas(v_stretch, f, Th_hat)\n",
    "\n",
    "test_anomaly(C, lambdas_init, lambdas_target, v, f, Th_hat, output_dir)\n",
    "\n",
    "\n"
   ]
  },
  {
   "cell_type": "code",
   "execution_count": null,
   "id": "b9a07c7d",
   "metadata": {},
   "outputs": [],
   "source": [
    "def mesh_parametrization(v, f, Th_hat, lambdas, flip_seq_init=[], initial_ptolemy=True, interpolate_from_original=False):\n",
    "    # Build mesh\n",
    "    C, vtx_reindex = fv_to_double(v, f, Th_hat, False)\n",
    "    lambdas_init = lambdas_from_mesh(C)\n",
    "    proj, embed = build_refl_proj(C)\n",
    "    he2e, e2he = build_edge_maps(C)\n",
    "    proj = np.array(proj)\n",
    "    embed = np.array(embed)\n",
    "    he2e = np.array(he2e)\n",
    "    e2he = np.array(e2he)\n",
    "    \n",
    "    # Get overlay mesh with original lengths and optimized lengths\n",
    "    C0_o = add_overlay(C, lambdas_init)\n",
    "\n",
    "    # Get cones and bd for the mesh\n",
    "    cones, bd = get_cones_and_bd(v, f, Th_hat, vtx_reindex)\n",
    "\n",
    "    # Make original mesh Delaunay with Euclidean flips and duplicate in optimized mesh with Ptolemy flips\n",
    "    if initial_ptolemy:\n",
    "        C_o = add_overlay(C, lambdas)\n",
    "        flip_seq_0 = []\n",
    "    else:\n",
    "        flip_seq_0 = make_delaunay_overlay(C0_o, False)\n",
    "        bc_original_to_eq_overlay(C0_o)\n",
    "\n",
    "        C_o = add_overlay(C, lambdas_init)\n",
    "        make_delaunay_overlay(C_o, False)\n",
    "        C_o_ptolemy = add_overlay(C, lambdas)\n",
    "        flip_seq_ptolemy = -np.array(flip_seq_0) - 1\n",
    "        flip_edges_overlay(C_o_ptolemy, flip_seq_ptolemy)\n",
    "        change_lengths_overlay(C_o, C_o_ptolemy._m.l)\n",
    "        bc_original_to_eq_overlay(C_o)\n",
    "\n",
    "    # Make optimized mesh Delaunay with Ptolemy flips and duplicate in original mesh\n",
    "    flip_seq_1 = make_delaunay_overlay(C_o, True)\n",
    "    flip_edges_overlay(C0_o, flip_seq_1)\n",
    "    print(\"Overlay length\", np.max(C_o._m.l))\n",
    "\n",
    "    # Interpolate points in the original mesh\n",
    "    v_reindex = np.zeros((3,len(C0_o._m.out)))\n",
    "    v_reindex[:,:len(vtx_reindex)] = (v.T)[:,vtx_reindex]\n",
    "    flip_seq_full = flip_seq_0 + flip_seq_1\n",
    "    if interpolate_from_original:\n",
    "        v_overlay = interpolate_3d(C0_o, flip_seq_full, v_reindex, False)\n",
    "    else:\n",
    "        v_overlay = interpolate_3d(C_o, flip_seq_full, v_reindex, False)\n",
    "\n",
    "    # Make meshes tufted\n",
    "    make_tufted_overlay(C_o, v, f, Th_hat)\n",
    "    make_tufted_overlay(C0_o, v, f, Th_hat)\n",
    "\n",
    "    # Get layout\n",
    "    u = np.zeros(len(v))\n",
    "    _, _, _, u_o, v_o, is_cut_o = get_layout_overlay(C_o, u, bd, cones, False, -1)\n",
    "    v3d, u_o_out, v_o_out, f_out, ft_out = get_FV_FTVT(C_o, is_cut_o, v_overlay, u_o, v_o)\n",
    "\n",
    "    # Reindex vertex positions\n",
    "    u_o_out_copy = np.array(u_o_out)\n",
    "    v_o_out_copy = np.array(v_o_out)\n",
    "    v3d_out_copy = np.array(v3d).T\n",
    "    u_o_out = u_o_out_copy.copy()\n",
    "    v_o_out = v_o_out_copy.copy()\n",
    "    v3d_out = v3d_out_copy.copy()\n",
    "    n_v = len(vtx_reindex)\n",
    "    u_o_out[vtx_reindex] = u_o_out_copy[:n_v]\n",
    "    v_o_out[vtx_reindex] = v_o_out_copy[:n_v]\n",
    "    v3d_out[vtx_reindex] = v3d_out_copy[:n_v]\n",
    "\n",
    "    # Reindex faces\n",
    "    f_out = reindex_F(f_out, vtx_reindex)\n",
    "    ft_out = reindex_F(ft_out, vtx_reindex)\n",
    "    f_out = np.array(f_out)\n",
    "    ft_out = np.array(ft_out)\n",
    "\n",
    "    print(len(v3d_out))\n",
    "    print(np.max(v3d_out))\n",
    "    print(np.max(u_o))\n",
    "    print(np.max(v_o))\n",
    "    print(np.max(u_o_out))\n",
    "    print(np.max(v_o_out))\n",
    "    return v3d_out, f_out, u_o, v_o, u_o_out, v_o_out, ft_out, C_o, v_overlay\n"
   ]
  },
  {
   "cell_type": "code",
   "execution_count": null,
   "id": "1c5f9737",
   "metadata": {},
   "outputs": [],
   "source": [
    "m = 'square'\n",
    "data_dir = '../data/anomaly_meshes'\n",
    "\n",
    "v, f = igl.read_triangle_mesh(data_dir+'/'+m+'.obj')\n",
    "v[:,0] *= 2\n",
    "Th_hat = map_to_disk(v,f)\n",
    "free_angles = True\n",
    "C, vtx_reindex = fv_to_double(v, f, Th_hat, free_angles)"
   ]
  },
  {
   "cell_type": "code",
   "execution_count": null,
   "id": "96a972c6",
   "metadata": {
    "scrolled": false
   },
   "outputs": [],
   "source": [
    "# View conformal output\n",
    "output_dir = '../output/anolaly_meshes'\n",
    "lambdas = np.loadtxt(os.path.join(output_dir, 'conf_lambdas'), dtype=float)\n",
    "vw_mesh, vw_layout = generate_overlay_viewer(C,\n",
    "                                             lambdas,\n",
    "                                             v, f, \n",
    "                                             Th_hat,\n",
    "                                             initial_ptolemy=True,\n",
    "                                             view_original_edges=True,\n",
    "                                             interpolate_from_original=True)\n",
    "display(vw_mesh._renderer), display(vw_layout._renderer)"
   ]
  },
  {
   "cell_type": "code",
   "execution_count": null,
   "id": "239dfc80",
   "metadata": {
    "scrolled": true
   },
   "outputs": [],
   "source": [
    "output_dir = '../output/anolaly_meshes'\n",
    "lambdas = np.loadtxt(os.path.join(output_dir, 'opt_lambdas'), dtype=float)\n",
    "vw_mesh, vw_layout = generate_overlay_viewer(C,\n",
    "                                             lambdas,\n",
    "                                             v, f, \n",
    "                                             Th_hat,\n",
    "                                             initial_ptolemy=False,\n",
    "                                             view_original_edges=True)\n",
    "display(vw_mesh._renderer), display(vw_layout._renderer)"
   ]
  },
  {
   "cell_type": "code",
   "execution_count": null,
   "id": "b25a58a9",
   "metadata": {
    "scrolled": false
   },
   "outputs": [],
   "source": [
    "# Get conformal parametrization\n",
    "v_conf, f_conf, u_param, v_param, ft_conf = conformal_parametrization_vf_double(v,f,Th_hat)\n",
    "uv_conf = np.vstack((u_param,v_param)).T\n",
    "f_conf = np.array(f_conf)\n",
    "ft_conf = np.array(ft_conf)\n",
    "v_conf = np.array(v_conf)\n",
    "v_conf_o = np.zeros((len(uv_conf),3),dtype=np.float64)\n",
    "v_conf_o[ft_conf] = v_conf[f_conf]\n",
    "\n",
    "# Plot parametrization\n",
    "tex = gen_checkers(width=1000,height=1000)\n",
    "vw_mesh = plot.Viewer(dict(width=1000, height=1000))\n",
    "vw_mesh.add_mesh(v_conf_o,\n",
    "                 ft_conf,\n",
    "                 uv=uv_conf,\n",
    "                 shading={\"wireframe\": True, \"flat\": True},\n",
    "                 texture_data=tex)\n",
    "display(vw_mesh._renderer)\n",
    "vw_mesh = plot.Viewer(dict(width=1000, height=1000))\n",
    "vw_mesh.add_mesh(uv_conf,\n",
    "                 ft_conf,\n",
    "                 uv=uv_conf,\n",
    "                 shading={\"wireframe\": True, \"flat\": True},\n",
    "                 texture_data=tex)\n",
    "display(vw_mesh._renderer)\n",
    "\n"
   ]
  },
  {
   "cell_type": "markdown",
   "id": "d698a723",
   "metadata": {},
   "source": [
    "## Cone"
   ]
  },
  {
   "cell_type": "code",
   "execution_count": null,
   "id": "04cd5976",
   "metadata": {},
   "outputs": [],
   "source": [
    "# Build cone with n vertices\n",
    "n = 10\n",
    "t = np.linspace(0, 2*np.pi, n)\n",
    "v = np.vstack((np.cos(t),np.sin(t),0*t)).T\n",
    "v[0] = [0,0,1]\n",
    "f = np.vstack((0*np.arange(n-1),np.arange(1,n), np.arange(2,n+1))).T\n",
    "f[-1,-1] = 1\n",
    "data_dir = '../data/anomaly_meshes'\n",
    "os.makedirs(data_dir, exist_ok=True)\n",
    "m='cone_' + str(n)\n",
    "output_path = os.path.join(data_dir,m+'.obj')\n",
    "igl.write_obj(output_path,v,f)"
   ]
  },
  {
   "cell_type": "code",
   "execution_count": null,
   "id": "cf5ce063",
   "metadata": {
    "scrolled": false
   },
   "outputs": [],
   "source": [
    "# View mesh\n",
    "m = 'cone_10'\n",
    "v, f = igl.read_triangle_mesh(data_dir+'/'+m+'.obj')\n",
    "print(len(v))\n",
    "plot.plot(v,f, shading={'wireframe': True})\n",
    "\n"
   ]
  },
  {
   "cell_type": "code",
   "execution_count": null,
   "id": "603d5896",
   "metadata": {},
   "outputs": [],
   "source": [
    "# Run conformal and optimization method on square\n",
    "data_dir = '../data/anomaly_meshes'\n",
    "output_dir = '../output/anolaly_meshes'\n",
    "\n",
    "os.makedirs(output_dir, exist_ok=True)\n",
    "n = 10\n",
    "m='cone_'+str(n)\n",
    "\n",
    "\n",
    "# Initialize mesh from the data set with flat target angles\n",
    "v, f = igl.read_triangle_mesh(data_dir+'/'+m+'.obj')\n",
    "Th_hat = map_to_disk(v,f)\n",
    "free_angles = True\n",
    "C, vtx_reindex = fv_to_double(v, f, Th_hat, free_angles)\n",
    "lambdas_init, _ = get_euclidean_target_lambdas(v, f, Th_hat)\n",
    "\n",
    "# Get target lambdas from original mesh\n",
    "proj, embed = build_refl_proj(C)\n",
    "he2e, e2he = build_edge_maps(C)\n",
    "proj = np.array(proj)\n",
    "embed = np.array(embed)\n",
    "he2e = np.array(he2e)\n",
    "e2he = np.array(e2he)\n",
    "bd_e = proj[np.where(np.arange(len(e2he)) == he2e[np.array(C.R)[e2he]])[0]]\n",
    "int_e = np.setdiff1d(np.arange(len(embed)), bd_e)\n",
    "lambdas_target, _ = get_euclidean_target_lambdas(v, f, Th_hat)\n",
    "lambdas_target[int_e] = 0\n",
    "\n",
    "test_anomaly(C, lambdas_init, lambdas_target, v, f, Th_hat, output_dir)\n",
    "\n",
    "\n"
   ]
  },
  {
   "cell_type": "code",
   "execution_count": null,
   "id": "ab6dbe70",
   "metadata": {},
   "outputs": [],
   "source": [
    "data_dir = '../data/anomaly_meshes'\n",
    "v, f = igl.read_triangle_mesh(data_dir+'/'+m+'.obj')\n",
    "Th_hat = map_to_disk(v,f)\n",
    "free_angles = True\n",
    "C, vtx_reindex = fv_to_double(v, f, Th_hat, free_angles)"
   ]
  },
  {
   "cell_type": "code",
   "execution_count": null,
   "id": "3cb4f3ad",
   "metadata": {
    "scrolled": false
   },
   "outputs": [],
   "source": [
    "# View conformal output\n",
    "output_dir = '../output/anolaly_meshes'\n",
    "lambdas = np.loadtxt(os.path.join(output_dir, 'conf_lambdas'), dtype=float)\n",
    "vw_mesh, vw_layout = generate_overlay_viewer(C,\n",
    "                                             lambdas,\n",
    "                                             v, f, \n",
    "                                             Th_hat,\n",
    "                                             initial_ptolemy=False,\n",
    "                                             view_original_edges=True)\n",
    "display(vw_mesh._renderer), display(vw_layout._renderer)"
   ]
  },
  {
   "cell_type": "code",
   "execution_count": null,
   "id": "ced94c3f",
   "metadata": {
    "scrolled": false
   },
   "outputs": [],
   "source": [
    "# View optimized output\n",
    "lambdas = np.loadtxt(os.path.join(output_dir, 'opt_lambdas'), dtype=float)\n",
    "vw_mesh, vw_layout = generate_overlay_viewer(C,\n",
    "                                             lambdas,\n",
    "                                             v, f, \n",
    "                                             Th_hat,\n",
    "                                             initial_ptolemy=False,\n",
    "                                             view_original_edges=True)\n",
    "\n",
    "display(vw_mesh._renderer), display(vw_layout._renderer)"
   ]
  },
  {
   "cell_type": "code",
   "execution_count": null,
   "id": "76e52e96",
   "metadata": {},
   "outputs": [],
   "source": []
  },
  {
   "cell_type": "markdown",
   "id": "77688017",
   "metadata": {},
   "source": [
    "## Two Triangle Mesh"
   ]
  },
  {
   "cell_type": "code",
   "execution_count": null,
   "id": "f07dfb30",
   "metadata": {},
   "outputs": [],
   "source": [
    "v = np.array([[1,0,0],\n",
    "              [0,1,0],\n",
    "              [0,0,1]], dtype=float)\n",
    "f = np.array([[0,1,2],\n",
    "              [0,2,1]],dtype=int)\n",
    "#f = np.array([[0,1,2],],dtype=int)\n",
    "\n",
    "data_dir = '../data/anomaly_meshes'\n",
    "os.makedirs(data_dir, exist_ok=True)\n",
    "m='double_triangle'\n",
    "output_path = os.path.join(data_dir,m+'.obj')\n",
    "igl.write_obj(output_path,v,f)\n"
   ]
  },
  {
   "cell_type": "code",
   "execution_count": null,
   "id": "e0364d09",
   "metadata": {},
   "outputs": [],
   "source": [
    "# View mesh\n",
    "m = 'double_triangle'\n",
    "v, f = igl.read_triangle_mesh(data_dir+'/'+m+'.obj')\n",
    "print(v, f)\n",
    "#plot.plot(v, f, shading={'wireframe': True})\n",
    "\n"
   ]
  },
  {
   "cell_type": "code",
   "execution_count": null,
   "id": "112040d6",
   "metadata": {
    "scrolled": false
   },
   "outputs": [],
   "source": [
    "# Run conformal and optimization method on double triangle\n",
    "data_dir = '../data/anomaly_meshes'\n",
    "output_dir = '../output/anolaly_meshes'\n",
    "os.makedirs(output_dir, exist_ok=True)\n",
    "m = 'double_triangle'\n",
    "\n",
    "# Initialize mesh from the data set with flat target angles\n",
    "v, f = igl.read_triangle_mesh(data_dir+'/'+m+'.obj')\n",
    "Th_hat = [0.5*np.pi/3, 2*np.pi/3, 2*np.pi/3]\n",
    "free_angles = False\n",
    "C, vtx_reindex = fv_to_double(v, f, Th_hat, free_angles)\n",
    "print(C.n)\n",
    "lambdas_init, _ = get_euclidean_target_lambdas(v, f, Th_hat)\n",
    "\n",
    "# Get target lambdas from original mesh\n",
    "lambdas_target, _ = get_euclidean_target_lambdas(v, f, Th_hat)\n",
    "lambdas_target[0] = np.log(40 + 1e-10)\n",
    "#lambdas_init[0] = np.log(40 + 1e-10)\n",
    "\n",
    "\n",
    "proj_params = ProjectionParameters()\n",
    "proj_params.do_reduction = True\n",
    "opt_params = {}\n",
    "opt_params['num_iter'] = 0\n",
    "_, lambdas = optimize_lambdas(C,\n",
    "                              lambdas_init,\n",
    "                              lambdas_init,\n",
    "                              proj_params=proj_params,\n",
    "                              opt_params=opt_params)\n",
    "\n",
    "lambdas = lambdas_from_mesh(C)\n",
    "lambdas[0] = np.log(4 + 1e-10)\n",
    "\n",
    "\n",
    "# View mesh\n",
    "vw_mesh, vw_layout = generate_overlay_viewer(C,\n",
    "                                             lambdas,\n",
    "                                             v, f, \n",
    "                                             Th_hat,\n",
    "                                             initial_ptolemy=False,\n",
    "                                             view_original_edges=True,\n",
    "                                             interpolate_from_original=True)\n",
    "\n",
    "display(vw_mesh._renderer), display(vw_layout._renderer)"
   ]
  },
  {
   "cell_type": "code",
   "execution_count": null,
   "id": "58231b17",
   "metadata": {
    "scrolled": false
   },
   "outputs": [],
   "source": [
    "# Get conformal parametrization\n",
    "v_conf, f_conf, u_param, v_param, ft_conf = conformal_parametrization_vf_double(v,f,Th_hat)\n",
    "uv_conf = np.vstack((u_param,v_param)).T\n",
    "f_conf = np.array(f_conf)\n",
    "ft_conf = np.array(ft_conf)\n",
    "v_conf = np.array(v_conf)\n",
    "v_conf_o = np.zeros((len(uv_conf),3),dtype=np.float64)\n",
    "v_conf_o[ft_conf] = v_conf[f_conf]\n",
    "\n",
    "# Plot parametrization\n",
    "tex = gen_checkers(width=1000,height=1000)\n",
    "vw_mesh = plot.Viewer(dict(width=1000, height=1000))\n",
    "vw_mesh.add_mesh(v_conf_o,\n",
    "                 ft_conf,\n",
    "                 uv=uv_conf,\n",
    "                 shading={\"wireframe\": True, \"flat\": True},\n",
    "                 texture_data=tex)\n",
    "display(vw_mesh._renderer)\n",
    "vw_mesh = plot.Viewer(dict(width=1000, height=1000))\n",
    "vw_mesh.add_mesh(uv_conf,\n",
    "                 ft_conf,\n",
    "                 uv=uv_conf,\n",
    "                 shading={\"wireframe\": True, \"flat\": True},\n",
    "                 texture_data=tex)\n",
    "display(vw_mesh._renderer)\n",
    "\n"
   ]
  },
  {
   "cell_type": "code",
   "execution_count": null,
   "id": "b95502f2",
   "metadata": {},
   "outputs": [],
   "source": [
    "#v_o, f_o, u_o_param, v_o_param, u_param, v_param, ft_o  = mesh_parametrization_VL(v, f, Th_hat, C, lambdas)\n",
    "v_o, f_o, u_o_param, v_o_param, u_param, v_param, ft_o  = layout_lambdas(v, f, Th_hat, C, lambdas)\n",
    "v_o = np.array(v_o)\n",
    "f_o = np.array(f_o)\n",
    "ft_o = np.array(ft_o)\n",
    "\n",
    "# Combine uv coordinates\n",
    "uv_cut_o = np.array([u_param, v_param]).T\n",
    "uv_o = np.array([u_o_param, v_o_param]).T\n",
    "\n",
    "\n",
    "# Get the vertices for the cut mesh\n",
    "v_cut_o = np.zeros((len(uv_cut_o),3),dtype=np.float64)\n",
    "v_cut_o[ft_o] = v_o[f_o]\n"
   ]
  },
  {
   "cell_type": "code",
   "execution_count": null,
   "id": "d127b291",
   "metadata": {},
   "outputs": [],
   "source": [
    "\n",
    "plot.plot(np.array(uv_cut_o), np.array(ft_o), uv=uv_cut_o, shading = {'wireframe': True})"
   ]
  },
  {
   "cell_type": "code",
   "execution_count": null,
   "id": "38b4ce9d",
   "metadata": {},
   "outputs": [],
   "source": [
    "u_param_full, v_param_full, is_cut_o, u_param, v_parm, ft = layout_lambdas_fv(v,\n",
    "                                                                            f,\n",
    "                                                                            Th_hat,\n",
    "                                                                            C,\n",
    "                                                                            lambdas)"
   ]
  },
  {
   "cell_type": "code",
   "execution_count": null,
   "id": "3128ed16",
   "metadata": {},
   "outputs": [],
   "source": [
    "is_cut_o"
   ]
  },
  {
   "cell_type": "code",
   "execution_count": null,
   "id": "441888d3",
   "metadata": {},
   "outputs": [],
   "source": [
    "C_o = build_overlay_mesh(C, lambdas, [], False)"
   ]
  },
  {
   "cell_type": "code",
   "execution_count": null,
   "id": "bf80b394",
   "metadata": {},
   "outputs": [],
   "source": [
    "to = get_to_map(C_o, is_cut_o)"
   ]
  },
  {
   "cell_type": "code",
   "execution_count": null,
   "id": "b21c4dd4",
   "metadata": {},
   "outputs": [],
   "source": [
    "v_o, f_o, u_o_param, v_o_param, u_param, v_param, ft_o = layout_lambdas(v, f, Th_hat, C, lambdas)\n",
    "print(np.array([u_param, v_param]).T)\n",
    "print(np.array([u_o_param, v_o_param]).T)"
   ]
  },
  {
   "cell_type": "code",
   "execution_count": null,
   "id": "c976f715",
   "metadata": {},
   "outputs": [],
   "source": [
    "uv = np.array([u_o_param, v_o_param]).T\n",
    "uv[to]"
   ]
  },
  {
   "cell_type": "code",
   "execution_count": null,
   "id": "e7f80b28",
   "metadata": {},
   "outputs": [],
   "source": [
    "u_param_full, v_param_full, u_param, v_parm, ft = layout_lambdas_fv(v,\n",
    "                                                                    f,\n",
    "                                                                    Th_hat,\n",
    "                                                                    C,\n",
    "                                                                    lambdas)\n",
    "print(np.array([u_param_full, v_param_full]).T)"
   ]
  },
  {
   "cell_type": "code",
   "execution_count": null,
   "id": "789fc5fa",
   "metadata": {
    "scrolled": true
   },
   "outputs": [],
   "source": [
    "v_int = np.array(Interpolate_3d(v, f, Th_hat, C, lambdas))\n",
    "v_int = v_int.T\n",
    "v_int"
   ]
  },
  {
   "cell_type": "code",
   "execution_count": null,
   "id": "b4a3ab7a",
   "metadata": {
    "scrolled": false
   },
   "outputs": [],
   "source": [
    "uv, f_h = build_layout_FV(v, f, Th_hat, C, lambdas)\n",
    "v_h = build_overlay_FV(v, f, Th_hat, C, lambdas)\n",
    "print(f_h), print(v_h[f_h]), print(uv[f_h])"
   ]
  },
  {
   "cell_type": "code",
   "execution_count": null,
   "id": "b33bd044",
   "metadata": {
    "scrolled": false
   },
   "outputs": [],
   "source": [
    "vw_mesh, vw_layout = generate_layout_viewers(v, f, Th_hat, C, lambdas)\n",
    "display(vw_mesh._renderer), display(vw_layout._renderer)"
   ]
  },
  {
   "cell_type": "code",
   "execution_count": null,
   "id": "53409e31",
   "metadata": {},
   "outputs": [],
   "source": [
    "u_param_full, v_param_full, u_param, v_parm, ft = layout_lambdas_nob(np.zeros((len(C.n),3)), C.n, C.opp, [], Th_hat, C, lambdas)\n",
    "\n"
   ]
  },
  {
   "cell_type": "code",
   "execution_count": null,
   "id": "84eea103",
   "metadata": {},
   "outputs": [],
   "source": [
    "C_o = build_overlay_mesh(C, lambdas, [], False)\n",
    "\n",
    "\n",
    "C_o.h\n",
    "uv = np.vstack((u_param_full, v_param_full)).T\n",
    "print(uv)\n",
    "f = np.arange(3*len(C_o.h))\n",
    "f = np.reshape(f, (-1,3))\n",
    "n = np.array(C_o.n)\n",
    "h = np.array(C_o.h)\n",
    "to = np.array(C_o.to)\n",
    "f = np.array([h, n[h], n[n[h]]]).T\n",
    "print(f)\n",
    "plot.plot(uv,f,shading={'wireframe':True})"
   ]
  },
  {
   "cell_type": "code",
   "execution_count": null,
   "id": "f7af7a8f",
   "metadata": {},
   "outputs": [],
   "source": [
    "v_uv = v_int[to]"
   ]
  },
  {
   "cell_type": "code",
   "execution_count": null,
   "id": "bf198e2b",
   "metadata": {
    "scrolled": false
   },
   "outputs": [],
   "source": [
    "plot.plot(v_int, to[f], shading={'wireframe':True})\n",
    "plot.plot(v_uv, f, uv=uv, shading={'wireframe':True})\n",
    "plot.plot(uv, f, uv=uv, shading={'wireframe':True})\n",
    "\n"
   ]
  },
  {
   "cell_type": "code",
   "execution_count": null,
   "id": "bd95cc50",
   "metadata": {
    "scrolled": false
   },
   "outputs": [],
   "source": [
    "# View mesh\n",
    "lambdas[0] = np.log(4)\n",
    "vw_mesh, vw_layout = generate_overlay_viewer(C, lambdas, v, f, Th_hat)\n",
    "display(vw_mesh._renderer), display(vw_layout._renderer)"
   ]
  },
  {
   "cell_type": "markdown",
   "id": "ddfd7c00",
   "metadata": {},
   "source": [
    "## Hand"
   ]
  },
  {
   "cell_type": "code",
   "execution_count": null,
   "id": "21a2fd49",
   "metadata": {},
   "outputs": [],
   "source": [
    "data_dir = '../data/closed-Myles'\n",
    "m='knot1'\n",
    "data_dir = '../data/open-Myles'\n",
    "m='hand'\n",
    "\n",
    "# Initialize mesh from the data set with flat target angles\n",
    "v, f = igl.read_triangle_mesh(data_dir+'/'+m+'.obj')\n",
    "Th_hat = np.loadtxt(data_dir+\"/\"+m+'_Th_hat',dtype=float)\n",
    "Th_hat = map_to_disk(v,f)\n",
    "free_angles = False\n",
    "C, vtx_reindex = fv_to_double(v, f, Th_hat, free_angles)\n",
    "\n",
    "# Get initial (and target) lambdas\n",
    "lambdas_init, _ = get_euclidean_target_lambdas(v, f, Th_hat)\n",
    "#lambdas_init = lambdas_from_mesh(C)\n",
    "lambdas_target = lambdas_init\n",
    "\n"
   ]
  },
  {
   "cell_type": "code",
   "execution_count": null,
   "id": "5e06118d",
   "metadata": {},
   "outputs": [],
   "source": [
    "\n",
    "output_dir = '../output/anomaly_meshes'\n",
    "os.makedirs(output_dir, exist_ok=True)\n",
    "test_anomaly(C, lambdas_init, lambdas_target, v, f, Th_hat, output_dir, num_iter=100)\n"
   ]
  },
  {
   "cell_type": "code",
   "execution_count": null,
   "id": "26909f91",
   "metadata": {},
   "outputs": [],
   "source": [
    "import os, io, cProfile, pstats, pickle, shutil\n",
    "import pymeshlab\n",
    "import sys\n",
    "import igl\n",
    "import meshplot as plot\n",
    "import pickle\n",
    "from init_cm_data import *\n",
    "from conformal_impl.optimization import *\n",
    "#from conformal_impl.layout import *\n",
    "from optimization_py import *\n",
    "from scipy.sparse import csr_matrix\n",
    "#from conformal_impl.finite_diff import *\n",
    "#import conformal_impl.functions_with_jacobians as FWJ\n",
    "#import script_conformal\n",
    "from conformal_py import *\n",
    "from conformal_impl.meshgen import *\n",
    "from analysis import *\n",
    "%load_ext autoreload\n",
    "%autoreload 2\n",
    "from IPython.core.display import HTML, clear_output\n"
   ]
  },
  {
   "cell_type": "code",
   "execution_count": null,
   "id": "d16ba915",
   "metadata": {},
   "outputs": [],
   "source": [
    "data_dir = '../data/open-Myles'\n",
    "m='hand'\n",
    "\n",
    "# Initialize mesh from the data set with flat target angles\n",
    "v, f = igl.read_triangle_mesh(data_dir+'/'+m+'.obj')\n",
    "Th_hat = map_to_disk(v,f)\n",
    "free_angles = True\n",
    "C, vtx_reindex = fv_to_double(v, f, Th_hat, free_angles)\n",
    "\n",
    "# View conformal output\n",
    "output_dir = '../output/anomaly_meshes'\n",
    "lambdas = np.loadtxt(os.path.join(output_dir, 'opt_lambdas'), dtype=float)\n",
    "vw_mesh, vw_layout = generate_overlay_viewer(C,\n",
    "                                             lambdas,\n",
    "                                             v, f,\n",
    "                                             Th_hat,\n",
    "                                             initial_ptolemy=True,\n",
    "                                             view_original_edges=False,\n",
    "                                             interpolate_from_original=False)\n",
    "display(vw_mesh._renderer), display(vw_layout._renderer)"
   ]
  },
  {
   "cell_type": "code",
   "execution_count": null,
   "id": "ccd2a16b",
   "metadata": {},
   "outputs": [],
   "source": [
    "# Run optimization method\n",
    "proj_params = ProjectionParameters()\n",
    "proj_params.do_reduction = True\n",
    "opt_params = {}\n",
    "opt_params['num_iter'] = 100\n",
    "_, lambdas = optimize_lambdas(C,\n",
    "                              lambdas_init,\n",
    "                              lambdas_target,\n",
    "                              proj_params=proj_params,\n",
    "                              opt_params=opt_params)"
   ]
  },
  {
   "cell_type": "code",
   "execution_count": null,
   "id": "2c62bc01",
   "metadata": {
    "scrolled": false
   },
   "outputs": [],
   "source": [
    "vw_mesh, vw_layout = generate_overlay_viewer(C,\n",
    "                                             lambdas,\n",
    "                                             v, f, \n",
    "                                             Th_hat,\n",
    "                                             initial_ptolemy=False,\n",
    "                                             view_original_edges=False,\n",
    "                                             interpolate_from_original=True)\n",
    "display(vw_mesh._renderer), display(vw_layout._renderer)"
   ]
  },
  {
   "cell_type": "markdown",
   "id": "e827f1f3",
   "metadata": {},
   "source": [
    "## Minimal Torus Mesh"
   ]
  },
  {
   "cell_type": "code",
   "execution_count": null,
   "id": "d5680af3",
   "metadata": {},
   "outputs": [],
   "source": [
    "next_he = [1, 2, 0, 4, 5, 3]\n",
    "opp = [3, 4, 5, 0, 1, 2]\n",
    "Th_hat = [2 * np.pi]\n",
    "bnd_loops = []\n",
    "free_angles = True\n",
    "C = nob_to_double(next_he, opp, bnd_loops, Th_hat, free_angles)\n",
    "lambdas_init = lambdas_from_mesh(C)\n",
    "\n",
    "# Get target lambdas from original mesh\n",
    "lambdas_target = lambdas_from_mesh(C)\n",
    "lambdas_target[0] = np.log(4 + 1e-10)\n"
   ]
  },
  {
   "cell_type": "code",
   "execution_count": null,
   "id": "e102d7f1",
   "metadata": {},
   "outputs": [],
   "source": [
    "lambdas_init"
   ]
  },
  {
   "cell_type": "code",
   "execution_count": null,
   "id": "e0b4b438",
   "metadata": {},
   "outputs": [],
   "source": [
    "# Run optimization code with 0 iterations (should be the same as conformal)\n",
    "proj_params = ProjectionParameters()\n",
    "proj_params.do_reduction = True\n",
    "opt_params = {}\n",
    "opt_params['num_iter'] = 0\n",
    "_, lambdas = optimize_lambdas(C,\n",
    "                              lambdas_init,\n",
    "                              lambdas_target,\n",
    "                              proj_params=proj_params,\n",
    "                              opt_params=opt_params)\n",
    "\n",
    "# Run optimization code with 1000 iterations\n",
    "opt_params['min_ratio'] = 1e-10\n",
    "opt_params['num_iter'] = 250\n",
    "opt_params['max_angle'] = 100\n",
    "opt_params['max_grad_range'] = 10\n",
    "_, lambdas = optimize_lambdas(C,\n",
    "                              lambdas_init,\n",
    "                              lambdas_target,\n",
    "                              proj_params=proj_params,\n",
    "                              opt_params=opt_params)\n"
   ]
  },
  {
   "cell_type": "code",
   "execution_count": null,
   "id": "b66a67be",
   "metadata": {},
   "outputs": [],
   "source": [
    "C_o = build_overlay_mesh(C, lambdas, [], False)\n",
    "\n",
    "\n",
    "C_o.h\n",
    "uv = np.vstack((u_param_full, v_param_full)).T\n",
    "print(uv)\n",
    "f = np.arange(3*len(C_o.h))\n",
    "f = np.reshape(f, (-1,3))\n",
    "n = np.array(C_o.n)\n",
    "h = np.array(C_o.h)\n",
    "f = np.array([h, n[h], n[n[h]]]).T\n",
    "print(f)\n",
    "plot.plot(uv,f,shading={'wireframe':True})"
   ]
  },
  {
   "cell_type": "code",
   "execution_count": null,
   "id": "6f7948f9",
   "metadata": {},
   "outputs": [],
   "source": [
    "u_param_full, v_param_full, u_param, v_parm, f = layout_lambdas_nob(np.zeros((10,3)), next_he, opp, bnd_loops, Th_hat, C, lambdas)\n",
    "layout_lambdas_nob(np.zeros((10,3)), next_he, opp, bnd_loops, Th_hat, C, lambdas)\n"
   ]
  },
  {
   "cell_type": "code",
   "execution_count": null,
   "id": "9a8c7cfc",
   "metadata": {},
   "outputs": [],
   "source": [
    "C.to"
   ]
  },
  {
   "cell_type": "markdown",
   "id": "d169a0bc",
   "metadata": {},
   "source": [
    "## Scratch"
   ]
  },
  {
   "cell_type": "code",
   "execution_count": null,
   "id": "f2a10486",
   "metadata": {},
   "outputs": [],
   "source": [
    "# Create square\n",
    "data_dir = '../data/anomaly_meshes'\n",
    "os.makedirs(data_dir, exist_ok=True)\n",
    "# Create hemisphere of height n froma n implicit surface\n",
    "ms = pymeshlab.MeshSet()\n",
    "expr='z'\n",
    "ms.implicit_surface(expr=expr, voxelsize=0.15)\n",
    "ms.simplification_edge_collapse_for_marching_cube_meshes()\n",
    "per = pymeshlab.Percentage(15)\n",
    "ms.remeshing_isotropic_explicit_remeshing(targetlen=per)\n",
    "#ms.merge_close_vertices()\n",
    "\n",
    "# Save file as obj\n",
    "m='double_square'\n",
    "output_path = os.path.join(data_dir,m+'.obj')\n",
    "ms.save_current_mesh(output_path)"
   ]
  },
  {
   "cell_type": "code",
   "execution_count": null,
   "id": "85889491",
   "metadata": {
    "scrolled": true
   },
   "outputs": [],
   "source": [
    "# View mesh\n",
    "data_dir = '../data/anomaly_meshes'\n",
    "m = 'double_square'\n",
    "v, f = igl.read_triangle_mesh(data_dir+'/'+m+'.obj')\n",
    "plot.plot(v,f, shading={'wireframe': True})\n"
   ]
  },
  {
   "cell_type": "code",
   "execution_count": null,
   "id": "d0582cfc",
   "metadata": {
    "scrolled": true
   },
   "outputs": [],
   "source": [
    "Th_hat = map_to_disk(v,f)\n",
    "C, vtx_reindex = fv_to_double(v, f, Th_hat, False)\n",
    "lambdas = lambdas_from_mesh(C)\n",
    "#lambdas = get_euclidean_target_lambdas(v, f, Th_hat)\n",
    "lambdas = np.array(lambdas)\n",
    "#v3d_out, f_out, u_o, v_o, u_o_out, v_o_out, ft_out = mesh_parametrization(v, f, Th_hat, lambdas)\n"
   ]
  },
  {
   "cell_type": "code",
   "execution_count": null,
   "id": "dc602c0a",
   "metadata": {
    "scrolled": false
   },
   "outputs": [],
   "source": [
    "# Run conformal and optimization method on square\n",
    "data_dir = '../data/anomaly_meshes'\n",
    "output_dir = '../output/anolaly_meshes'\n",
    "os.makedirs(output_dir, exist_ok=True)\n",
    "m='square'\n",
    "\n",
    "# Initialize mesh from the data set with flat target angles\n",
    "v, f = igl.read_triangle_mesh(data_dir+'/'+m+'.obj')\n",
    "v[:,0] *= 2\n",
    "C, vtx_reindex = fv_to_double(v, f, Th_hat, False)\n",
    "lambdas, flip_seq = get_euclidean_target_lambdas(v, f, Th_hat)\n",
    "Th_hat = initial_angles(C, lambdas) / (np.pi)\n",
    "Th_hat_new = np.zeros(len(v),dtype=float)\n",
    "Th_hat_new[vtx_reindex] = Th_hat\n",
    "Th_hat = np.array([(np.pi/2)*round(Th_hat_i) for Th_hat_i in Th_hat_new])\n",
    "flip_seq = make_delaunay(C, False)\n",
    "\n",
    "#v, f = igl.read_triangle_mesh(data_dir+'/'+m+'.obj')\n",
    "free_angles = False\n",
    "C, vtx_reindex = fv_to_double(v, f, Th_hat, free_angles)\n",
    "lambdas_init = lambdas_from_mesh(C)\n",
    "#remove_symmetry(C)\n",
    "proj, embed = build_refl_proj(C)\n",
    "he2e, e2he = build_edge_maps(C)\n",
    "proj = np.array(proj)\n",
    "embed = np.array(embed)\n",
    "he2e = np.array(he2e)\n",
    "e2he = np.array(e2he)\n",
    "\n",
    "# Get target lambdas from stretched mesh\n",
    "v_stretch = v.copy()\n",
    "#v_stretch[:,0] *= 2\n",
    "lambdas_target, flip_seq_euc = get_euclidean_target_lambdas(v_stretch, f, Th_hat)\n",
    "#flip_seq_ptolemy = -np.array(flip_seq) - 1\n",
    "#print(len(lambdas_target))\n",
    "#_, lambdas_target_full = flip_edges(C, np.array(lambdas_target)[proj], flip_seq_euc)\n",
    "#print(len(lambdas_target_full))\n",
    "#_, lambdas_target_full = flip_edges(C, np.array(lambdas_target_full), flip_seq_ptolemy[::-1])\n",
    "#print(len(lambdas_target_full))\n",
    "#lambdas_target, flip_seq_euc = get_euclidean_target_lambdas(v_stretch, f, Th_hat)\n",
    "#print(flip_seq)\n",
    "#print(flip_seq_euc)\n",
    "#lambdas_target = np.array(lambdas_target_full)[embed]\n",
    "lambdas = lambdas_target\n",
    "\n",
    "\n",
    "#test_anomaly(C, lambdas_target, lambdas_target, v, f, Th_hat, output_dir, 100)\n",
    "vw_mesh, vw_layout = generate_overlay_viewer(C,\n",
    "                                             lambdas,\n",
    "                                             v, f, \n",
    "                                             Th_hat,\n",
    "                                             initial_ptolemy=False,\n",
    "                                             view_original_edges=False)\n",
    "display(vw_mesh._renderer), display(vw_layout._renderer)"
   ]
  },
  {
   "cell_type": "code",
   "execution_count": null,
   "id": "b68654c2",
   "metadata": {
    "scrolled": false
   },
   "outputs": [],
   "source": [
    "v, f = igl.read_triangle_mesh(data_dir+'/'+m+'.obj')\n",
    "v[:,0] *= 2\n",
    "\n",
    "# Get initial angles as Th_hat\n",
    "C, vtx_reindex = fv_to_double(v, f, Th_hat, False)\n",
    "lambdas, flip_seq = get_euclidean_target_lambdas(v, f, Th_hat)\n",
    "Th_hat = initial_angles(C, lambdas) / (np.pi)\n",
    "Th_hat_new = np.zeros(len(v),dtype=float)\n",
    "Th_hat_new[vtx_reindex] = Th_hat\n",
    "Th_hat = np.array([(np.pi/2)*round(Th_hat_i) for Th_hat_i in Th_hat_new])\n",
    "\n",
    "# Get conformal parametrization\n",
    "v_conf, f_conf, u_param, v_param, ft_conf = conformal_parametrization_vf_double(v,f,Th_hat)\n",
    "uv_conf = np.vstack((u_param,v_param)).T\n",
    "f_conf = np.array(f_conf)\n",
    "ft_conf = np.array(ft_conf)\n",
    "v_conf = np.array(v_conf)\n",
    "v_conf_o = np.zeros((len(uv_conf),3),dtype=np.float64)\n",
    "v_conf_o[ft_conf] = v_conf[f_conf]\n",
    "\n",
    "# Plot parametrization\n",
    "tex = gen_checkers(width=1000,height=1000)\n",
    "vw_mesh = plot.Viewer(dict(width=1000, height=1000))\n",
    "vw_mesh.add_mesh(v_conf_o,\n",
    "                 ft_conf,\n",
    "                 uv=uv_conf,\n",
    "                 shading={\"wireframe\": True, \"flat\": True},\n",
    "                 texture_data=tex)\n",
    "display(vw_mesh._renderer)\n",
    "vw_mesh = plot.Viewer(dict(width=1000, height=1000))\n",
    "vw_mesh.add_mesh(uv_conf,\n",
    "                 ft_conf,\n",
    "                 uv=uv_conf,\n",
    "                 shading={\"wireframe\": True, \"flat\": True},\n",
    "                 texture_data=tex)\n",
    "display(vw_mesh._renderer)\n",
    "\n"
   ]
  },
  {
   "cell_type": "code",
   "execution_count": null,
   "id": "17376768",
   "metadata": {
    "scrolled": true
   },
   "outputs": [],
   "source": [
    "# Run conformal and optimization method on square\n",
    "data_dir = '../data/anomaly_meshes'\n",
    "data_dir = '../data/open-Myles'\n",
    "data_dir = '../data/cut-Myles-simple'\n",
    "output_dir = '../output/anolaly_meshes'\n",
    "os.makedirs(output_dir, exist_ok=True)\n",
    "m='square'\n",
    "m = 'face-YO'\n",
    "m = 'knot1'\n",
    "\n",
    "# Initialize mesh from the data set with flat target angles\n",
    "v, f = igl.read_triangle_mesh(data_dir+'/'+m+'.obj')\n",
    "Th_hat = map_to_disk(v,f)\n",
    "Th_hat = np.loadtxt(data_dir+\"/\"+m+'_Th_hat',dtype=float)\n",
    "free_angles = False\n",
    "C, vtx_reindex = fv_to_double(v, f, Th_hat, free_angles)\n",
    "lambdas_init = lambdas_from_mesh(C)\n",
    "proj, embed = build_refl_proj(C)\n",
    "he2e, e2he = build_edge_maps(C)\n",
    "proj = np.array(proj)\n",
    "embed = np.array(embed)\n",
    "he2e = np.array(he2e)\n",
    "e2he = np.array(e2he)\n",
    "\n",
    "lambdas_target, flip_seq_euc = get_euclidean_target_lambdas(v, f, Th_hat)\n",
    "#lambdas_target = lambdas_init\n",
    "#lambdas_init = lambdas_target\n",
    "\n"
   ]
  },
  {
   "cell_type": "code",
   "execution_count": null,
   "id": "5fa1b756",
   "metadata": {},
   "outputs": [],
   "source": [
    "proj_params = ProjectionParameters()\n",
    "proj_params.do_reduction = True\n",
    "opt_params = {}\n",
    "\n",
    "# Run optimization code with 1000 iterations\n",
    "opt_params['min_ratio'] = 1e-3\n",
    "opt_params['num_iter'] = 1000\n",
    "opt_params['max_angle'] = 100\n",
    "opt_params['max_grad_range'] = 10\n",
    "opt_params['energy_choice'] = 'length_norm'\n",
    "if False:\n",
    "    _, lambdas = optimize_lambdas(C,\n",
    "                                  lambdas_init,\n",
    "                                  lambdas_init,\n",
    "                                  proj_params=proj_params,\n",
    "                                  opt_params=opt_params)\n",
    "else:\n",
    "    _, lambdas = optimize_lambdas(C,\n",
    "                                  lambdas_target,\n",
    "                                  lambdas_target,\n",
    "                                  proj_params=proj_params,\n",
    "                                  opt_params=opt_params)\n",
    "\n"
   ]
  },
  {
   "cell_type": "code",
   "execution_count": null,
   "id": "42bc48ae",
   "metadata": {
    "scrolled": false
   },
   "outputs": [],
   "source": [
    "vw_mesh, vw_layout = generate_overlay_viewer(C,\n",
    "                                             lambdas,\n",
    "                                             v, f, \n",
    "                                             Th_hat,\n",
    "                                             initial_ptolemy=False,\n",
    "                                             view_original_edges=False)\n",
    "display(vw_mesh._renderer), display(vw_layout._renderer)"
   ]
  },
  {
   "cell_type": "code",
   "execution_count": null,
   "id": "5185a789",
   "metadata": {
    "scrolled": false
   },
   "outputs": [],
   "source": [
    "# Get conformal parametrization\n",
    "alg_params = AlgorithmParameters()\n",
    "alg_params.initial_ptolemy = True\n",
    "alg_params.initial_ptolemy = False\n",
    "v_conf, f_conf, u_param, v_param, ft_conf, m_conf, v_overlay_conf = conformal_parametrization_vf_debug(v,f,Th_hat, alg_params=alg_params)\n",
    "uv_conf = np.vstack((u_param,v_param)).T\n",
    "f_conf = np.array(f_conf)\n",
    "ft_conf = np.array(ft_conf)\n",
    "v_conf = np.array(v_conf)\n",
    "v_conf_o = np.zeros((len(uv_conf),3),dtype=np.float64)\n",
    "v_conf_o[ft_conf] = v_conf[f_conf]\n",
    "\n",
    "# Plot parametrization\n",
    "tex = gen_checkers(width=1000,height=1000)\n",
    "vw_mesh = plot.Viewer(dict(width=1000, height=1000))\n",
    "vw_mesh.add_mesh(v_conf_o,\n",
    "                 ft_conf,\n",
    "                 uv=uv_conf,\n",
    "                 shading={\"wireframe\": True, \"flat\": True},\n",
    "                 texture_data=tex)\n",
    "display(vw_mesh._renderer)\n",
    "vw_mesh = plot.Viewer(dict(width=1000, height=1000))\n",
    "vw_mesh.add_mesh(uv_conf,\n",
    "                 ft_conf,\n",
    "                 uv=uv_conf,\n",
    "                 shading={\"wireframe\": True, \"flat\": True},\n",
    "                 texture_data=tex)\n",
    "display(vw_mesh._renderer)\n",
    "\n"
   ]
  },
  {
   "cell_type": "code",
   "execution_count": null,
   "id": "c94d09de",
   "metadata": {},
   "outputs": [],
   "source": [
    "res = mesh_parametrization(v,\n",
    "                             f,\n",
    "                             Th_hat,\n",
    "                             lambdas,\n",
    "                             initial_ptolemy=False,\n",
    "                             interpolate_from_original = True)\n",
    "v_o, f_o, u_p, v_p, u_param, v_param, ft_o, mo, V_overlay = res\n",
    "\n",
    "uv = np.vstack((u_param,v_param)).T\n",
    "\n",
    "uv_p = np.vstack((u_p,v_p)).T"
   ]
  },
  {
   "cell_type": "code",
   "execution_count": null,
   "id": "bb261219",
   "metadata": {},
   "outputs": [],
   "source": [
    "print(np.max(np.abs(v_o - v_conf)))\n",
    "print(np.max(np.abs(f_o - f_conf)))\n",
    "print(np.max(np.abs(ft_o - ft_conf)))\n",
    "print(np.max(np.abs(uv_conf - uv)))\n",
    "print(np.max(np.abs(v_overlay_conf - np.array(V_overlay))))\n",
    "print(np.max(np.abs(mo._m.l - np.array(m_conf._m.l))))\n",
    "print(np.max(np.abs(mo._m.n - np.array(m_conf._m.n))))\n",
    "\n",
    "\n",
    "\n",
    "\n"
   ]
  },
  {
   "cell_type": "code",
   "execution_count": null,
   "id": "40d649c1",
   "metadata": {},
   "outputs": [],
   "source": [
    "res = mesh_parametrization(v,\n",
    "                             f,\n",
    "                             Th_hat,\n",
    "                             lambdas,\n",
    "                             initial_ptolemy=True,\n",
    "                             interpolate_from_original = False)\n",
    "v_o, f_o, u_p, v_p, u_param, v_param, ft_o, mo, V_overlay = res\n",
    "\n",
    "uv = np.vstack((u_param,v_param)).T\n",
    "\n",
    "uv_p = np.vstack((u_p,v_p)).T"
   ]
  },
  {
   "cell_type": "code",
   "execution_count": null,
   "id": "937ea97b",
   "metadata": {
    "scrolled": true
   },
   "outputs": [],
   "source": [
    "_v_o, _f_o, _u_p, _v_p, _u_param, _v_param, _ft_o, _mo, _V_overlay = mesh_parametrization_VL(v, f, Th_hat, C, lambdas)\n",
    "_uv = np.vstack((_u_param,_v_param)).T\n",
    "_uv_p = np.vstack((_u_p,_v_p)).T"
   ]
  },
  {
   "cell_type": "code",
   "execution_count": null,
   "id": "fb36f0d5",
   "metadata": {},
   "outputs": [],
   "source": [
    "print(np.max(np.abs(v_o - _v_o)))\n",
    "print(np.max(np.abs(f_o - _f_o)))\n",
    "print(np.max(np.abs(ft_o - _ft_o)))\n",
    "print(np.max(np.abs(uv - _uv)))\n",
    "print(np.max(np.abs(uv_p - _uv_p)))\n",
    "\n"
   ]
  },
  {
   "cell_type": "code",
   "execution_count": null,
   "id": "391cc159",
   "metadata": {},
   "outputs": [],
   "source": [
    "\n",
    "cones, bd = get_cones_and_bd(v, f, Th_hat, vtx_reindex)\n",
    "u = np.zeros(len(v))\n",
    "_, _, _, u_o, v_o, is_cut_o = get_layout_overlay(mo, u, bd, cones, False, -1)"
   ]
  },
  {
   "cell_type": "code",
   "execution_count": null,
   "id": "066d2ec7",
   "metadata": {},
   "outputs": [],
   "source": [
    "np.max(mo._m.l - np.array(mo._m.l))"
   ]
  },
  {
   "cell_type": "code",
   "execution_count": null,
   "id": "1222ea0f",
   "metadata": {},
   "outputs": [],
   "source": [
    "cones, bd = get_cones_and_bd(v, f, Th_hat, vtx_reindex)\n",
    "u = np.zeros(len(v))\n",
    "_, _, _, _u_o, _v_o, _is_cut_o = get_layout_overlay(_mo, u, bd, cones, False, -1)"
   ]
  },
  {
   "cell_type": "code",
   "execution_count": null,
   "id": "5bbb8a19",
   "metadata": {},
   "outputs": [],
   "source": [
    "print(np.max(_u_o))\n",
    "print(np.max(np.array(u_o)))\n",
    "print(np.max(_u_o - np.array(u_o)))\n",
    "print(np.max(u_o - np.array(u_p)))\n",
    "\n"
   ]
  },
  {
   "cell_type": "code",
   "execution_count": null,
   "id": "7323145c",
   "metadata": {},
   "outputs": [],
   "source": [
    "print(np.max(np.abs(uv_p - _uv_p)))\n",
    "print(np.max(np.abs(_V_overlay - np.array(V_overlay))))\n",
    "print(np.max(np.abs(mo._m.l - np.array(_mo._m.l))))\n",
    "\n",
    "\n"
   ]
  },
  {
   "cell_type": "code",
   "execution_count": null,
   "id": "962109d2",
   "metadata": {},
   "outputs": [],
   "source": [
    "import os, io, cProfile, pstats, pickle, shutil\n",
    "import pymeshlab\n",
    "import sys\n",
    "import igl\n",
    "import meshplot as plot\n",
    "import pickle\n",
    "from init_cm_data import *\n",
    "from conformal_impl.optimization import *\n",
    "#from conformal_impl.layout import *\n",
    "from optimization_py import *\n",
    "from scipy.sparse import csr_matrix\n",
    "#from conformal_impl.finite_diff import *\n",
    "#import conformal_impl.functions_with_jacobians as FWJ\n",
    "#import script_conformal\n",
    "from conformal_py import *\n",
    "from conformal_impl.meshgen import *\n",
    "from analysis import *\n",
    "%load_ext autoreload\n",
    "%autoreload 2\n",
    "from IPython.core.display import HTML, clear_output\n",
    "def get_euclidean_target_lambdas(v, f, Th_hat):\n",
    "    # Get mesh and the embedding for the undoubled mesh\n",
    "    C, _ = fv_to_double(v, f, Th_hat, False)\n",
    "    proj, embed = build_refl_proj(C)\n",
    "    proj = np.array(proj)\n",
    "    embed = np.array(embed)\n",
    "\n",
    "    # Remove the symmetry structure\n",
    "    # WARNING: This changes the embedding. It is important to remove the\n",
    "    # symmetry after getting the embedding.\n",
    "    #remove_symmetry(C)\n",
    "    \n",
    "    # Get target lengths after Euclidean flips and flip sequence\n",
    "    flip_seq = make_delaunay(C, False)\n",
    "    he2e, e2he = build_edge_maps(C) \n",
    "    lambdas_target_flipped = 2*np.log(C.l)[e2he]\n",
    "    \n",
    "    # Convert Euclidean flip sequence to Ptolemy sequence\n",
    "    flip_seq_ptolemy = (-np.array(flip_seq) - 1)\n",
    "\n",
    "    # Flip edges with Ptolemy flips to get the lengths for the original connectivity\n",
    "    _, lambdas_target_full = flip_edges(C,\n",
    "                                        lambdas_target_flipped,\n",
    "                                        flip_seq_ptolemy[::-1])\n",
    "    \n",
    "    # Return the embedded lambda lengths\n",
    "    return np.array(lambdas_target_full)[embed], flip_seq_ptolemy\n",
    "\n"
   ]
  },
  {
   "cell_type": "code",
   "execution_count": null,
   "id": "3b8f922b",
   "metadata": {
    "scrolled": true
   },
   "outputs": [],
   "source": [
    "tup = mesh_parametrization(v, f, \n",
    "                           Th_hat,\n",
    "                           lambdas_target,\n",
    "                           initial_ptolemy=False)\n",
    "plot.plot(tup[0], tup[1])"
   ]
  },
  {
   "cell_type": "code",
   "execution_count": null,
   "id": "4dd6c054",
   "metadata": {},
   "outputs": [],
   "source": [
    "v, f = igl.read_triangle_mesh(data_dir+'/'+m+'.obj')\n",
    "Th_hat = map_to_disk(v,f)\n",
    "free_angles = True\n",
    "C, vtx_reindex = fv_to_double(v, f, Th_hat, free_angles)\n",
    "make_delaunay(C, False)\n",
    "\n"
   ]
  },
  {
   "cell_type": "code",
   "execution_count": null,
   "id": "43db838d",
   "metadata": {},
   "outputs": [],
   "source": [
    "# View conformal output\n",
    "lambdas = np.loadtxt(os.path.join(output_dir, 'opt_lambdas'), dtype=float)\n",
    "vw_mesh, vw_layout = generate_overlay_viewer(C, lambdas_target, v_stretch, f, Th_hat)\n",
    "display(vw_mesh._renderer), display(vw_layout._renderer)"
   ]
  },
  {
   "cell_type": "code",
   "execution_count": null,
   "id": "95c28843",
   "metadata": {},
   "outputs": [],
   "source": [
    "v_cut_o, ft_o, uv_cut_o = build_overlay_layout_FV(C, lambdas, v, f, Th_hat)\n",
    "Th_hat_o = np.zeros(len(v_cut_o))\n",
    "C_o, vtx_reindex = fv_to_double(v_cut_o, ft_o, Th_hat_o, False)\n",
    "lambdas_v_cut_o = lambdas_from_mesh(C_o)\n",
    "uv_stack = np.zeros((len(uv_cut_o),3))\n",
    "uv_stack[:,:2] = uv_cut_o\n",
    "C_o, vtx_reindex = fv_to_double(uv_stack, ft_o, Th_hat_o, False)\n",
    "lambdas_uv_cut_o = lambdas_from_mesh(C_o)\n",
    "lambdas_diff = lambdas_v_cut_o - lambdas_uv_cut_o - (lambdas_v_cut_o[0] - lambdas_uv_cut_o[0])\n",
    "diff_edges = np.where(lambdas_diff > 1e-10)\n",
    "diff_edges\n",
    "print(lambdas_diff)"
   ]
  },
  {
   "cell_type": "code",
   "execution_count": null,
   "id": "a8324736",
   "metadata": {
    "scrolled": true
   },
   "outputs": [],
   "source": [
    "he2v = get_edges(v, f, Th_hat, C, lambdas)\n",
    "he2v = np.array(he2v)\n",
    "he2v = he2v[np.logical_and((he2v[:,0] != -1), (he2v[:,1] != -1))]\n",
    "to = np.array(C.v_rep)[np.array(C.to)]\n",
    "#v_lengths = np.linalg.norm(v[to] - v[to[C.opp]],axis=1)\n",
    "v_lengths = np.linalg.norm(v_cut_o[he2v[:,0]] - v_cut_o[he2v[:,1]],axis=1)\n",
    "uv_lengths = np.linalg.norm(uv_cut_o[he2v[:,0]] - uv_cut_o[he2v[:,1]],axis=1)\n",
    "lengths_diff = v_lengths - uv_lengths*(np.average(v_lengths)/np.average(uv_lengths))\n",
    "lengths_diff = v_lengths - uv_lengths\n",
    "diff_edges = (np.abs(lengths_diff) > 1e-10)\n",
    "diff_v = he2v[diff_edges]\n",
    "print(lengths_diff)\n",
    "#print(diff_edges)\n",
    "#print(diff_v)\n",
    "vw_mesh = plot.Viewer(dict(width=1000, height=1000))\n",
    "vw_mesh.add_mesh(v_cut_o,\n",
    "                 ft_o,\n",
    "                 shading={\"wireframe\": True, \"flat\": True})\n",
    "vw_mesh.add_lines(v_cut_o[diff_v[:,0]],\n",
    "                  v_cut_o[diff_v[:,1]],\n",
    "                  shading={\"line_color\": \"red\", \"line_width\": 20}) \n",
    "display(vw_mesh._renderer)"
   ]
  },
  {
   "cell_type": "code",
   "execution_count": null,
   "id": "0e7586e6",
   "metadata": {},
   "outputs": [],
   "source": [
    "uv, f_h = build_layout_FV(v, f, Th_hat, C, lambdas)\n",
    "v_h = build_overlay_FV(v, f, Th_hat, C, lambdas)\n",
    "f_flat = np.concatenate((f_h[:,[0,1]],f_h[:,[1,2]],f_h[:,[2,0]]))\n",
    "f_flat\n",
    "uv_length = np.linalg.norm(uv[f_h[:,0]] - uv[f_h[:,1]],axis=1)\n",
    "v_length = np.linalg.norm(v_h[f_h[:,0]] - v_h[f_h[:,1]],axis=1)\n",
    "uv_length - v_length"
   ]
  },
  {
   "cell_type": "code",
   "execution_count": null,
   "id": "cc7e974e",
   "metadata": {},
   "outputs": [],
   "source": [
    "v_h, v"
   ]
  },
  {
   "cell_type": "code",
   "execution_count": null,
   "id": "9c7035bf",
   "metadata": {
    "scrolled": true
   },
   "outputs": [],
   "source": [
    "# View conformal output\n",
    "lambdas = np.loadtxt(os.path.join(output_dir, 'opt_lambdas'), dtype=float)\n",
    "#vw_mesh, vw_layout = generate_overlay_viewer(C, lambdas, v, f, Th_hat)\n",
    "vw_mesh, vw_layout = generate_layout_viewers(v, f, Th_hat, C, lambdas)\n",
    "display(vw_mesh._renderer), display(vw_layout._renderer)"
   ]
  },
  {
   "cell_type": "code",
   "execution_count": null,
   "id": "c3cd8d48",
   "metadata": {},
   "outputs": [],
   "source": [
    "uv, f_h = build_layout_FV(v, f, Th_hat, C, lambdas)\n",
    "v_h = build_overlay_FV(v, f, Th_hat, C, lambdas)\n"
   ]
  },
  {
   "cell_type": "code",
   "execution_count": null,
   "id": "42701881",
   "metadata": {},
   "outputs": [],
   "source": []
  },
  {
   "cell_type": "code",
   "execution_count": null,
   "id": "2f03fd0d",
   "metadata": {
    "scrolled": false
   },
   "outputs": [],
   "source": [
    "vw_mesh, vw_layout = generate_layout_viewers(v, f, Th_hat, C, lambdas)\n",
    "display(vw_mesh._renderer), display(vw_layout._renderer)"
   ]
  },
  {
   "cell_type": "code",
   "execution_count": null,
   "id": "d34f5246",
   "metadata": {
    "scrolled": false
   },
   "outputs": [],
   "source": [
    "# View optimized output\n",
    "lambdas = np.loadtxt(os.path.join(output_dir, 'opt_lambdas'), dtype=float)\n",
    "vw_mesh, vw_layout = generate_overlay_viewer(C, lambdas, v, f, Th_hat)\n",
    "display(vw_mesh._renderer), display(vw_layout._renderer)"
   ]
  }
 ],
 "metadata": {
  "kernelspec": {
   "display_name": "Python 3",
   "language": "python",
   "name": "python3"
  },
  "language_info": {
   "codemirror_mode": {
    "name": "ipython",
    "version": 3
   },
   "file_extension": ".py",
   "mimetype": "text/x-python",
   "name": "python",
   "nbconvert_exporter": "python",
   "pygments_lexer": "ipython3",
   "version": "3.9.4"
  }
 },
 "nbformat": 4,
 "nbformat_minor": 5
}
